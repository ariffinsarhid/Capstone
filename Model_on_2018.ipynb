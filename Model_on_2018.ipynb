{
  "nbformat": 4,
  "nbformat_minor": 0,
  "metadata": {
    "colab": {
      "name": "Model on 2018.ipynb",
      "provenance": [],
      "authorship_tag": "ABX9TyM/5yZwwR6hKGRrUFACEn6h",
      "include_colab_link": true
    },
    "kernelspec": {
      "name": "python3",
      "display_name": "Python 3"
    },
    "language_info": {
      "name": "python"
    }
  },
  "cells": [
    {
      "cell_type": "markdown",
      "metadata": {
        "id": "view-in-github",
        "colab_type": "text"
      },
      "source": [
        "<a href=\"https://colab.research.google.com/github/ariffinsarhid/Predicting-Airline-On-Time-Performance-In-Progress-/blob/main/Model_on_2018.ipynb\" target=\"_parent\"><img src=\"https://colab.research.google.com/assets/colab-badge.svg\" alt=\"Open In Colab\"/></a>"
      ]
    },
    {
      "cell_type": "code",
      "execution_count": 1,
      "metadata": {
        "id": "tUZrsVz5W1Qr"
      },
      "outputs": [],
      "source": [
        "import pandas as pd\n",
        "import numpy as np\n",
        "import seaborn as sns\n",
        "import matplotlib.pyplot as plt\n",
        "import warnings\n",
        "warnings.simplefilter(action = 'ignore')\n",
        "import io\n",
        "\n",
        "from sklearn.model_selection import GridSearchCV, train_test_split, cross_val_score\n",
        "from sklearn.preprocessing import StandardScaler, MinMaxScaler\n",
        "from sklearn.linear_model import LogisticRegression\n",
        "from sklearn.ensemble import RandomForestClassifier, GradientBoostingClassifier\n",
        "from sklearn.preprocessing import MinMaxScaler, OneHotEncoder\n",
        "from sklearn.metrics import roc_curve, RocCurveDisplay, roc_auc_score\n",
        "from sklearn.metrics import plot_confusion_matrix, classification_report, confusion_matrix, ConfusionMatrixDisplay\n",
        "from sklearn.base import BaseEstimator, TransformerMixin\n",
        "from imblearn.over_sampling import SMOTE, RandomOverSampler\n",
        "from imblearn.under_sampling import RandomUnderSampler\n",
        "from imblearn.pipeline import make_pipeline\n",
        "\n",
        "\n",
        "from sklearn.decomposition import PCA\n",
        "from sklearn.neighbors import KNeighborsClassifier\n",
        "from imblearn.under_sampling import EditedNearestNeighbours\n",
        "from imblearn.over_sampling import SMOTE"
      ]
    },
    {
      "cell_type": "code",
      "source": [
        "url_1 = 'https://raw.githubusercontent.com/ariffinsarhid/Predicting-Airline-On-Time-Performance-In-Progress-/main/Data/final_table.csv'\n",
        "\n",
        "df = pd.read_csv(url_1, index_col='flightdate')\n",
        "df = df.drop(columns= 'Unnamed: 0')"
      ],
      "metadata": {
        "id": "s4_MNzMiW-GI"
      },
      "execution_count": 2,
      "outputs": []
    },
    {
      "cell_type": "code",
      "source": [
        "df = pd.get_dummies(df, columns = ['airline', 'origincity', 'destcity'])"
      ],
      "metadata": {
        "id": "DpZS_26SXXut"
      },
      "execution_count": 3,
      "outputs": []
    },
    {
      "cell_type": "code",
      "source": [
        "df_2018 = df[(df['year'] == 2018)]\n",
        "df_2018.info()"
      ],
      "metadata": {
        "colab": {
          "base_uri": "https://localhost:8080/"
        },
        "id": "nBtfM1yfXX6O",
        "outputId": "14faf373-134d-42b9-a703-10eab9f1eebd"
      },
      "execution_count": 4,
      "outputs": [
        {
          "output_type": "stream",
          "name": "stdout",
          "text": [
            "<class 'pandas.core.frame.DataFrame'>\n",
            "Index: 38130 entries, 10/04/18 to 09/02/18\n",
            "Columns: 721 entries, year to destcity_Yuma\n",
            "dtypes: float64(4), int64(14), uint8(703)\n",
            "memory usage: 31.1+ MB\n"
          ]
        }
      ]
    },
    {
      "cell_type": "code",
      "source": [
        "x3 = df_2018.drop(['arrdel15'],axis= 1)\n",
        "y3 = df_2018.arrdel15\n",
        "\n",
        "#train test split\n",
        "x_train, x_test, y_train, y_test = train_test_split(x3, y3, stratify=y3, random_state = 42)\n",
        "\n",
        "\n",
        "print(x_train.shape, y_train.shape)"
      ],
      "metadata": {
        "colab": {
          "base_uri": "https://localhost:8080/"
        },
        "id": "y0NLumt5XX-J",
        "outputId": "94c5a203-0127-4d5a-929e-276a401102ba"
      },
      "execution_count": 5,
      "outputs": [
        {
          "output_type": "stream",
          "name": "stdout",
          "text": [
            "(28597, 720) (28597,)\n"
          ]
        }
      ]
    },
    {
      "cell_type": "code",
      "source": [
        "y3.value_counts()"
      ],
      "metadata": {
        "colab": {
          "base_uri": "https://localhost:8080/"
        },
        "id": "kYgpPnJhXYB0",
        "outputId": "dd3d1f8c-cc5e-4fbf-f275-2f4d7dd0897d"
      },
      "execution_count": 6,
      "outputs": [
        {
          "output_type": "execute_result",
          "data": {
            "text/plain": [
              "0.0    30825\n",
              "1.0     7305\n",
              "Name: arrdel15, dtype: int64"
            ]
          },
          "metadata": {},
          "execution_count": 6
        }
      ]
    },
    {
      "cell_type": "code",
      "source": [
        "y3.shape"
      ],
      "metadata": {
        "colab": {
          "base_uri": "https://localhost:8080/"
        },
        "id": "LR07YuvwXYDa",
        "outputId": "2ce5c574-0be7-4756-d366-42d68576e82d"
      },
      "execution_count": 7,
      "outputs": [
        {
          "output_type": "execute_result",
          "data": {
            "text/plain": [
              "(38130,)"
            ]
          },
          "metadata": {},
          "execution_count": 7
        }
      ]
    },
    {
      "cell_type": "code",
      "source": [
        "def score(model,x_train, x_test):\n",
        "    \n",
        "    \"\"\"\n",
        "    This function scores the model by returning the confusion matrix and classification report of the model\n",
        "    \n",
        "    \"\"\"\n",
        "    \n",
        "    # Get predictions\n",
        "    preds = model.predict(x_test)\n",
        "    cm = confusion_matrix(y_test, preds)\n",
        "    ConfusionMatrixDisplay(cm, display_labels=['Flight Not Delay','Flight Delay']).plot(cmap='GnBu')\n",
        "\n",
        "    print(\"Training Score:\",model.score(x_train,y_train))\n",
        "    print(\"Testing Score:\",model.score(x_test,y_test))\n",
        "    print(\"\\n\")\n",
        "    print(classification_report(y_test, preds)) "
      ],
      "metadata": {
        "id": "5HGP0ZN9XYOb"
      },
      "execution_count": 8,
      "outputs": []
    },
    {
      "cell_type": "code",
      "source": [
        "def roc(model, model_name, x_train, x_test): \n",
        "    \n",
        "    \"\"\"\n",
        "    This function generates the ROC/AUC curve of the model.\n",
        "    \n",
        "    Due to the imbalanced nature of the data, the preferred metrics for this project is ROC/AUC.\n",
        "    \n",
        "    \"\"\"      \n",
        "    \n",
        "    plt.figure(figsize=(16,10))\n",
        "    \n",
        "    # Predict probabilities from X_test\n",
        "    df = pd.DataFrame(model.predict_proba(x_test))\n",
        "    preds = df.drop(columns=0)\n",
        "    \n",
        "    # \n",
        "    fpr, tpr, _ = roc_curve(y_test, preds)\n",
        "    auc = roc_auc_score(y_test, preds)\n",
        "\n",
        "    df2 = pd.DataFrame(model.predict_proba(x_train))\n",
        "    preds2 = df2.drop(columns=0)\n",
        "    fpr2, tpr2, _ = roc_curve(y_train, preds2)\n",
        "    auc2 = roc_auc_score(y_train, preds2)\n",
        "    \n",
        "    with sns.axes_style(style=\"darkgrid\"):\n",
        "        plt.plot(fpr,tpr,color='orange',label=\"%s test, auc=%s\" %(model_name, format(auc,\".3f\")))\n",
        "        plt.plot(fpr2,tpr2,color='blue',label=\"%s train, auc=%s\" %(model_name, format(auc2,\".3f\")))\n",
        "        plt.plot(y_test,y_test,color='gray',linestyle=':') #baseline 50%\n",
        "    plt.legend(loc='lower right')    \n",
        "    \n",
        "    sns.despine(left=True,bottom=True)"
      ],
      "metadata": {
        "id": "7i80-ok1XYRc"
      },
      "execution_count": 9,
      "outputs": []
    },
    {
      "cell_type": "code",
      "source": [
        "preprocess_pipe = make_pipeline(MinMaxScaler())"
      ],
      "metadata": {
        "id": "wO7yIRq5XYV0"
      },
      "execution_count": 10,
      "outputs": []
    },
    {
      "cell_type": "code",
      "source": [
        "#create pipeline\n",
        "lr_pipe = make_pipeline(SMOTE(random_state = 42), \n",
        "                        LogisticRegression(max_iter=200, random_state = 42)\n",
        "                       )\n",
        "    \n",
        "\n",
        "# define grid params for logistic regression\n",
        "lr_params = {\n",
        "    'logisticregression__C': [0.02, 0.05, 0.1],\n",
        "    'logisticregression__solver' : ['newton-cg','saga', 'sag', 'lbfgs'],\n",
        "    'logisticregression__multi_class': ['multinomial', 'ovr', 'auto'],\n",
        "    'logisticregression__penalty':['l1','l2','elasticnet'],\n",
        "    'logisticregression__l1_ratio':[None, 0.25,0.5,0.75],\n",
        "    'logisticregression__class_weight':[None, 'balanced']\n",
        "}\n",
        "\n",
        "# Instantiate GridSearchCV\n",
        "# Due to imbalanced data, scoring = roc & auc\n",
        "grid_lr = GridSearchCV(lr_pipe, param_grid = lr_params, verbose = 1, n_jobs=-1, cv=3, scoring='roc_auc')"
      ],
      "metadata": {
        "id": "Gr6FGDNYXYXr"
      },
      "execution_count": 11,
      "outputs": []
    },
    {
      "cell_type": "code",
      "source": [
        "x_train_t = preprocess_pipe.fit_transform(x_train)\n",
        "x_test_t = preprocess_pipe.transform(x_test)"
      ],
      "metadata": {
        "id": "ZoPMLFRjXYaj"
      },
      "execution_count": 12,
      "outputs": []
    },
    {
      "cell_type": "code",
      "source": [
        "grid_lr.fit(x_train_t,y_train)"
      ],
      "metadata": {
        "colab": {
          "base_uri": "https://localhost:8080/"
        },
        "id": "5fyb8TWNXYde",
        "outputId": "49078059-2c08-4fab-9a84-c1e7830a3541"
      },
      "execution_count": null,
      "outputs": [
        {
          "output_type": "stream",
          "name": "stdout",
          "text": [
            "Fitting 3 folds for each of 864 candidates, totalling 2592 fits\n"
          ]
        }
      ]
    },
    {
      "cell_type": "code",
      "source": [
        "print(\"best score\", grid_lr.best_score_)\n",
        "print(\"best params\", grid_lr.best_params_)"
      ],
      "metadata": {
        "id": "uBWytB3sXYgV"
      },
      "execution_count": null,
      "outputs": []
    },
    {
      "cell_type": "code",
      "source": [
        "score(grid_lr, x_train_t, x_test_t)"
      ],
      "metadata": {
        "id": "jfLCHcOOXYjL"
      },
      "execution_count": null,
      "outputs": []
    },
    {
      "cell_type": "code",
      "source": [
        "roc(grid_lr,\"LogisticRegression\", x_train_t, x_test_t)"
      ],
      "metadata": {
        "id": "vwYMNE5bXYmM"
      },
      "execution_count": null,
      "outputs": []
    },
    {
      "cell_type": "code",
      "source": [
        "##random forest"
      ],
      "metadata": {
        "id": "ajK3jeVtXYpI"
      },
      "execution_count": null,
      "outputs": []
    },
    {
      "cell_type": "code",
      "source": [
        "# create modelling pipeline with SMOTE to deal with imbalanced classes\n",
        "\n",
        "rf_pipe = make_pipeline(SMOTE(random_state=42),\n",
        "                           \n",
        "                           ### Insert Model here for future modelling ###\n",
        "                           \n",
        "                           RandomForestClassifier(random_state=42),\n",
        "                          )\n",
        "\n",
        "# define grid params for random forest classifier\n",
        "rf_params = {\n",
        "    'randomforestclassifier__n_estimators':[20,50,100],\n",
        "    'randomforestclassifier__max_depth':[5,20,50],\n",
        "    'randomforestclassifier__criterion':['gini','entropy'],\n",
        "    'randomforestclassifier__max_leaf_nodes':[5,10,15],\n",
        "    'randomforestclassifier__class_weight':['balanced','balanced_subsample'],\n",
        "}\n",
        "\n",
        "# Instantiate GridSearchCV\n",
        "# Due to imbalanced data, scoring = roc & auc\n",
        "grid_rf = GridSearchCV(rf_pipe, param_grid = rf_params, verbose = 1, n_jobs=-1, cv=5, scoring='roc_auc')"
      ],
      "metadata": {
        "id": "i0dXLnbcXYsJ"
      },
      "execution_count": null,
      "outputs": []
    },
    {
      "cell_type": "code",
      "source": [
        "grid_rf.fit(x_train_t,y_train)"
      ],
      "metadata": {
        "id": "eJA9pr07XYvT"
      },
      "execution_count": null,
      "outputs": []
    },
    {
      "cell_type": "code",
      "source": [
        "print(\"best score\", grid_rf.best_score_)\n",
        "print(\"best params\", grid_rf.best_params_)"
      ],
      "metadata": {
        "id": "SNICn2fHaIKD"
      },
      "execution_count": null,
      "outputs": []
    },
    {
      "cell_type": "code",
      "source": [
        "score(grid_rf, x_train_t, x_test_t)"
      ],
      "metadata": {
        "id": "vAVoU_TmaIM7"
      },
      "execution_count": null,
      "outputs": []
    },
    {
      "cell_type": "code",
      "source": [
        "roc(grid_rf,\"RandomForestClassifier\", x_train_t, x_test_t)"
      ],
      "metadata": {
        "id": "tzfX5QkQaIPZ"
      },
      "execution_count": null,
      "outputs": []
    },
    {
      "cell_type": "code",
      "source": [
        "## Gradient Boost"
      ],
      "metadata": {
        "id": "U5SOc75caISU"
      },
      "execution_count": null,
      "outputs": []
    },
    {
      "cell_type": "code",
      "source": [
        "# create modelling pipeline with SMOTE to deal with imbalanced classes\n",
        "\n",
        "gb_pipe = make_pipeline(SMOTE(random_state=42),\n",
        "                           \n",
        "                           ### Insert Model here for future modelling ###\n",
        "                           \n",
        "                           GradientBoostingClassifier(random_state=42,\n",
        "                                                      n_iter_no_change=3)\n",
        "                          )\n",
        "\n",
        "\n",
        "# define grid params for gradient boosting\n",
        "gb_params = {\n",
        "    'gradientboostingclassifier__learning_rate': [0.1, 0.2, 0.3],\n",
        "    'gradientboostingclassifier__criterion' : ['friedman_mse','mse'],\n",
        "    'gradientboostingclassifier__n_estimators': [20,50,100],\n",
        "    'gradientboostingclassifier__max_features':['sqrt','log2'],\n",
        "    'gradientboostingclassifier__loss':['deviance','exponential']\n",
        "}\n",
        "\n",
        "        \n",
        "# Instantiate GridSearchCV\n",
        "# Due to imbalanced data, scoring = roc & auc\n",
        "grid_gb = GridSearchCV(gb_pipe, param_grid = gb_params, verbose = 1, n_jobs=-1, cv=5, scoring='roc_auc')"
      ],
      "metadata": {
        "id": "liNqPACfaIUh"
      },
      "execution_count": null,
      "outputs": []
    },
    {
      "cell_type": "code",
      "source": [
        "grid_gb.fit(x_train_t,y_train)"
      ],
      "metadata": {
        "id": "SwVMMJJqaIXC"
      },
      "execution_count": null,
      "outputs": []
    },
    {
      "cell_type": "code",
      "source": [
        "print(\"best score\", grid_gb.best_score_)\n",
        "print(\"best params\", grid_gb.best_params_)"
      ],
      "metadata": {
        "id": "abIyjWw1aIZ8"
      },
      "execution_count": null,
      "outputs": []
    },
    {
      "cell_type": "code",
      "source": [
        "score(grid_gb, x_train_t, x_test_t)"
      ],
      "metadata": {
        "id": "R3hybAEvXYyP"
      },
      "execution_count": null,
      "outputs": []
    },
    {
      "cell_type": "code",
      "source": [
        "roc(grid_gb,\"GradientBoostClassifier\", x_train_t, x_test_t)"
      ],
      "metadata": {
        "id": "pWpuNCkAXY28"
      },
      "execution_count": null,
      "outputs": []
    },
    {
      "cell_type": "code",
      "source": [
        ""
      ],
      "metadata": {
        "id": "DoeE93lDXY6D"
      },
      "execution_count": null,
      "outputs": []
    },
    {
      "cell_type": "code",
      "source": [
        ""
      ],
      "metadata": {
        "id": "EPCWBIMKXY-J"
      },
      "execution_count": null,
      "outputs": []
    },
    {
      "cell_type": "code",
      "source": [
        ""
      ],
      "metadata": {
        "id": "eQOH5mnOXZBT"
      },
      "execution_count": null,
      "outputs": []
    },
    {
      "cell_type": "code",
      "source": [
        ""
      ],
      "metadata": {
        "id": "sVMoPMcmXZEn"
      },
      "execution_count": null,
      "outputs": []
    },
    {
      "cell_type": "code",
      "source": [
        ""
      ],
      "metadata": {
        "id": "BKcDifquXZGK"
      },
      "execution_count": null,
      "outputs": []
    }
  ]
}