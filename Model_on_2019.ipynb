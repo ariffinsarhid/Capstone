{
  "nbformat": 4,
  "nbformat_minor": 0,
  "metadata": {
    "colab": {
      "name": "Model on 2019.ipynb",
      "provenance": [],
      "authorship_tag": "ABX9TyPT8CWvqUrLd/iDAEr+hSAM",
      "include_colab_link": true
    },
    "kernelspec": {
      "name": "python3",
      "display_name": "Python 3"
    },
    "language_info": {
      "name": "python"
    }
  },
  "cells": [
    {
      "cell_type": "markdown",
      "metadata": {
        "id": "view-in-github",
        "colab_type": "text"
      },
      "source": [
        "<a href=\"https://colab.research.google.com/github/ariffinsarhid/Predicting-Airline-On-Time-Performance-In-Progress-/blob/main/Model_on_2019.ipynb\" target=\"_parent\"><img src=\"https://colab.research.google.com/assets/colab-badge.svg\" alt=\"Open In Colab\"/></a>"
      ]
    },
    {
      "cell_type": "code",
      "execution_count": 1,
      "metadata": {
        "id": "tisgBlFbK8-Z"
      },
      "outputs": [],
      "source": [
        "import pandas as pd\n",
        "import numpy as np\n",
        "import seaborn as sns\n",
        "import matplotlib.pyplot as plt\n",
        "import warnings\n",
        "warnings.simplefilter(action = 'ignore')\n",
        "import io\n",
        "\n",
        "from sklearn.model_selection import GridSearchCV, train_test_split, cross_val_score\n",
        "from sklearn.preprocessing import StandardScaler, MinMaxScaler\n",
        "from sklearn.linear_model import LogisticRegression\n",
        "from sklearn.ensemble import RandomForestClassifier, GradientBoostingClassifier\n",
        "from sklearn.preprocessing import MinMaxScaler, OneHotEncoder\n",
        "from sklearn.metrics import roc_curve, RocCurveDisplay, roc_auc_score\n",
        "from sklearn.metrics import plot_confusion_matrix, classification_report, confusion_matrix, ConfusionMatrixDisplay\n",
        "from sklearn.base import BaseEstimator, TransformerMixin\n",
        "from imblearn.over_sampling import SMOTE, RandomOverSampler\n",
        "from imblearn.under_sampling import RandomUnderSampler\n",
        "from imblearn.pipeline import make_pipeline\n",
        "\n",
        "\n",
        "from sklearn.decomposition import PCA\n",
        "from sklearn.neighbors import KNeighborsClassifier\n",
        "from imblearn.under_sampling import EditedNearestNeighbours\n",
        "from imblearn.over_sampling import SMOTE"
      ]
    },
    {
      "cell_type": "code",
      "source": [
        "url_1 = 'https://raw.githubusercontent.com/ariffinsarhid/Predicting-Airline-On-Time-Performance-In-Progress-/main/Data/final_table.csv'\n",
        "\n",
        "df = pd.read_csv(url_1, index_col='flightdate')\n",
        "df = df.drop(columns= 'Unnamed: 0')"
      ],
      "metadata": {
        "id": "Abymix-0LEPp"
      },
      "execution_count": 2,
      "outputs": []
    },
    {
      "cell_type": "code",
      "source": [
        "df = pd.get_dummies(df, columns = ['airline', 'origincity', 'destcity'])"
      ],
      "metadata": {
        "id": "2jLcNFZ2Lx2j"
      },
      "execution_count": 3,
      "outputs": []
    },
    {
      "cell_type": "code",
      "source": [
        "df_2019 = df[(df['year'] == 2019)]\n",
        "df_2019.info()"
      ],
      "metadata": {
        "colab": {
          "base_uri": "https://localhost:8080/"
        },
        "id": "4PNIeodKUYrJ",
        "outputId": "9f06bca5-4866-46e9-b3e9-e96aec38dfd9"
      },
      "execution_count": 4,
      "outputs": [
        {
          "output_type": "stream",
          "name": "stdout",
          "text": [
            "<class 'pandas.core.frame.DataFrame'>\n",
            "Index: 39344 entries, 11/06/19 to 22/06/19\n",
            "Columns: 721 entries, year to destcity_Yuma\n",
            "dtypes: float64(4), int64(14), uint8(703)\n",
            "memory usage: 32.1+ MB\n"
          ]
        }
      ]
    },
    {
      "cell_type": "code",
      "source": [
        "x2 = df_2019.drop(['arrdel15'],axis= 1)\n",
        "y2 = df_2019.arrdel15\n",
        "\n",
        "#train test split\n",
        "x_train, x_test, y_train, y_test = train_test_split(x2, y2, stratify=y2, random_state = 42)\n",
        "\n",
        "\n",
        "print(x_train.shape, y_train.shape)"
      ],
      "metadata": {
        "colab": {
          "base_uri": "https://localhost:8080/"
        },
        "id": "fZyDOhItUcOG",
        "outputId": "6b22f9b4-84ec-4e41-a1f8-405090b469e8"
      },
      "execution_count": 5,
      "outputs": [
        {
          "output_type": "stream",
          "name": "stdout",
          "text": [
            "(29508, 720) (29508,)\n"
          ]
        }
      ]
    },
    {
      "cell_type": "code",
      "source": [
        "y2.value_counts()"
      ],
      "metadata": {
        "colab": {
          "base_uri": "https://localhost:8080/"
        },
        "id": "wc8RvpevUr3q",
        "outputId": "1a1fbd1b-e5ed-4e33-c47c-e7bfbd4e8aa2"
      },
      "execution_count": 6,
      "outputs": [
        {
          "output_type": "execute_result",
          "data": {
            "text/plain": [
              "0.0    31834\n",
              "1.0     7510\n",
              "Name: arrdel15, dtype: int64"
            ]
          },
          "metadata": {},
          "execution_count": 6
        }
      ]
    },
    {
      "cell_type": "code",
      "source": [
        "y2.shape"
      ],
      "metadata": {
        "colab": {
          "base_uri": "https://localhost:8080/"
        },
        "id": "U49MCzQwUvEp",
        "outputId": "f11c2f04-4816-4741-c611-eadf6b3e4c82"
      },
      "execution_count": 7,
      "outputs": [
        {
          "output_type": "execute_result",
          "data": {
            "text/plain": [
              "(39344,)"
            ]
          },
          "metadata": {},
          "execution_count": 7
        }
      ]
    },
    {
      "cell_type": "code",
      "source": [
        "def score(model,x_train, x_test):\n",
        "    \n",
        "    \"\"\"\n",
        "    This function scores the model by returning the confusion matrix and classification report of the model\n",
        "    \n",
        "    \"\"\"\n",
        "    \n",
        "    # Get predictions\n",
        "    preds = model.predict(x_test)\n",
        "    cm = confusion_matrix(y_test, preds)\n",
        "    ConfusionMatrixDisplay(cm, display_labels=['Flight Not Delay','Flight Delay']).plot(cmap='GnBu')\n",
        "\n",
        "    print(\"Training Score:\",model.score(x_train,y_train))\n",
        "    print(\"Testing Score:\",model.score(x_test,y_test))\n",
        "    print(\"\\n\")\n",
        "    print(classification_report(y_test, preds)) "
      ],
      "metadata": {
        "id": "lojjULRHUy9k"
      },
      "execution_count": 8,
      "outputs": []
    },
    {
      "cell_type": "code",
      "source": [
        "def roc(model, model_name, X_train, X_test): \n",
        "    \n",
        "    \"\"\"\n",
        "    This function generates the ROC/AUC curve of the model.\n",
        "    \n",
        "    Due to the imbalanced nature of the data, the preferred metrics for this project is ROC/AUC.\n",
        "    \n",
        "    \"\"\"      \n",
        "    \n",
        "    plt.figure(figsize=(16,10))\n",
        "    \n",
        "    # Predict probabilities from X_test\n",
        "    df = pd.DataFrame(model.predict_proba(x_test))\n",
        "    preds = df.drop(columns=0)\n",
        "    \n",
        "    # \n",
        "    fpr, tpr, _ = roc_curve(y_test, preds)\n",
        "    auc = roc_auc_score(y_test, preds)\n",
        "\n",
        "    df2 = pd.DataFrame(model.predict_proba(x_train))\n",
        "    preds2 = df2.drop(columns=0)\n",
        "    fpr2, tpr2, _ = roc_curve(y_train, preds2)\n",
        "    auc2 = roc_auc_score(y_train, preds2)\n",
        "    \n",
        "    with sns.axes_style(style=\"darkgrid\"):\n",
        "        plt.plot(fpr,tpr,color='orange',label=\"%s test, auc=%s\" %(model_name, format(auc,\".3f\")))\n",
        "        plt.plot(fpr2,tpr2,color='blue',label=\"%s train, auc=%s\" %(model_name, format(auc2,\".3f\")))\n",
        "        plt.plot(y_test,y_test,color='gray',linestyle=':') #baseline 50%\n",
        "    plt.legend(loc='lower right')    \n",
        "    \n",
        "    sns.despine(left=True,bottom=True)"
      ],
      "metadata": {
        "id": "ZpXpFx0XU2cC"
      },
      "execution_count": 9,
      "outputs": []
    },
    {
      "cell_type": "code",
      "source": [
        "preprocess_pipe = make_pipeline(MinMaxScaler())"
      ],
      "metadata": {
        "id": "pQZFY1IcU8MB"
      },
      "execution_count": 10,
      "outputs": []
    },
    {
      "cell_type": "code",
      "source": [
        "#create pipeline\n",
        "lr_pipe = make_pipeline(SMOTE(random_state = 42), \n",
        "                        LogisticRegression(max_iter=200, random_state = 42)\n",
        "                       )\n",
        "    \n",
        "\n",
        "# define grid params for logistic regression\n",
        "lr_params = {\n",
        "    'logisticregression__C': [0.02, 0.05, 0.1],\n",
        "    'logisticregression__solver' : ['newton-cg','saga', 'sag', 'lbfgs'],\n",
        "    'logisticregression__multi_class': ['multinomial', 'ovr', 'auto'],\n",
        "    'logisticregression__penalty':['l1','l2','elasticnet'],\n",
        "    'logisticregression__l1_ratio':[None, 0.25,0.5,0.75],\n",
        "    'logisticregression__class_weight':[None, 'balanced']\n",
        "}\n",
        "\n",
        "# Instantiate GridSearchCV\n",
        "# Due to imbalanced data, scoring = roc & auc\n",
        "grid_lr = GridSearchCV(lr_pipe, param_grid = lr_params, verbose = 1, n_jobs=-1, cv=3, scoring='roc_auc')"
      ],
      "metadata": {
        "id": "aR4dE1UAVDzU"
      },
      "execution_count": 11,
      "outputs": []
    },
    {
      "cell_type": "code",
      "source": [
        "x_train_t = preprocess_pipe.fit_transform(x_train)\n",
        "x_test_t = preprocess_pipe.transform(x_test)"
      ],
      "metadata": {
        "id": "8KagRWYQVM7X"
      },
      "execution_count": 12,
      "outputs": []
    },
    {
      "cell_type": "code",
      "source": [
        "grid_lr.fit(x_train_t,y_train)"
      ],
      "metadata": {
        "colab": {
          "base_uri": "https://localhost:8080/"
        },
        "id": "yHe6S-lnVO6D",
        "outputId": "5ad887e6-30e1-4fff-e863-3d4d8ce17cf1"
      },
      "execution_count": null,
      "outputs": [
        {
          "output_type": "stream",
          "name": "stdout",
          "text": [
            "Fitting 3 folds for each of 864 candidates, totalling 2592 fits\n"
          ]
        }
      ]
    },
    {
      "cell_type": "code",
      "source": [
        "print(\"best score\", grid_lr.best_score_)\n",
        "print(\"best params\", grid_lr.best_params_)"
      ],
      "metadata": {
        "id": "JRMq2gKuVTb_"
      },
      "execution_count": null,
      "outputs": []
    },
    {
      "cell_type": "code",
      "source": [
        "score(grid_lr, x_train_t, x_test_t)"
      ],
      "metadata": {
        "id": "0sX1iEq-VUiI"
      },
      "execution_count": null,
      "outputs": []
    },
    {
      "cell_type": "code",
      "source": [
        "roc(grid_lr,\"LogisticRegression\", x_train_t, x_test_t)"
      ],
      "metadata": {
        "id": "Q_ZU8D5zVWFz"
      },
      "execution_count": null,
      "outputs": []
    },
    {
      "cell_type": "code",
      "source": [
        "##random forest"
      ],
      "metadata": {
        "id": "BSqX6ibXVi9l"
      },
      "execution_count": null,
      "outputs": []
    },
    {
      "cell_type": "code",
      "source": [
        "# create modelling pipeline with SMOTE to deal with imbalanced classes\n",
        "\n",
        "rf_pipe = make_pipeline(SMOTE(random_state=42),\n",
        "                           \n",
        "                           ### Insert Model here for future modelling ###\n",
        "                           \n",
        "                           RandomForestClassifier(random_state=42),\n",
        "                          )\n",
        "\n",
        "# define grid params for random forest classifier\n",
        "rf_params = {\n",
        "    'randomforestclassifier__n_estimators':[20,50,100],\n",
        "    'randomforestclassifier__max_depth':[5,20,50],\n",
        "    'randomforestclassifier__criterion':['gini','entropy'],\n",
        "    'randomforestclassifier__max_leaf_nodes':[5,10,15],\n",
        "    'randomforestclassifier__class_weight':['balanced','balanced_subsample'],\n",
        "}\n",
        "\n",
        "# Instantiate GridSearchCV\n",
        "# Due to imbalanced data, scoring = roc & auc\n",
        "grid_rf = GridSearchCV(rf_pipe, param_grid = rf_params, verbose = 1, n_jobs=-1, cv=5, scoring='roc_auc')"
      ],
      "metadata": {
        "id": "nhJeWe-BVk9G"
      },
      "execution_count": null,
      "outputs": []
    },
    {
      "cell_type": "code",
      "source": [
        "grid_rf.fit(x_train_t,y_train)"
      ],
      "metadata": {
        "id": "FwzkzZTyVpZD"
      },
      "execution_count": null,
      "outputs": []
    },
    {
      "cell_type": "code",
      "source": [
        "print(\"best score\", grid_rf.best_score_)\n",
        "print(\"best params\", grid_rf.best_params_)"
      ],
      "metadata": {
        "id": "nrNoe4PNVrBm"
      },
      "execution_count": null,
      "outputs": []
    },
    {
      "cell_type": "code",
      "source": [
        "score(grid_rf, x_train_t, x_test_t)"
      ],
      "metadata": {
        "id": "pZm5RGUfVrvr"
      },
      "execution_count": null,
      "outputs": []
    },
    {
      "cell_type": "code",
      "source": [
        "roc(grid_rf,\"RandomForestClassifier\", x_train_t, x_test_t)"
      ],
      "metadata": {
        "id": "s878bgMwVtIp"
      },
      "execution_count": null,
      "outputs": []
    },
    {
      "cell_type": "code",
      "source": [
        "## Gradient Boost"
      ],
      "metadata": {
        "id": "e111jsI1Vupf"
      },
      "execution_count": null,
      "outputs": []
    },
    {
      "cell_type": "code",
      "source": [
        "# create modelling pipeline with SMOTE to deal with imbalanced classes\n",
        "\n",
        "gb_pipe = make_pipeline(SMOTE(random_state=42),\n",
        "                           \n",
        "                           ### Insert Model here for future modelling ###\n",
        "                           \n",
        "                           GradientBoostingClassifier(random_state=42,\n",
        "                                                      n_iter_no_change=3)\n",
        "                          )\n",
        "\n",
        "\n",
        "# define grid params for gradient boosting\n",
        "gb_params = {\n",
        "    'gradientboostingclassifier__learning_rate': [0.1, 0.2, 0.3],\n",
        "    'gradientboostingclassifier__criterion' : ['friedman_mse','mse'],\n",
        "    'gradientboostingclassifier__n_estimators': [20,50,100],\n",
        "    'gradientboostingclassifier__max_features':['sqrt','log2'],\n",
        "    'gradientboostingclassifier__loss':['deviance','exponential']\n",
        "}\n",
        "\n",
        "        \n",
        "# Instantiate GridSearchCV\n",
        "# Due to imbalanced data, scoring = roc & auc\n",
        "grid_gb = GridSearchCV(gb_pipe, param_grid = gb_params, verbose = 1, n_jobs=-1, cv=5, scoring='roc_auc')"
      ],
      "metadata": {
        "id": "-8IKuurHVwiu"
      },
      "execution_count": null,
      "outputs": []
    },
    {
      "cell_type": "code",
      "source": [
        "grid_gb.fit(x_train_t,y_train)"
      ],
      "metadata": {
        "id": "i59GXKD6V2KJ"
      },
      "execution_count": null,
      "outputs": []
    },
    {
      "cell_type": "code",
      "source": [
        "print(\"best score\", grid_gb.best_score_)\n",
        "print(\"best params\", grid_gb.best_params_)"
      ],
      "metadata": {
        "id": "jQO-a-fHV3tA"
      },
      "execution_count": null,
      "outputs": []
    },
    {
      "cell_type": "code",
      "source": [
        "score(grid_gb, x_train_t, x_test_t)"
      ],
      "metadata": {
        "id": "_yX8NUvzV4iM"
      },
      "execution_count": null,
      "outputs": []
    }
  ]
}