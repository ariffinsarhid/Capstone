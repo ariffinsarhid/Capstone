{
 "cells": [
  {
   "cell_type": "code",
   "execution_count": 1,
   "id": "3e9ec3fd",
   "metadata": {},
   "outputs": [],
   "source": [
    "import pandas as pd\n",
    "import numpy as np\n",
    "import seaborn as sns\n",
    "import matplotlib.pyplot as plt\n",
    "import warnings\n",
    "warnings.simplefilter(action = 'ignore')\n",
    "import io\n",
    "\n",
    "from sklearn.model_selection import GridSearchCV, train_test_split, cross_val_score\n",
    "from sklearn.preprocessing import StandardScaler, MinMaxScaler\n",
    "from sklearn.linear_model import LogisticRegression\n",
    "from sklearn.ensemble import RandomForestClassifier, GradientBoostingClassifier\n",
    "from sklearn.preprocessing import MinMaxScaler, OneHotEncoder\n",
    "from sklearn.metrics import roc_curve, RocCurveDisplay, roc_auc_score\n",
    "from sklearn.metrics import plot_confusion_matrix, classification_report, confusion_matrix, ConfusionMatrixDisplay\n",
    "from sklearn.base import BaseEstimator, TransformerMixin\n",
    "from imblearn.over_sampling import SMOTE, RandomOverSampler\n",
    "from imblearn.under_sampling import RandomUnderSampler\n",
    "from imblearn.pipeline import make_pipeline\n",
    "\n",
    "\n",
    "from sklearn.decomposition import PCA\n",
    "from sklearn.neighbors import KNeighborsClassifier\n",
    "from imblearn.under_sampling import EditedNearestNeighbours\n",
    "from imblearn.over_sampling import SMOTE"
   ]
  },
  {
   "cell_type": "code",
   "execution_count": 2,
   "id": "04a78c14",
   "metadata": {},
   "outputs": [],
   "source": [
    "df = pd.read_csv('../Data/final_table.csv')\n",
    "df = df.drop(columns= ['Unnamed: 0','flightdate'])"
   ]
  },
  {
   "cell_type": "code",
   "execution_count": 3,
   "id": "70123dcd",
   "metadata": {},
   "outputs": [
    {
     "data": {
      "text/plain": [
       "array(['Endeavor Air Inc.', 'Southwest Airlines Co.',\n",
       "       'Mesa Airlines Inc.', 'Republic Airline', 'PSA Airlines Inc.',\n",
       "       'United Air Lines Inc.', 'Delta Air Lines Inc.',\n",
       "       'SkyWest Airlines Inc.', 'American Airlines Inc.',\n",
       "       'Spirit Air Lines', 'Alaska Airlines Inc.', 'JetBlue Airways',\n",
       "       'Allegiant Air', 'Frontier Airlines Inc.',\n",
       "       'Hawaiian Airlines Inc.', 'Envoy Air', 'ExpressJet Airlines LLC',\n",
       "       'Virgin America'], dtype=object)"
      ]
     },
     "execution_count": 3,
     "metadata": {},
     "output_type": "execute_result"
    }
   ],
   "source": [
    "df['airline'].unique()"
   ]
  },
  {
   "cell_type": "code",
   "execution_count": 4,
   "id": "6d88eeb6",
   "metadata": {},
   "outputs": [],
   "source": [
    "ranking = df[['airline']]\n",
    "dictionary = {\n",
    "    'Allegiant Air':1,\n",
    "    'Envoy Air':1,\n",
    "    'PSA Airlines Inc.': 1,\n",
    "    'Alaska Airlines Inc.': 1,\n",
    "    'Spirit Air Lines': 1,\n",
    "    'American Airlines Inc.': 2,\n",
    "    'Mesa Airlines Inc.': 2,\n",
    "    'Frontier Airlines Inc.': 2, \n",
    "    'Republic Airline': 2,\n",
    "    'Virgin America': 2,\n",
    "    'United Air Lines Inc.' : 3, \n",
    "    'Hawaiian Airlines Inc.': 3, \n",
    "    'JetBlue Airways': 3, \n",
    "    'ExpressJet Airlines LLC': 3,\n",
    "    'Southwest Airlines Co.': 3,\n",
    "    'SkyWest Airlines Inc.': 4,\n",
    "    'Delta Air Lines Inc.': 4, \n",
    "    'Spirit Air Lines': 4,\n",
    "    'Endeavor Air Inc.': 4\n",
    "}\n",
    "\n",
    "for i in ranking:\n",
    "    df.replace({i:dictionary}, inplace = True)"
   ]
  },
  {
   "cell_type": "code",
   "execution_count": 5,
   "id": "4feb44ff",
   "metadata": {},
   "outputs": [
    {
     "data": {
      "text/plain": [
       "array([4, 3, 2, 1], dtype=int64)"
      ]
     },
     "execution_count": 5,
     "metadata": {},
     "output_type": "execute_result"
    }
   ],
   "source": [
    "df['airline'].unique()"
   ]
  },
  {
   "cell_type": "code",
   "execution_count": 6,
   "id": "cd53980a",
   "metadata": {},
   "outputs": [],
   "source": [
    "dummy= pd.get_dummies(df['destcity'])"
   ]
  },
  {
   "cell_type": "code",
   "execution_count": 7,
   "id": "f7f7cdce",
   "metadata": {},
   "outputs": [
    {
     "data": {
      "text/html": [
       "<div>\n",
       "<style scoped>\n",
       "    .dataframe tbody tr th:only-of-type {\n",
       "        vertical-align: middle;\n",
       "    }\n",
       "\n",
       "    .dataframe tbody tr th {\n",
       "        vertical-align: top;\n",
       "    }\n",
       "\n",
       "    .dataframe thead th {\n",
       "        text-align: right;\n",
       "    }\n",
       "</style>\n",
       "<table border=\"1\" class=\"dataframe\">\n",
       "  <thead>\n",
       "    <tr style=\"text-align: right;\">\n",
       "      <th></th>\n",
       "      <th>year</th>\n",
       "      <th>quarter</th>\n",
       "      <th>month</th>\n",
       "      <th>dayofmonth</th>\n",
       "      <th>dayofweek</th>\n",
       "      <th>flight_number_reporting_airline</th>\n",
       "      <th>originairportid</th>\n",
       "      <th>destairportid</th>\n",
       "      <th>destcitymarketid</th>\n",
       "      <th>destwac</th>\n",
       "      <th>...</th>\n",
       "      <th>West Yellowstone</th>\n",
       "      <th>White Plains</th>\n",
       "      <th>Wichita</th>\n",
       "      <th>Wichita Falls</th>\n",
       "      <th>Williston</th>\n",
       "      <th>Wilmington</th>\n",
       "      <th>Worcester</th>\n",
       "      <th>Wrangell</th>\n",
       "      <th>Yakutat</th>\n",
       "      <th>Yuma</th>\n",
       "    </tr>\n",
       "  </thead>\n",
       "  <tbody>\n",
       "    <tr>\n",
       "      <th>0</th>\n",
       "      <td>2019</td>\n",
       "      <td>2</td>\n",
       "      <td>6</td>\n",
       "      <td>11</td>\n",
       "      <td>2</td>\n",
       "      <td>3459</td>\n",
       "      <td>10397</td>\n",
       "      <td>10868</td>\n",
       "      <td>30868</td>\n",
       "      <td>37</td>\n",
       "      <td>...</td>\n",
       "      <td>0</td>\n",
       "      <td>0</td>\n",
       "      <td>0</td>\n",
       "      <td>0</td>\n",
       "      <td>0</td>\n",
       "      <td>0</td>\n",
       "      <td>0</td>\n",
       "      <td>0</td>\n",
       "      <td>0</td>\n",
       "      <td>0</td>\n",
       "    </tr>\n",
       "    <tr>\n",
       "      <th>1</th>\n",
       "      <td>2018</td>\n",
       "      <td>2</td>\n",
       "      <td>4</td>\n",
       "      <td>10</td>\n",
       "      <td>2</td>\n",
       "      <td>5198</td>\n",
       "      <td>10397</td>\n",
       "      <td>12197</td>\n",
       "      <td>31703</td>\n",
       "      <td>22</td>\n",
       "      <td>...</td>\n",
       "      <td>0</td>\n",
       "      <td>1</td>\n",
       "      <td>0</td>\n",
       "      <td>0</td>\n",
       "      <td>0</td>\n",
       "      <td>0</td>\n",
       "      <td>0</td>\n",
       "      <td>0</td>\n",
       "      <td>0</td>\n",
       "      <td>0</td>\n",
       "    </tr>\n",
       "    <tr>\n",
       "      <th>2</th>\n",
       "      <td>2019</td>\n",
       "      <td>4</td>\n",
       "      <td>10</td>\n",
       "      <td>1</td>\n",
       "      <td>2</td>\n",
       "      <td>3358</td>\n",
       "      <td>12953</td>\n",
       "      <td>11057</td>\n",
       "      <td>31057</td>\n",
       "      <td>36</td>\n",
       "      <td>...</td>\n",
       "      <td>0</td>\n",
       "      <td>0</td>\n",
       "      <td>0</td>\n",
       "      <td>0</td>\n",
       "      <td>0</td>\n",
       "      <td>0</td>\n",
       "      <td>0</td>\n",
       "      <td>0</td>\n",
       "      <td>0</td>\n",
       "      <td>0</td>\n",
       "    </tr>\n",
       "    <tr>\n",
       "      <th>3</th>\n",
       "      <td>2018</td>\n",
       "      <td>3</td>\n",
       "      <td>7</td>\n",
       "      <td>27</td>\n",
       "      <td>5</td>\n",
       "      <td>5388</td>\n",
       "      <td>10821</td>\n",
       "      <td>14492</td>\n",
       "      <td>34492</td>\n",
       "      <td>36</td>\n",
       "      <td>...</td>\n",
       "      <td>0</td>\n",
       "      <td>0</td>\n",
       "      <td>0</td>\n",
       "      <td>0</td>\n",
       "      <td>0</td>\n",
       "      <td>0</td>\n",
       "      <td>0</td>\n",
       "      <td>0</td>\n",
       "      <td>0</td>\n",
       "      <td>0</td>\n",
       "    </tr>\n",
       "    <tr>\n",
       "      <th>4</th>\n",
       "      <td>2019</td>\n",
       "      <td>1</td>\n",
       "      <td>3</td>\n",
       "      <td>4</td>\n",
       "      <td>1</td>\n",
       "      <td>5179</td>\n",
       "      <td>14122</td>\n",
       "      <td>12478</td>\n",
       "      <td>31703</td>\n",
       "      <td>22</td>\n",
       "      <td>...</td>\n",
       "      <td>0</td>\n",
       "      <td>0</td>\n",
       "      <td>0</td>\n",
       "      <td>0</td>\n",
       "      <td>0</td>\n",
       "      <td>0</td>\n",
       "      <td>0</td>\n",
       "      <td>0</td>\n",
       "      <td>0</td>\n",
       "      <td>0</td>\n",
       "    </tr>\n",
       "  </tbody>\n",
       "</table>\n",
       "<p>5 rows × 364 columns</p>\n",
       "</div>"
      ],
      "text/plain": [
       "   year  quarter  month  dayofmonth  dayofweek  \\\n",
       "0  2019        2      6          11          2   \n",
       "1  2018        2      4          10          2   \n",
       "2  2019        4     10           1          2   \n",
       "3  2018        3      7          27          5   \n",
       "4  2019        1      3           4          1   \n",
       "\n",
       "   flight_number_reporting_airline  originairportid  destairportid  \\\n",
       "0                             3459            10397          10868   \n",
       "1                             5198            10397          12197   \n",
       "2                             3358            12953          11057   \n",
       "3                             5388            10821          14492   \n",
       "4                             5179            14122          12478   \n",
       "\n",
       "   destcitymarketid  destwac  ...  West Yellowstone  White Plains  Wichita  \\\n",
       "0             30868       37  ...                 0             0        0   \n",
       "1             31703       22  ...                 0             1        0   \n",
       "2             31057       36  ...                 0             0        0   \n",
       "3             34492       36  ...                 0             0        0   \n",
       "4             31703       22  ...                 0             0        0   \n",
       "\n",
       "   Wichita Falls  Williston  Wilmington  Worcester  Wrangell  Yakutat  Yuma  \n",
       "0              0          0           0          0         0        0     0  \n",
       "1              0          0           0          0         0        0     0  \n",
       "2              0          0           0          0         0        0     0  \n",
       "3              0          0           0          0         0        0     0  \n",
       "4              0          0           0          0         0        0     0  \n",
       "\n",
       "[5 rows x 364 columns]"
      ]
     },
     "execution_count": 7,
     "metadata": {},
     "output_type": "execute_result"
    }
   ],
   "source": [
    "df = pd.concat([df, dummy], axis = 1)\n",
    "df = df.drop(columns = ['destcity'])\n",
    "df.head()"
   ]
  },
  {
   "cell_type": "code",
   "execution_count": 8,
   "id": "76517616",
   "metadata": {},
   "outputs": [],
   "source": [
    "df_train = df[(df['year'] == 2018) | (df['year'] == 2019) ]\n",
    "df_test = df[(df['year'] == 2020)]"
   ]
  },
  {
   "cell_type": "code",
   "execution_count": 9,
   "id": "93d5f14f",
   "metadata": {},
   "outputs": [],
   "source": [
    "df_train =  df.sample(n = 9287, random_state = 42)\n",
    "df_test = df[(df['year'] == 2020)]"
   ]
  },
  {
   "cell_type": "code",
   "execution_count": 10,
   "id": "f3916fd3",
   "metadata": {},
   "outputs": [
    {
     "name": "stdout",
     "output_type": "stream",
     "text": [
      "9287\n",
      "9287\n"
     ]
    }
   ],
   "source": [
    "print(len(df_train))\n",
    "print(len(df_test))"
   ]
  },
  {
   "cell_type": "code",
   "execution_count": 11,
   "id": "c845d260",
   "metadata": {},
   "outputs": [
    {
     "name": "stdout",
     "output_type": "stream",
     "text": [
      "(6965, 363) (6965,)\n"
     ]
    }
   ],
   "source": [
    "x = df_train.drop(columns = ['arrdel15'], axis = 1)\n",
    "y = df_test.arrdel15\n",
    "\n",
    "#train test split\n",
    "x_train, x_test, y_train, y_test = train_test_split(x, y, stratify=y, random_state = 42)\n",
    "\n",
    "\n",
    "print(x_train.shape, y_train.shape)"
   ]
  },
  {
   "cell_type": "code",
   "execution_count": 12,
   "id": "c12e16fc",
   "metadata": {},
   "outputs": [
    {
     "data": {
      "text/plain": [
       "0.0    8051\n",
       "1.0    1236\n",
       "Name: arrdel15, dtype: int64"
      ]
     },
     "execution_count": 12,
     "metadata": {},
     "output_type": "execute_result"
    }
   ],
   "source": [
    "y.value_counts()"
   ]
  },
  {
   "cell_type": "code",
   "execution_count": 13,
   "id": "b39e6657",
   "metadata": {},
   "outputs": [],
   "source": [
    "def score(model,x_train, x_test):\n",
    "    \n",
    "    \"\"\"\n",
    "    This function scores the model by returning the confusion matrix and classification report of the model\n",
    "    \n",
    "    \"\"\"\n",
    "    \n",
    "    # Get predictions\n",
    "    preds = model.predict(x_test)\n",
    "    cm = confusion_matrix(y_test, preds)\n",
    "    ConfusionMatrixDisplay(cm, display_labels=['Flight Not Delay','Flight Delay']).plot(cmap='GnBu')\n",
    "\n",
    "    print(\"Training Score:\",model.score(x_train,y_train))\n",
    "    print(\"Testing Score:\",model.score(x_test,y_test))\n",
    "    print(\"\\n\")\n",
    "    print(classification_report(y_test, preds)) "
   ]
  },
  {
   "cell_type": "code",
   "execution_count": 14,
   "id": "262923c5",
   "metadata": {},
   "outputs": [],
   "source": [
    "def roc(model, model_name, x_train, x_test): \n",
    "    \n",
    "    \"\"\"\n",
    "    This function generates the ROC/AUC curve of the model.\n",
    "    \n",
    "    Due to the imbalanced nature of the data, the preferred metrics for this project is ROC/AUC.\n",
    "    \n",
    "    \"\"\"      \n",
    "    \n",
    "    plt.figure(figsize=(16,10))\n",
    "    \n",
    "    # Predict probabilities from X_test\n",
    "    df = pd.DataFrame(model.predict_proba(x_test))\n",
    "    preds = df.drop(columns=0)\n",
    "    \n",
    "    # \n",
    "    fpr, tpr, _ = roc_curve(y_test, preds)\n",
    "    auc = roc_auc_score(y_test, preds)\n",
    "\n",
    "    df2 = pd.DataFrame(model.predict_proba(x_train))\n",
    "    preds2 = df2.drop(columns=0)\n",
    "    fpr2, tpr2, _ = roc_curve(y_train, preds2)\n",
    "    auc2 = roc_auc_score(y_train, preds2)\n",
    "    \n",
    "    with sns.axes_style(style=\"darkgrid\"):\n",
    "        plt.plot(fpr,tpr,color='orange',label=\"%s test, auc=%s\" %(model_name, format(auc,\".3f\")))\n",
    "        plt.plot(fpr2,tpr2,color='blue',label=\"%s train, auc=%s\" %(model_name, format(auc2,\".3f\")))\n",
    "        plt.plot(y_test,y_test,color='gray',linestyle=':') #baseline 50%\n",
    "    plt.legend(loc='lower right')    \n",
    "    \n",
    "    sns.despine(left=True,bottom=True)"
   ]
  },
  {
   "cell_type": "code",
   "execution_count": 15,
   "id": "36453617",
   "metadata": {},
   "outputs": [],
   "source": [
    "preprocess_pipe = make_pipeline(MinMaxScaler())"
   ]
  },
  {
   "cell_type": "code",
   "execution_count": 16,
   "id": "0eb88f99",
   "metadata": {},
   "outputs": [],
   "source": [
    "#create pipeline\n",
    "lr_pipe = make_pipeline(LogisticRegression(max_iter=200, random_state = 42))\n",
    "    \n",
    "\n",
    "# define grid params for logistic regression\n",
    "lr_params = {\n",
    "    'logisticregression__C': [0.02, 0.05, 0.1],\n",
    "    'logisticregression__solver' : ['newton-cg','saga', 'sag', 'lbfgs'],\n",
    "    'logisticregression__multi_class': ['multinomial', 'ovr', 'auto'],\n",
    "    'logisticregression__penalty':['l1','l2','elasticnet'],\n",
    "    'logisticregression__l1_ratio':[None, 0.25,0.5,0.75],\n",
    "    'logisticregression__class_weight':[None, 'balanced']\n",
    "}\n",
    "\n",
    "# Instantiate GridSearchCV\n",
    "# Due to imbalanced data, scoring = roc & auc\n",
    "grid_lr = GridSearchCV(lr_pipe, param_grid = lr_params, verbose = 1, n_jobs=-1, cv=5, scoring='roc_auc')"
   ]
  },
  {
   "cell_type": "code",
   "execution_count": 17,
   "id": "c9783401",
   "metadata": {},
   "outputs": [],
   "source": [
    "x_train_t = preprocess_pipe.fit_transform(x_train)\n",
    "x_test_t = preprocess_pipe.transform(x_test)"
   ]
  },
  {
   "cell_type": "code",
   "execution_count": 18,
   "id": "9d69bb98",
   "metadata": {},
   "outputs": [
    {
     "name": "stdout",
     "output_type": "stream",
     "text": [
      "Fitting 5 folds for each of 864 candidates, totalling 4320 fits\n"
     ]
    },
    {
     "data": {
      "text/plain": [
       "GridSearchCV(cv=5,\n",
       "             estimator=Pipeline(steps=[('logisticregression',\n",
       "                                        LogisticRegression(max_iter=200,\n",
       "                                                           random_state=42))]),\n",
       "             n_jobs=-1,\n",
       "             param_grid={'logisticregression__C': [0.02, 0.05, 0.1],\n",
       "                         'logisticregression__class_weight': [None, 'balanced'],\n",
       "                         'logisticregression__l1_ratio': [None, 0.25, 0.5,\n",
       "                                                          0.75],\n",
       "                         'logisticregression__multi_class': ['multinomial',\n",
       "                                                             'ovr', 'auto'],\n",
       "                         'logisticregression__penalty': ['l1', 'l2',\n",
       "                                                         'elasticnet'],\n",
       "                         'logisticregression__solver': ['newton-cg', 'saga',\n",
       "                                                        'sag', 'lbfgs']},\n",
       "             scoring='roc_auc', verbose=1)"
      ]
     },
     "execution_count": 18,
     "metadata": {},
     "output_type": "execute_result"
    }
   ],
   "source": [
    "grid_lr.fit(x_train_t,y_train)"
   ]
  },
  {
   "cell_type": "code",
   "execution_count": 19,
   "id": "aa2560d9",
   "metadata": {},
   "outputs": [
    {
     "name": "stdout",
     "output_type": "stream",
     "text": [
      "best score 0.5216018176711443\n",
      "best params {'logisticregression__C': 0.1, 'logisticregression__class_weight': 'balanced', 'logisticregression__l1_ratio': None, 'logisticregression__multi_class': 'multinomial', 'logisticregression__penalty': 'l2', 'logisticregression__solver': 'newton-cg'}\n"
     ]
    }
   ],
   "source": [
    "print(\"best score\", grid_lr.best_score_)\n",
    "print(\"best params\", grid_lr.best_params_)"
   ]
  },
  {
   "cell_type": "code",
   "execution_count": 20,
   "id": "47ab4142",
   "metadata": {},
   "outputs": [
    {
     "name": "stdout",
     "output_type": "stream",
     "text": [
      "Training Score: 0.6211082061006649\n",
      "Testing Score: 0.47762199425417634\n",
      "\n",
      "\n",
      "              precision    recall  f1-score   support\n",
      "\n",
      "         0.0       0.86      0.52      0.64      2013\n",
      "         1.0       0.12      0.43      0.19       309\n",
      "\n",
      "    accuracy                           0.50      2322\n",
      "   macro avg       0.49      0.47      0.42      2322\n",
      "weighted avg       0.76      0.50      0.58      2322\n",
      "\n"
     ]
    },
    {
     "data": {
      "image/png": "[encoded data removed]",
      "text/plain": [
       "<Figure size 432x288 with 2 Axes>"
      ]
     },
     "metadata": {
      "needs_background": "light"
     },
     "output_type": "display_data"
    }
   ],
   "source": [
    "score(grid_lr, x_train_t, x_test_t)"
   ]
  },
  {
   "cell_type": "code",
   "execution_count": 21,
   "id": "1789fcb9",
   "metadata": {},
   "outputs": [
    {
     "data": {
      "image/png": "[encoded data removed]",
      "text/plain": [
       "<Figure size 1152x720 with 1 Axes>"
      ]
     },
     "metadata": {
      "needs_background": "light"
     },
     "output_type": "display_data"
    }
   ],
   "source": [
    "roc(grid_lr,\"LogisticRegression\", x_train_t, x_test_t)"
   ]
  },
  {
   "cell_type": "code",
   "execution_count": 22,
   "id": "4d6aa7a3",
   "metadata": {
    "scrolled": true
   },
   "outputs": [
    {
     "data": {
      "text/plain": [
       "array([ 0.0097389 , -0.11854297,  0.23121501,  0.03494366, -0.02827211,\n",
       "       -0.06099629,  0.01325625,  0.00478889, -0.13085567, -0.09884237,\n",
       "       -0.04351541,  0.09045065, -0.03834569, -0.02337124,  0.        ,\n",
       "       -0.01454092,  0.0317786 , -0.04453103,  0.        , -0.07852189,\n",
       "        0.        ,  0.        ,  0.13355782, -0.10856481, -0.33141696,\n",
       "        0.09171073, -0.05560462, -0.02577124,  0.08247511, -0.07443496,\n",
       "       -0.12233321, -0.02738111, -0.12541324,  0.        ,  0.20450135,\n",
       "       -0.04149593,  0.10064043,  0.0719922 , -0.01882349, -0.09308145,\n",
       "       -0.20153067, -0.07915239, -0.0288654 , -0.0225541 , -0.053416  ,\n",
       "        0.        ,  0.13336275, -0.02414404, -0.06733388,  0.        ,\n",
       "       -0.07448255,  0.16291097,  0.03912452,  0.10463518,  0.13137123,\n",
       "        0.32709322,  0.15142763,  0.06479727,  0.        ,  0.        ,\n",
       "       -0.04766312, -0.0526076 ,  0.        , -0.0399764 ,  0.        ,\n",
       "       -0.39292581, -0.16767669,  0.        ,  0.        ,  0.        ,\n",
       "       -0.02708261, -0.02479863, -0.26655419, -0.05409193, -0.24679995,\n",
       "       -0.07514638,  0.05293853,  0.11534736,  0.227246  , -0.16581208,\n",
       "        0.        ,  0.07951994, -0.05044793, -0.05140553, -0.0280337 ,\n",
       "        0.15185373,  0.        , -0.0504488 ,  0.01828108, -0.12490839,\n",
       "        0.22293331,  0.        , -0.030663  ,  0.02024107,  0.08810918,\n",
       "        0.09368159,  0.2136004 ,  0.09149943, -0.05764684,  0.        ,\n",
       "        0.04689344, -0.14152627, -0.03728698,  0.        ,  0.08609644,\n",
       "       -0.02956726, -0.05052759, -0.02493933, -0.11379035,  0.        ,\n",
       "       -0.04493801,  0.        ,  0.        , -0.05182518,  0.        ,\n",
       "       -0.13342141, -0.10058143, -0.0250976 ,  0.02591296,  0.10297505,\n",
       "       -0.08605627,  0.        , -0.05163776,  0.        ,  0.00046437,\n",
       "       -0.12409217, -0.02730729, -0.21058203,  0.21924965, -0.09646008,\n",
       "        0.        ,  0.        ,  0.        , -0.02672885, -0.04924269,\n",
       "        0.28689355, -0.05039643,  0.04537675, -0.06562851,  0.        ,\n",
       "        0.15928676,  0.        , -0.12027864,  0.        ,  0.        ,\n",
       "        0.        ,  0.        , -0.09584174,  0.06788067,  0.09570169,\n",
       "        0.        ,  0.        ,  0.14559082,  0.        ,  0.        ,\n",
       "       -0.12683246, -0.05021606,  0.        ,  0.03618503,  0.17183343,\n",
       "       -0.16490611, -0.02750402, -0.02488172,  0.13330112,  0.        ,\n",
       "       -0.05298178,  0.26199977,  0.        , -0.10977739, -0.21219091,\n",
       "        0.07286915,  0.1457573 ,  0.        ,  0.        ,  0.23644317,\n",
       "        0.10126408, -0.08474869, -0.0516103 ,  0.05100569, -0.0266996 ,\n",
       "       -0.05849586,  0.18609486, -0.02495798, -0.16572461, -0.03008712,\n",
       "       -0.29016771,  0.        ,  0.        ,  0.10759993, -0.05113363,\n",
       "        0.10292691,  0.        , -0.02686523, -0.06641892, -0.05340439,\n",
       "       -0.02558203, -0.05002642, -0.02565298, -0.0323644 , -0.04899451,\n",
       "        0.13781867, -0.06911444,  0.27767436,  0.05416183,  0.        ,\n",
       "       -0.0462584 , -0.15556879,  0.09435869,  0.17032018,  0.15040614,\n",
       "       -0.02178436,  0.03151763,  0.        , -0.04946981,  0.        ,\n",
       "       -0.06974735,  0.08233659, -0.19452339, -0.02549964, -0.06537055,\n",
       "       -0.17070591,  0.17875826, -0.0435302 , -0.02550512,  0.12293812,\n",
       "       -0.10876787, -0.02524877,  0.09747607,  0.04892259,  0.12941163,\n",
       "        0.11920188, -0.09055586, -0.04869587, -0.07720327, -0.07134782,\n",
       "        0.29457398,  0.        ,  0.09607944, -0.02777874, -0.02691374,\n",
       "        0.08631013, -0.17254935,  0.18512325,  0.        ,  0.05769776,\n",
       "        0.        , -0.0282907 , -0.10416875,  0.        ,  0.        ,\n",
       "        0.19101104,  0.        ,  0.15353426,  0.25674898, -0.15721312,\n",
       "       -0.07490087,  0.08631848,  0.        ,  0.        , -0.02908094,\n",
       "        0.10081486, -0.07657067,  0.06470938, -0.02602818, -0.00780086,\n",
       "       -0.04712502,  0.        ,  0.21405201, -0.16593527, -0.02468759,\n",
       "        0.09113353,  0.        , -0.08779655,  0.        ,  0.26953134,\n",
       "        0.        ,  0.        ,  0.28553788, -0.02425226, -0.02445245,\n",
       "       -0.11891185, -0.02545736, -0.02841334, -0.1091403 ,  0.15373971,\n",
       "       -0.25083576, -0.02533512, -0.24685477, -0.07149686,  0.25548537,\n",
       "       -0.04363005,  0.        ,  0.        ,  0.0823373 ,  0.09780391,\n",
       "        0.        , -0.04479508,  0.25021979,  0.15135533, -0.00055145,\n",
       "        0.2694379 ,  0.22541779, -0.06127854,  0.15841834,  0.12882471,\n",
       "        0.05640845,  0.1710299 , -0.10426478, -0.06650444,  0.        ,\n",
       "       -0.04294815,  0.01853388, -0.02844682, -0.10628551,  0.        ,\n",
       "       -0.08085993,  0.11264104,  0.        , -0.00473917,  0.        ,\n",
       "        0.10408771, -0.02814581,  0.06452084,  0.15817884, -0.15019447,\n",
       "        0.        ,  0.        , -0.12356118, -0.14485134, -0.07119437,\n",
       "        0.        ,  0.        ,  0.        , -0.02479278,  0.14954097,\n",
       "       -0.18652368, -0.20109226,  0.        , -0.02602938, -0.06890917,\n",
       "       -0.05261924, -0.21666415, -0.1873438 , -0.02231362, -0.07119824,\n",
       "       -0.02434534, -0.12374136,  0.        ,  0.        ,  0.0018815 ,\n",
       "        0.        ,  0.        ,  0.11806662,  0.        ,  0.09445522,\n",
       "       -0.19499388,  0.        , -0.02321798,  0.0094256 , -0.05167295,\n",
       "        0.16650733,  0.        , -0.02366544])"
      ]
     },
     "execution_count": 22,
     "metadata": {},
     "output_type": "execute_result"
    }
   ],
   "source": [
    "importance = grid_lr.best_estimator_.named_steps['logisticregression'].coef_[0]\n",
    "importance"
   ]
  },
  {
   "cell_type": "code",
   "execution_count": 23,
   "id": "89444f58",
   "metadata": {},
   "outputs": [],
   "source": [
    "feature_importance = pd.DataFrame({'features' :x_train.columns,\n",
    "                                   'coefficient' : abs(importance)}).sort_values(by='coefficient', ascending = False)\n",
    "feature_importance = feature_importance[:10]"
   ]
  },
  {
   "cell_type": "code",
   "execution_count": 24,
   "id": "adf0a6f6",
   "metadata": {},
   "outputs": [
    {
     "data": {
      "image/png": "[encoded data removed]",
      "text/plain": [
       "<Figure size 1080x1152 with 1 Axes>"
      ]
     },
     "metadata": {
      "needs_background": "light"
     },
     "output_type": "display_data"
    }
   ],
   "source": [
    "plt.figure(figsize = (15,16))  \n",
    "ax = sns.barplot(y= feature_importance['features'], x = feature_importance['coefficient'],data = feature_importance)\n",
    "plt.title('Logistic Regression feature (Top 10)', fontsize = 13)\n",
    "rects = ax.patches\n",
    "\n",
    "# For each bar: Place a label\n",
    "for rect in rects:\n",
    "    # Get X and Y placement of label from rect.\n",
    "    x_value = rect.get_width()\n",
    "    y_value = rect.get_y() + rect.get_height() / 2\n",
    "\n",
    "    # Number of points between bar and label. \n",
    "    space = 5\n",
    "\n",
    "    # Vertical alignment.\n",
    "    ha = 'left'\n",
    "\n",
    "    # Use X value as label and format number with one decimal place\n",
    "    label = \"{:.3f}\".format(x_value)\n",
    "\n",
    "    # Create annotation\n",
    "    plt.annotate(\n",
    "        label,                      # Use `label` as label\n",
    "        (x_value, y_value),         # Place label at end of the bar\n",
    "        xytext=(space, 0),          # Horizontally shift label by `space`\n",
    "        textcoords=\"offset points\", # Interpret `xytext` as offset in points\n",
    "        va='center',                # Vertically center label\n",
    "        ha=ha)                      # Horizontally align label differently for\n",
    "                                    # positive and negative values.\n",
    "\n",
    "plt.show()"
   ]
  },
  {
   "cell_type": "code",
   "execution_count": 25,
   "id": "d0db0705",
   "metadata": {},
   "outputs": [],
   "source": [
    "# create modelling pipeline with SMOTE to deal with imbalanced classes\n",
    "\n",
    "rf_pipe = make_pipeline(RandomForestClassifier(random_state=42))\n",
    "\n",
    "# define grid params for random forest classifier\n",
    "rf_params = {\n",
    "    'randomforestclassifier__n_estimators':[20,50,100],\n",
    "    'randomforestclassifier__max_depth':[5,20,50],\n",
    "    'randomforestclassifier__criterion':['gini','entropy'],\n",
    "    'randomforestclassifier__max_leaf_nodes':[5,10,15],\n",
    "    'randomforestclassifier__class_weight':['balanced','balanced_subsample'],\n",
    "}\n",
    "\n",
    "# Instantiate GridSearchCV\n",
    "# Due to imbalanced data, scoring = roc & auc\n",
    "grid_rf = GridSearchCV(rf_pipe, param_grid = rf_params, verbose = 1, n_jobs=-1, cv=5, scoring='roc_auc')"
   ]
  },
  {
   "cell_type": "code",
   "execution_count": 26,
   "id": "b0f31362",
   "metadata": {},
   "outputs": [
    {
     "name": "stdout",
     "output_type": "stream",
     "text": [
      "Fitting 5 folds for each of 108 candidates, totalling 540 fits\n"
     ]
    },
    {
     "data": {
      "text/plain": [
       "GridSearchCV(cv=5,\n",
       "             estimator=Pipeline(steps=[('randomforestclassifier',\n",
       "                                        RandomForestClassifier(random_state=42))]),\n",
       "             n_jobs=-1,\n",
       "             param_grid={'randomforestclassifier__class_weight': ['balanced',\n",
       "                                                                  'balanced_subsample'],\n",
       "                         'randomforestclassifier__criterion': ['gini',\n",
       "                                                               'entropy'],\n",
       "                         'randomforestclassifier__max_depth': [5, 20, 50],\n",
       "                         'randomforestclassifier__max_leaf_nodes': [5, 10, 15],\n",
       "                         'randomforestclassifier__n_estimators': [20, 50, 100]},\n",
       "             scoring='roc_auc', verbose=1)"
      ]
     },
     "execution_count": 26,
     "metadata": {},
     "output_type": "execute_result"
    }
   ],
   "source": [
    "grid_rf.fit(x_train_t,y_train)"
   ]
  },
  {
   "cell_type": "code",
   "execution_count": 27,
   "id": "dedcb6cb",
   "metadata": {},
   "outputs": [
    {
     "name": "stdout",
     "output_type": "stream",
     "text": [
      "best score 0.5131584764123401\n",
      "best params {'randomforestclassifier__class_weight': 'balanced', 'randomforestclassifier__criterion': 'gini', 'randomforestclassifier__max_depth': 20, 'randomforestclassifier__max_leaf_nodes': 15, 'randomforestclassifier__n_estimators': 20}\n"
     ]
    }
   ],
   "source": [
    "print(\"best score\", grid_rf.best_score_)\n",
    "print(\"best params\", grid_rf.best_params_)"
   ]
  },
  {
   "cell_type": "code",
   "execution_count": 28,
   "id": "6d21306e",
   "metadata": {},
   "outputs": [
    {
     "name": "stdout",
     "output_type": "stream",
     "text": [
      "Training Score: 0.6734513668020551\n",
      "Testing Score: 0.4733359377637589\n",
      "\n",
      "\n",
      "              precision    recall  f1-score   support\n",
      "\n",
      "         0.0       0.86      0.65      0.74      2013\n",
      "         1.0       0.12      0.32      0.18       309\n",
      "\n",
      "    accuracy                           0.60      2322\n",
      "   macro avg       0.49      0.48      0.46      2322\n",
      "weighted avg       0.76      0.60      0.66      2322\n",
      "\n"
     ]
    },
    {
     "data": {
      "image/png": "[encoded data removed]",
      "text/plain": [
       "<Figure size 432x288 with 2 Axes>"
      ]
     },
     "metadata": {
      "needs_background": "light"
     },
     "output_type": "display_data"
    }
   ],
   "source": [
    "score(grid_rf, x_train_t, x_test_t)"
   ]
  },
  {
   "cell_type": "code",
   "execution_count": 29,
   "id": "cf76375d",
   "metadata": {},
   "outputs": [
    {
     "data": {
      "image/png": "[encoded data removed]",
      "text/plain": [
       "<Figure size 1152x720 with 1 Axes>"
      ]
     },
     "metadata": {
      "needs_background": "light"
     },
     "output_type": "display_data"
    }
   ],
   "source": [
    "roc(grid_rf,\"RandomForestClassifier\", x_train_t, x_test_t)"
   ]
  },
  {
   "cell_type": "code",
   "execution_count": 30,
   "id": "a98a0a6c",
   "metadata": {
    "scrolled": true
   },
   "outputs": [
    {
     "data": {
      "text/plain": [
       "array([0.00994808, 0.00685122, 0.02914347, 0.0469715 , 0.02789566,\n",
       "       0.05882469, 0.05957294, 0.0764213 , 0.01118355, 0.04150986,\n",
       "       0.05490694, 0.07530087, 0.05789624, 0.0606117 , 0.        ,\n",
       "       0.05352878, 0.03546931, 0.02950872, 0.        , 0.        ,\n",
       "       0.        , 0.        , 0.        , 0.00121364, 0.01273977,\n",
       "       0.        , 0.        , 0.        , 0.        , 0.        ,\n",
       "       0.00115301, 0.        , 0.        , 0.        , 0.        ,\n",
       "       0.00979828, 0.        , 0.        , 0.        , 0.        ,\n",
       "       0.00183057, 0.        , 0.        , 0.        , 0.        ,\n",
       "       0.        , 0.        , 0.        , 0.        , 0.        ,\n",
       "       0.        , 0.        , 0.        , 0.        , 0.        ,\n",
       "       0.00365759, 0.00306809, 0.        , 0.        , 0.        ,\n",
       "       0.        , 0.        , 0.        , 0.        , 0.        ,\n",
       "       0.00379033, 0.        , 0.        , 0.        , 0.        ,\n",
       "       0.        , 0.        , 0.00235075, 0.        , 0.00299378,\n",
       "       0.        , 0.        , 0.        , 0.        , 0.        ,\n",
       "       0.        , 0.00793867, 0.        , 0.        , 0.        ,\n",
       "       0.00428219, 0.        , 0.        , 0.        , 0.        ,\n",
       "       0.00588143, 0.        , 0.        , 0.        , 0.        ,\n",
       "       0.0034177 , 0.00599749, 0.        , 0.        , 0.        ,\n",
       "       0.00908445, 0.        , 0.00257206, 0.        , 0.        ,\n",
       "       0.        , 0.        , 0.        , 0.        , 0.        ,\n",
       "       0.        , 0.        , 0.        , 0.        , 0.        ,\n",
       "       0.        , 0.        , 0.        , 0.00264906, 0.00250492,\n",
       "       0.        , 0.        , 0.        , 0.        , 0.00927047,\n",
       "       0.        , 0.        , 0.        , 0.        , 0.        ,\n",
       "       0.        , 0.        , 0.        , 0.        , 0.        ,\n",
       "       0.0068031 , 0.        , 0.        , 0.        , 0.        ,\n",
       "       0.00175956, 0.        , 0.        , 0.        , 0.        ,\n",
       "       0.        , 0.        , 0.        , 0.        , 0.        ,\n",
       "       0.        , 0.        , 0.        , 0.        , 0.        ,\n",
       "       0.        , 0.        , 0.        , 0.00357602, 0.00752031,\n",
       "       0.        , 0.        , 0.        , 0.        , 0.        ,\n",
       "       0.        , 0.00495774, 0.        , 0.        , 0.        ,\n",
       "       0.        , 0.00216152, 0.        , 0.        , 0.00237856,\n",
       "       0.        , 0.        , 0.        , 0.        , 0.        ,\n",
       "       0.        , 0.00351343, 0.        , 0.        , 0.        ,\n",
       "       0.        , 0.        , 0.        , 0.        , 0.        ,\n",
       "       0.        , 0.        , 0.        , 0.01078728, 0.        ,\n",
       "       0.        , 0.        , 0.        , 0.        , 0.        ,\n",
       "       0.00423276, 0.        , 0.        , 0.        , 0.        ,\n",
       "       0.        , 0.00496019, 0.00211237, 0.        , 0.        ,\n",
       "       0.        , 0.        , 0.        , 0.        , 0.        ,\n",
       "       0.        , 0.        , 0.00525464, 0.        , 0.        ,\n",
       "       0.        , 0.        , 0.00266911, 0.        , 0.        ,\n",
       "       0.        , 0.        , 0.        , 0.        , 0.        ,\n",
       "       0.        , 0.        , 0.        , 0.        , 0.        ,\n",
       "       0.        , 0.        , 0.        , 0.        , 0.        ,\n",
       "       0.00330264, 0.        , 0.00253819, 0.        , 0.        ,\n",
       "       0.        , 0.        , 0.00166637, 0.        , 0.        ,\n",
       "       0.        , 0.        , 0.        , 0.01023969, 0.        ,\n",
       "       0.00257652, 0.        , 0.        , 0.        , 0.        ,\n",
       "       0.00206546, 0.        , 0.        , 0.        , 0.        ,\n",
       "       0.        , 0.        , 0.        , 0.00596386, 0.        ,\n",
       "       0.00239475, 0.        , 0.        , 0.        , 0.01235906,\n",
       "       0.        , 0.        , 0.00381283, 0.        , 0.        ,\n",
       "       0.        , 0.        , 0.00775231, 0.        , 0.        ,\n",
       "       0.00387784, 0.        , 0.0034178 , 0.        , 0.        ,\n",
       "       0.        , 0.        , 0.        , 0.00157257, 0.        ,\n",
       "       0.        , 0.        , 0.00606502, 0.00256088, 0.        ,\n",
       "       0.        , 0.00755115, 0.00190836, 0.00131689, 0.        ,\n",
       "       0.        , 0.        , 0.        , 0.        , 0.        ,\n",
       "       0.        , 0.        , 0.        , 0.        , 0.        ,\n",
       "       0.        , 0.00279968, 0.        , 0.        , 0.        ,\n",
       "       0.        , 0.        , 0.        , 0.00217237, 0.        ,\n",
       "       0.        , 0.        , 0.00310763, 0.        , 0.        ,\n",
       "       0.        , 0.        , 0.        , 0.        , 0.        ,\n",
       "       0.        , 0.00272775, 0.        , 0.        , 0.        ,\n",
       "       0.        , 0.00224782, 0.00364195, 0.        , 0.        ,\n",
       "       0.        , 0.        , 0.        , 0.        , 0.        ,\n",
       "       0.        , 0.        , 0.00217405, 0.        , 0.00184675,\n",
       "       0.        , 0.        , 0.        , 0.        , 0.        ,\n",
       "       0.0019141 , 0.        , 0.        ])"
      ]
     },
     "execution_count": 30,
     "metadata": {},
     "output_type": "execute_result"
    }
   ],
   "source": [
    "importance = grid_rf.best_estimator_.named_steps.randomforestclassifier.feature_importances_\n",
    "importance"
   ]
  },
  {
   "cell_type": "code",
   "execution_count": 31,
   "id": "f641d963",
   "metadata": {},
   "outputs": [],
   "source": [
    "feature_importance_rf = pd.DataFrame({'features' :x_train.columns,\n",
    "                                   'feature_importances' : abs(importance)}).sort_values(by='feature_importances',\n",
    "                                                                                         ascending = False)\n",
    "feature_importance_rf = feature_importance_rf[:10]"
   ]
  },
  {
   "cell_type": "code",
   "execution_count": 32,
   "id": "0ccbb9fa",
   "metadata": {},
   "outputs": [
    {
     "data": {
      "text/html": [
       "<div>\n",
       "<style scoped>\n",
       "    .dataframe tbody tr th:only-of-type {\n",
       "        vertical-align: middle;\n",
       "    }\n",
       "\n",
       "    .dataframe tbody tr th {\n",
       "        vertical-align: top;\n",
       "    }\n",
       "\n",
       "    .dataframe thead th {\n",
       "        text-align: right;\n",
       "    }\n",
       "</style>\n",
       "<table border=\"1\" class=\"dataframe\">\n",
       "  <thead>\n",
       "    <tr style=\"text-align: right;\">\n",
       "      <th></th>\n",
       "      <th>features</th>\n",
       "      <th>feature_importances</th>\n",
       "      <th>rank</th>\n",
       "    </tr>\n",
       "  </thead>\n",
       "  <tbody>\n",
       "    <tr>\n",
       "      <th>7</th>\n",
       "      <td>destairportid</td>\n",
       "      <td>0.076421</td>\n",
       "      <td>1.0</td>\n",
       "    </tr>\n",
       "    <tr>\n",
       "      <th>11</th>\n",
       "      <td>crsarrtime</td>\n",
       "      <td>0.075301</td>\n",
       "      <td>2.0</td>\n",
       "    </tr>\n",
       "    <tr>\n",
       "      <th>13</th>\n",
       "      <td>airtime</td>\n",
       "      <td>0.060612</td>\n",
       "      <td>3.0</td>\n",
       "    </tr>\n",
       "    <tr>\n",
       "      <th>6</th>\n",
       "      <td>originairportid</td>\n",
       "      <td>0.059573</td>\n",
       "      <td>4.0</td>\n",
       "    </tr>\n",
       "    <tr>\n",
       "      <th>5</th>\n",
       "      <td>flight_number_reporting_airline</td>\n",
       "      <td>0.058825</td>\n",
       "      <td>5.0</td>\n",
       "    </tr>\n",
       "    <tr>\n",
       "      <th>12</th>\n",
       "      <td>crselapsedtime</td>\n",
       "      <td>0.057896</td>\n",
       "      <td>6.0</td>\n",
       "    </tr>\n",
       "    <tr>\n",
       "      <th>10</th>\n",
       "      <td>crsdeptime</td>\n",
       "      <td>0.054907</td>\n",
       "      <td>7.0</td>\n",
       "    </tr>\n",
       "    <tr>\n",
       "      <th>15</th>\n",
       "      <td>distance</td>\n",
       "      <td>0.053529</td>\n",
       "      <td>8.0</td>\n",
       "    </tr>\n",
       "    <tr>\n",
       "      <th>3</th>\n",
       "      <td>dayofmonth</td>\n",
       "      <td>0.046972</td>\n",
       "      <td>9.0</td>\n",
       "    </tr>\n",
       "    <tr>\n",
       "      <th>9</th>\n",
       "      <td>destwac</td>\n",
       "      <td>0.041510</td>\n",
       "      <td>10.0</td>\n",
       "    </tr>\n",
       "  </tbody>\n",
       "</table>\n",
       "</div>"
      ],
      "text/plain": [
       "                           features  feature_importances  rank\n",
       "7                     destairportid             0.076421   1.0\n",
       "11                       crsarrtime             0.075301   2.0\n",
       "13                          airtime             0.060612   3.0\n",
       "6                   originairportid             0.059573   4.0\n",
       "5   flight_number_reporting_airline             0.058825   5.0\n",
       "12                   crselapsedtime             0.057896   6.0\n",
       "10                       crsdeptime             0.054907   7.0\n",
       "15                         distance             0.053529   8.0\n",
       "3                        dayofmonth             0.046972   9.0\n",
       "9                           destwac             0.041510  10.0"
      ]
     },
     "execution_count": 32,
     "metadata": {},
     "output_type": "execute_result"
    }
   ],
   "source": [
    "feature_importance_rf['rank'] = feature_importance_rf['feature_importances'].rank(ascending = False)\n",
    "\n",
    "feature_importance_rf"
   ]
  },
  {
   "cell_type": "code",
   "execution_count": 33,
   "id": "fc2ed18f",
   "metadata": {},
   "outputs": [
    {
     "data": {
      "image/png": "[encoded data removed]",
      "text/plain": [
       "<Figure size 1080x1152 with 1 Axes>"
      ]
     },
     "metadata": {
      "needs_background": "light"
     },
     "output_type": "display_data"
    }
   ],
   "source": [
    "plt.figure(figsize = (15,16))  \n",
    "ax = sns.barplot(y= feature_importance_rf['features'], x = feature_importance_rf['feature_importances'],data = feature_importance_rf)\n",
    "plt.title('Random Forest Features (Top 10)', fontsize = 13)\n",
    "rects = ax.patches\n",
    "\n",
    "# For each bar: Place a label\n",
    "for rect in rects:\n",
    "    # Get X and Y placement of label from rect.\n",
    "    x_value = rect.get_width()\n",
    "    y_value = rect.get_y() + rect.get_height() / 2\n",
    "\n",
    "    # Number of points between bar and label. \n",
    "    space = 5\n",
    "\n",
    "    # Vertical alignment.\n",
    "    ha = 'left'\n",
    "\n",
    "    # Use X value as label and format number with one decimal place\n",
    "    label = \"{:.3f}\".format(x_value)\n",
    "\n",
    "    # Create annotation\n",
    "    plt.annotate(\n",
    "        label,                      # Use `label` as label\n",
    "        (x_value, y_value),         # Place label at end of the bar\n",
    "        xytext=(space, 0),          # Horizontally shift label by `space`\n",
    "        textcoords=\"offset points\", # Interpret `xytext` as offset in points\n",
    "        va='center',                # Vertically center label\n",
    "        ha=ha)                      # Horizontally align label differently for\n",
    "                                    # positive and negative values.\n",
    "\n",
    "plt.show()"
   ]
  },
  {
   "cell_type": "code",
   "execution_count": null,
   "id": "e55da7f8",
   "metadata": {},
   "outputs": [],
   "source": []
  }
 ],
 "metadata": {
  "kernelspec": {
   "display_name": "Python 3",
   "language": "python",
   "name": "python3"
  },
  "language_info": {
   "codemirror_mode": {
    "name": "ipython",
    "version": 3
   },
   "file_extension": ".py",
   "mimetype": "text/x-python",
   "name": "python",
   "nbconvert_exporter": "python",
   "pygments_lexer": "ipython3",
   "version": "3.8.8"
  }
 },
 "nbformat": 4,
 "nbformat_minor": 5
}
