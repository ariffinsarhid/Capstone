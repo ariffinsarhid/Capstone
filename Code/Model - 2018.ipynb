{
 "cells": [
  {
   "cell_type": "code",
   "execution_count": 1,
   "id": "05826a7b",
   "metadata": {},
   "outputs": [],
   "source": [
    "import pandas as pd\n",
    "import numpy as np\n",
    "import seaborn as sns\n",
    "import matplotlib.pyplot as plt\n",
    "import warnings\n",
    "warnings.simplefilter(action = 'ignore')\n",
    "import io\n",
    "\n",
    "from sklearn.model_selection import GridSearchCV, train_test_split, cross_val_score\n",
    "from sklearn.preprocessing import StandardScaler, MinMaxScaler\n",
    "from sklearn.linear_model import LogisticRegression\n",
    "from sklearn.ensemble import RandomForestClassifier, GradientBoostingClassifier\n",
    "from sklearn.preprocessing import MinMaxScaler, OneHotEncoder\n",
    "from sklearn.metrics import roc_curve, RocCurveDisplay, roc_auc_score\n",
    "from sklearn.metrics import plot_confusion_matrix, classification_report, confusion_matrix, ConfusionMatrixDisplay\n",
    "from sklearn.base import BaseEstimator, TransformerMixin\n",
    "from imblearn.over_sampling import SMOTE, RandomOverSampler\n",
    "from imblearn.under_sampling import RandomUnderSampler\n",
    "from imblearn.pipeline import make_pipeline\n",
    "\n",
    "\n",
    "from sklearn.decomposition import PCA\n",
    "from sklearn.neighbors import KNeighborsClassifier\n",
    "from imblearn.under_sampling import EditedNearestNeighbours\n",
    "from imblearn.over_sampling import SMOTE"
   ]
  },
  {
   "cell_type": "code",
   "execution_count": 2,
   "id": "6402e596",
   "metadata": {},
   "outputs": [],
   "source": [
    "df = pd.read_csv('../Data/final_table.csv')\n",
    "df = df.drop(columns= ['Unnamed: 0','flightdate'])"
   ]
  },
  {
   "cell_type": "code",
   "execution_count": 3,
   "id": "9505b814",
   "metadata": {},
   "outputs": [
    {
     "data": {
      "text/html": [
       "<div>\n",
       "<style scoped>\n",
       "    .dataframe tbody tr th:only-of-type {\n",
       "        vertical-align: middle;\n",
       "    }\n",
       "\n",
       "    .dataframe tbody tr th {\n",
       "        vertical-align: top;\n",
       "    }\n",
       "\n",
       "    .dataframe thead th {\n",
       "        text-align: right;\n",
       "    }\n",
       "</style>\n",
       "<table border=\"1\" class=\"dataframe\">\n",
       "  <thead>\n",
       "    <tr style=\"text-align: right;\">\n",
       "      <th></th>\n",
       "      <th>year</th>\n",
       "      <th>quarter</th>\n",
       "      <th>month</th>\n",
       "      <th>dayofmonth</th>\n",
       "      <th>dayofweek</th>\n",
       "      <th>flight_number_reporting_airline</th>\n",
       "      <th>originairportid</th>\n",
       "      <th>destairportid</th>\n",
       "      <th>destcitymarketid</th>\n",
       "      <th>destwac</th>\n",
       "      <th>crsdeptime</th>\n",
       "      <th>crsarrtime</th>\n",
       "      <th>arrdel15</th>\n",
       "      <th>crselapsedtime</th>\n",
       "      <th>airtime</th>\n",
       "      <th>flights</th>\n",
       "      <th>distance</th>\n",
       "      <th>distancegroup</th>\n",
       "      <th>airline</th>\n",
       "      <th>destcity</th>\n",
       "    </tr>\n",
       "  </thead>\n",
       "  <tbody>\n",
       "    <tr>\n",
       "      <th>0</th>\n",
       "      <td>2019</td>\n",
       "      <td>2</td>\n",
       "      <td>6</td>\n",
       "      <td>11</td>\n",
       "      <td>2</td>\n",
       "      <td>3459</td>\n",
       "      <td>10397</td>\n",
       "      <td>10868</td>\n",
       "      <td>30868</td>\n",
       "      <td>37</td>\n",
       "      <td>1950</td>\n",
       "      <td>2057</td>\n",
       "      <td>1.0</td>\n",
       "      <td>67.0</td>\n",
       "      <td>35.0</td>\n",
       "      <td>1</td>\n",
       "      <td>192</td>\n",
       "      <td>1</td>\n",
       "      <td>Endeavor Air Inc.</td>\n",
       "      <td>Columbia</td>\n",
       "    </tr>\n",
       "    <tr>\n",
       "      <th>1</th>\n",
       "      <td>2018</td>\n",
       "      <td>2</td>\n",
       "      <td>4</td>\n",
       "      <td>10</td>\n",
       "      <td>2</td>\n",
       "      <td>5198</td>\n",
       "      <td>10397</td>\n",
       "      <td>12197</td>\n",
       "      <td>31703</td>\n",
       "      <td>22</td>\n",
       "      <td>928</td>\n",
       "      <td>1150</td>\n",
       "      <td>0.0</td>\n",
       "      <td>142.0</td>\n",
       "      <td>99.0</td>\n",
       "      <td>1</td>\n",
       "      <td>780</td>\n",
       "      <td>4</td>\n",
       "      <td>Endeavor Air Inc.</td>\n",
       "      <td>White Plains</td>\n",
       "    </tr>\n",
       "    <tr>\n",
       "      <th>2</th>\n",
       "      <td>2019</td>\n",
       "      <td>4</td>\n",
       "      <td>10</td>\n",
       "      <td>1</td>\n",
       "      <td>2</td>\n",
       "      <td>3358</td>\n",
       "      <td>12953</td>\n",
       "      <td>11057</td>\n",
       "      <td>31057</td>\n",
       "      <td>36</td>\n",
       "      <td>1910</td>\n",
       "      <td>2130</td>\n",
       "      <td>1.0</td>\n",
       "      <td>140.0</td>\n",
       "      <td>76.0</td>\n",
       "      <td>1</td>\n",
       "      <td>544</td>\n",
       "      <td>3</td>\n",
       "      <td>Endeavor Air Inc.</td>\n",
       "      <td>Charlotte</td>\n",
       "    </tr>\n",
       "    <tr>\n",
       "      <th>3</th>\n",
       "      <td>2018</td>\n",
       "      <td>3</td>\n",
       "      <td>7</td>\n",
       "      <td>27</td>\n",
       "      <td>5</td>\n",
       "      <td>5388</td>\n",
       "      <td>10821</td>\n",
       "      <td>14492</td>\n",
       "      <td>34492</td>\n",
       "      <td>36</td>\n",
       "      <td>1526</td>\n",
       "      <td>1636</td>\n",
       "      <td>1.0</td>\n",
       "      <td>70.0</td>\n",
       "      <td>46.0</td>\n",
       "      <td>1</td>\n",
       "      <td>255</td>\n",
       "      <td>2</td>\n",
       "      <td>Endeavor Air Inc.</td>\n",
       "      <td>Raleigh/Durham</td>\n",
       "    </tr>\n",
       "    <tr>\n",
       "      <th>4</th>\n",
       "      <td>2019</td>\n",
       "      <td>1</td>\n",
       "      <td>3</td>\n",
       "      <td>4</td>\n",
       "      <td>1</td>\n",
       "      <td>5179</td>\n",
       "      <td>14122</td>\n",
       "      <td>12478</td>\n",
       "      <td>31703</td>\n",
       "      <td>22</td>\n",
       "      <td>604</td>\n",
       "      <td>745</td>\n",
       "      <td>1.0</td>\n",
       "      <td>101.0</td>\n",
       "      <td>63.0</td>\n",
       "      <td>1</td>\n",
       "      <td>340</td>\n",
       "      <td>2</td>\n",
       "      <td>Endeavor Air Inc.</td>\n",
       "      <td>New York</td>\n",
       "    </tr>\n",
       "  </tbody>\n",
       "</table>\n",
       "</div>"
      ],
      "text/plain": [
       "   year  quarter  month  dayofmonth  dayofweek  \\\n",
       "0  2019        2      6          11          2   \n",
       "1  2018        2      4          10          2   \n",
       "2  2019        4     10           1          2   \n",
       "3  2018        3      7          27          5   \n",
       "4  2019        1      3           4          1   \n",
       "\n",
       "   flight_number_reporting_airline  originairportid  destairportid  \\\n",
       "0                             3459            10397          10868   \n",
       "1                             5198            10397          12197   \n",
       "2                             3358            12953          11057   \n",
       "3                             5388            10821          14492   \n",
       "4                             5179            14122          12478   \n",
       "\n",
       "   destcitymarketid  destwac  crsdeptime  crsarrtime  arrdel15  \\\n",
       "0             30868       37        1950        2057       1.0   \n",
       "1             31703       22         928        1150       0.0   \n",
       "2             31057       36        1910        2130       1.0   \n",
       "3             34492       36        1526        1636       1.0   \n",
       "4             31703       22         604         745       1.0   \n",
       "\n",
       "   crselapsedtime  airtime  flights  distance  distancegroup  \\\n",
       "0            67.0     35.0        1       192              1   \n",
       "1           142.0     99.0        1       780              4   \n",
       "2           140.0     76.0        1       544              3   \n",
       "3            70.0     46.0        1       255              2   \n",
       "4           101.0     63.0        1       340              2   \n",
       "\n",
       "             airline        destcity  \n",
       "0  Endeavor Air Inc.        Columbia  \n",
       "1  Endeavor Air Inc.    White Plains  \n",
       "2  Endeavor Air Inc.       Charlotte  \n",
       "3  Endeavor Air Inc.  Raleigh/Durham  \n",
       "4  Endeavor Air Inc.        New York  "
      ]
     },
     "execution_count": 3,
     "metadata": {},
     "output_type": "execute_result"
    }
   ],
   "source": [
    "df.head()"
   ]
  },
  {
   "cell_type": "code",
   "execution_count": 4,
   "id": "e88e157e",
   "metadata": {},
   "outputs": [
    {
     "name": "stdout",
     "output_type": "stream",
     "text": [
      "<class 'pandas.core.frame.DataFrame'>\n",
      "Int64Index: 38130 entries, 1 to 86760\n",
      "Data columns (total 20 columns):\n",
      " #   Column                           Non-Null Count  Dtype  \n",
      "---  ------                           --------------  -----  \n",
      " 0   year                             38130 non-null  int64  \n",
      " 1   quarter                          38130 non-null  int64  \n",
      " 2   month                            38130 non-null  int64  \n",
      " 3   dayofmonth                       38130 non-null  int64  \n",
      " 4   dayofweek                        38130 non-null  int64  \n",
      " 5   flight_number_reporting_airline  38130 non-null  int64  \n",
      " 6   originairportid                  38130 non-null  int64  \n",
      " 7   destairportid                    38130 non-null  int64  \n",
      " 8   destcitymarketid                 38130 non-null  int64  \n",
      " 9   destwac                          38130 non-null  int64  \n",
      " 10  crsdeptime                       38130 non-null  int64  \n",
      " 11  crsarrtime                       38130 non-null  int64  \n",
      " 12  arrdel15                         38130 non-null  float64\n",
      " 13  crselapsedtime                   38130 non-null  float64\n",
      " 14  airtime                          38130 non-null  float64\n",
      " 15  flights                          38130 non-null  int64  \n",
      " 16  distance                         38130 non-null  int64  \n",
      " 17  distancegroup                    38130 non-null  int64  \n",
      " 18  airline                          38130 non-null  object \n",
      " 19  destcity                         38130 non-null  object \n",
      "dtypes: float64(3), int64(15), object(2)\n",
      "memory usage: 6.1+ MB\n"
     ]
    }
   ],
   "source": [
    "df_2018 = df[(df['year'] == 2018)]\n",
    "df_2018.info()"
   ]
  },
  {
   "cell_type": "code",
   "execution_count": 5,
   "id": "4cc4634f",
   "metadata": {},
   "outputs": [
    {
     "data": {
      "text/plain": [
       "array(['Endeavor Air Inc.', 'Southwest Airlines Co.',\n",
       "       'Mesa Airlines Inc.', 'Republic Airline', 'PSA Airlines Inc.',\n",
       "       'United Air Lines Inc.', 'Delta Air Lines Inc.',\n",
       "       'SkyWest Airlines Inc.', 'American Airlines Inc.',\n",
       "       'Spirit Air Lines', 'Alaska Airlines Inc.', 'JetBlue Airways',\n",
       "       'Allegiant Air', 'Frontier Airlines Inc.',\n",
       "       'Hawaiian Airlines Inc.', 'Envoy Air', 'ExpressJet Airlines LLC',\n",
       "       'Virgin America'], dtype=object)"
      ]
     },
     "execution_count": 5,
     "metadata": {},
     "output_type": "execute_result"
    }
   ],
   "source": [
    "df_2018['airline'].unique()"
   ]
  },
  {
   "cell_type": "code",
   "execution_count": 6,
   "id": "846bbbc6",
   "metadata": {},
   "outputs": [],
   "source": [
    "ranking = df_2018[['airline']]\n",
    "dictionary = {\n",
    "    'Frontier Airlines Inc.':1,\n",
    "    'JetBlue Airways':1,\n",
    "    'PSA Airlines Inc.': 1,\n",
    "    'American Airlines Inc.': 1,\n",
    "    'Mesa Airlines Inc.': 1,\n",
    "    'Virgin America': 2,\n",
    "    'Southwest Airlines Co.': 2,\n",
    "    'Allegiant Air': 2, \n",
    "    'SkyWest Airlines Inc.': 2, \n",
    "    'Envoy Air' : 3, \n",
    "    'Hawaiian Airlines Inc.': 3, \n",
    "    'Alaska Airlines Inc.': 3, \n",
    "    'ExpressJet Airlines LLC': 3,\n",
    "    'Endeavor Air Inc.': 3,\n",
    "    'United Air Lines Inc.' : 3,\n",
    "    'Republic Airline': 4,\n",
    "    'Spirit Air Lines': 4,\n",
    "    'Delta Air Lines Inc.': 4, \n",
    "\n",
    "}\n",
    "\n",
    "for i in ranking:\n",
    "    df_2018.replace({i:dictionary}, inplace = True)"
   ]
  },
  {
   "cell_type": "code",
   "execution_count": 7,
   "id": "1aedfde3",
   "metadata": {},
   "outputs": [
    {
     "data": {
      "text/plain": [
       "array([3, 2, 1, 4], dtype=int64)"
      ]
     },
     "execution_count": 7,
     "metadata": {},
     "output_type": "execute_result"
    }
   ],
   "source": [
    "df_2018['airline'].unique()"
   ]
  },
  {
   "cell_type": "markdown",
   "id": "e4748792",
   "metadata": {},
   "source": [
    "dummy = pd.get_dummies(df_2018['destcity'])"
   ]
  },
  {
   "cell_type": "markdown",
   "id": "1802c28c",
   "metadata": {},
   "source": [
    "df_2018 = pd.concat([df_2018,dummy], axis = 1)\n",
    "df_2018 = df_2018.drop(columns = ['destcity'])\n",
    "df_2018.head()"
   ]
  },
  {
   "cell_type": "code",
   "execution_count": 8,
   "id": "c7d3b064",
   "metadata": {},
   "outputs": [
    {
     "name": "stdout",
     "output_type": "stream",
     "text": [
      "<class 'pandas.core.frame.DataFrame'>\n",
      "Int64Index: 38130 entries, 1 to 86760\n",
      "Data columns (total 20 columns):\n",
      " #   Column                           Non-Null Count  Dtype  \n",
      "---  ------                           --------------  -----  \n",
      " 0   year                             38130 non-null  int64  \n",
      " 1   quarter                          38130 non-null  int64  \n",
      " 2   month                            38130 non-null  int64  \n",
      " 3   dayofmonth                       38130 non-null  int64  \n",
      " 4   dayofweek                        38130 non-null  int64  \n",
      " 5   flight_number_reporting_airline  38130 non-null  int64  \n",
      " 6   originairportid                  38130 non-null  int64  \n",
      " 7   destairportid                    38130 non-null  int64  \n",
      " 8   destcitymarketid                 38130 non-null  int64  \n",
      " 9   destwac                          38130 non-null  int64  \n",
      " 10  crsdeptime                       38130 non-null  int64  \n",
      " 11  crsarrtime                       38130 non-null  int64  \n",
      " 12  arrdel15                         38130 non-null  float64\n",
      " 13  crselapsedtime                   38130 non-null  float64\n",
      " 14  airtime                          38130 non-null  float64\n",
      " 15  flights                          38130 non-null  int64  \n",
      " 16  distance                         38130 non-null  int64  \n",
      " 17  distancegroup                    38130 non-null  int64  \n",
      " 18  airline                          38130 non-null  int64  \n",
      " 19  destcity                         38130 non-null  object \n",
      "dtypes: float64(3), int64(16), object(1)\n",
      "memory usage: 6.1+ MB\n"
     ]
    }
   ],
   "source": [
    "df_2018.info()"
   ]
  },
  {
   "cell_type": "markdown",
   "id": "2a5028d8",
   "metadata": {},
   "source": [
    "df_2018.select_dtypes(include = 'object')"
   ]
  },
  {
   "cell_type": "code",
   "execution_count": 9,
   "id": "2c41af11",
   "metadata": {},
   "outputs": [
    {
     "name": "stdout",
     "output_type": "stream",
     "text": [
      "(28597, 18) (28597,)\n"
     ]
    }
   ],
   "source": [
    "x3 = df_2018.drop(['arrdel15', 'destcity'],axis= 1)\n",
    "y3 = df_2018.arrdel15\n",
    "\n",
    "#train test split\n",
    "x_train, x_test, y_train, y_test = train_test_split(x3, y3, stratify=y3, random_state = 42)\n",
    "\n",
    "\n",
    "print(x_train.shape, y_train.shape)"
   ]
  },
  {
   "cell_type": "code",
   "execution_count": 10,
   "id": "83da1de4",
   "metadata": {},
   "outputs": [
    {
     "data": {
      "text/plain": [
       "0.0    30825\n",
       "1.0     7305\n",
       "Name: arrdel15, dtype: int64"
      ]
     },
     "execution_count": 10,
     "metadata": {},
     "output_type": "execute_result"
    }
   ],
   "source": [
    "y3.value_counts()"
   ]
  },
  {
   "cell_type": "code",
   "execution_count": 11,
   "id": "5da88d43",
   "metadata": {},
   "outputs": [],
   "source": [
    "def score(model,x_train, x_test):\n",
    "    \n",
    "    \"\"\"\n",
    "    This function scores the model by returning the confusion matrix and classification report of the model\n",
    "    \n",
    "    \"\"\"\n",
    "    \n",
    "    # Get predictions\n",
    "    preds = model.predict(x_test)\n",
    "    cm = confusion_matrix(y_test, preds)\n",
    "    ConfusionMatrixDisplay(cm, display_labels=['Flight Not Delay','Flight Delay']).plot(cmap='GnBu')\n",
    "\n",
    "    print(\"Training Score:\",model.score(x_train,y_train))\n",
    "    print(\"Testing Score:\",model.score(x_test,y_test))\n",
    "    print(\"\\n\")\n",
    "    print(classification_report(y_test, preds)) "
   ]
  },
  {
   "cell_type": "code",
   "execution_count": 12,
   "id": "076adbcf",
   "metadata": {},
   "outputs": [],
   "source": [
    "def roc(model, model_name, x_train, x_test): \n",
    "    \n",
    "    \"\"\"\n",
    "    This function generates the ROC/AUC curve of the model.\n",
    "    \n",
    "    Due to the imbalanced nature of the data, the preferred metrics for this project is ROC/AUC.\n",
    "    \n",
    "    \"\"\"      \n",
    "    \n",
    "    plt.figure(figsize=(16,10))\n",
    "    \n",
    "    # Predict probabilities from X_test\n",
    "    df = pd.DataFrame(model.predict_proba(x_test))\n",
    "    preds = df.drop(columns=0)\n",
    "    \n",
    "    # \n",
    "    fpr, tpr, _ = roc_curve(y_test, preds)\n",
    "    auc = roc_auc_score(y_test, preds)\n",
    "\n",
    "    df2 = pd.DataFrame(model.predict_proba(x_train))\n",
    "    preds2 = df2.drop(columns=0)\n",
    "    fpr2, tpr2, _ = roc_curve(y_train, preds2)\n",
    "    auc2 = roc_auc_score(y_train, preds2)\n",
    "    \n",
    "    with sns.axes_style(style=\"darkgrid\"):\n",
    "        plt.plot(fpr,tpr,color='orange',label=\"%s test, auc=%s\" %(model_name, format(auc,\".3f\")))\n",
    "        plt.plot(fpr2,tpr2,color='blue',label=\"%s train, auc=%s\" %(model_name, format(auc2,\".3f\")))\n",
    "        plt.plot(y_test,y_test,color='gray',linestyle=':') #baseline 50%\n",
    "    plt.legend(loc='lower right')    \n",
    "    \n",
    "    sns.despine(left=True,bottom=True)"
   ]
  },
  {
   "cell_type": "code",
   "execution_count": 13,
   "id": "7be3e913",
   "metadata": {},
   "outputs": [],
   "source": [
    "preprocess_pipe = make_pipeline(MinMaxScaler())"
   ]
  },
  {
   "cell_type": "code",
   "execution_count": 14,
   "id": "1ab25677",
   "metadata": {},
   "outputs": [],
   "source": [
    "#create pipeline\n",
    "lr_pipe = make_pipeline(LogisticRegression(max_iter=200, random_state = 42))\n",
    "    \n",
    "\n",
    "# define grid params for logistic regression\n",
    "lr_params = {\n",
    "    'logisticregression__C': [0.02, 0.05, 0.1],\n",
    "    'logisticregression__solver' : ['newton-cg','saga', 'sag', 'lbfgs'],\n",
    "    'logisticregression__multi_class': ['multinomial', 'ovr', 'auto'],\n",
    "    'logisticregression__penalty':['l1','l2','elasticnet'],\n",
    "    'logisticregression__l1_ratio':[None, 0.25,0.5,0.75],\n",
    "    'logisticregression__class_weight':[None, 'balanced']\n",
    "}\n",
    "\n",
    "# Instantiate GridSearchCV\n",
    "# Due to imbalanced data, scoring = roc & auc\n",
    "grid_lr = GridSearchCV(lr_pipe, param_grid = lr_params, verbose = 1, n_jobs=-1, cv=5, scoring='roc_auc')"
   ]
  },
  {
   "cell_type": "code",
   "execution_count": 15,
   "id": "6315f5ae",
   "metadata": {},
   "outputs": [],
   "source": [
    "x_train_t = preprocess_pipe.fit_transform(x_train)\n",
    "x_test_t = preprocess_pipe.transform(x_test)"
   ]
  },
  {
   "cell_type": "code",
   "execution_count": 16,
   "id": "f5252413",
   "metadata": {},
   "outputs": [
    {
     "name": "stdout",
     "output_type": "stream",
     "text": [
      "Fitting 5 folds for each of 864 candidates, totalling 4320 fits\n"
     ]
    },
    {
     "data": {
      "text/plain": [
       "GridSearchCV(cv=5,\n",
       "             estimator=Pipeline(steps=[('logisticregression',\n",
       "                                        LogisticRegression(max_iter=200,\n",
       "                                                           random_state=42))]),\n",
       "             n_jobs=-1,\n",
       "             param_grid={'logisticregression__C': [0.02, 0.05, 0.1],\n",
       "                         'logisticregression__class_weight': [None, 'balanced'],\n",
       "                         'logisticregression__l1_ratio': [None, 0.25, 0.5,\n",
       "                                                          0.75],\n",
       "                         'logisticregression__multi_class': ['multinomial',\n",
       "                                                             'ovr', 'auto'],\n",
       "                         'logisticregression__penalty': ['l1', 'l2',\n",
       "                                                         'elasticnet'],\n",
       "                         'logisticregression__solver': ['newton-cg', 'saga',\n",
       "                                                        'sag', 'lbfgs']},\n",
       "             scoring='roc_auc', verbose=1)"
      ]
     },
     "execution_count": 16,
     "metadata": {},
     "output_type": "execute_result"
    }
   ],
   "source": [
    "grid_lr.fit(x_train_t,y_train)"
   ]
  },
  {
   "cell_type": "code",
   "execution_count": 17,
   "id": "14663ec7",
   "metadata": {},
   "outputs": [
    {
     "name": "stdout",
     "output_type": "stream",
     "text": [
      "best score 0.6431052446755343\n",
      "best params {'logisticregression__C': 0.1, 'logisticregression__class_weight': 'balanced', 'logisticregression__l1_ratio': None, 'logisticregression__multi_class': 'multinomial', 'logisticregression__penalty': 'l1', 'logisticregression__solver': 'saga'}\n"
     ]
    }
   ],
   "source": [
    "print(\"best score\", grid_lr.best_score_)\n",
    "print(\"best params\", grid_lr.best_params_)"
   ]
  },
  {
   "cell_type": "code",
   "execution_count": 18,
   "id": "5e92644a",
   "metadata": {},
   "outputs": [
    {
     "name": "stdout",
     "output_type": "stream",
     "text": [
      "Training Score: 0.6498482175475904\n",
      "Testing Score: 0.6423935595170946\n",
      "\n",
      "\n",
      "              precision    recall  f1-score   support\n",
      "\n",
      "         0.0       0.87      0.59      0.70      7707\n",
      "         1.0       0.26      0.61      0.37      1826\n",
      "\n",
      "    accuracy                           0.59      9533\n",
      "   macro avg       0.56      0.60      0.53      9533\n",
      "weighted avg       0.75      0.59      0.64      9533\n",
      "\n"
     ]
    },
    {
     "data": {
      "image/png": "[encoded data removed]",
      "text/plain": [
       "<Figure size 432x288 with 2 Axes>"
      ]
     },
     "metadata": {
      "needs_background": "light"
     },
     "output_type": "display_data"
    }
   ],
   "source": [
    "score(grid_lr, x_train_t, x_test_t)"
   ]
  },
  {
   "cell_type": "code",
   "execution_count": 19,
   "id": "e8f2983b",
   "metadata": {},
   "outputs": [
    {
     "data": {
      "image/png": "[encoded data removed]",
      "text/plain": [
       "<Figure size 1152x720 with 1 Axes>"
      ]
     },
     "metadata": {
      "needs_background": "light"
     },
     "output_type": "display_data"
    }
   ],
   "source": [
    "roc(grid_lr,\"LogisticRegression\", x_train_t, x_test_t)"
   ]
  },
  {
   "cell_type": "code",
   "execution_count": 20,
   "id": "1895476c",
   "metadata": {
    "scrolled": true
   },
   "outputs": [
    {
     "data": {
      "text/plain": [
       "array([ 0.00000000e+00,  2.58725554e-02,  0.00000000e+00,  3.73267929e-03,\n",
       "       -5.52600757e-02,  1.00600513e-01,  6.60841050e-02,  0.00000000e+00,\n",
       "       -5.36694010e-02, -1.34169449e-01,  7.39099105e-01,  2.48665455e-01,\n",
       "       -2.12864604e+00,  6.34274164e+00,  0.00000000e+00, -2.92667570e+00,\n",
       "       -3.59890665e-01, -2.02862440e-01])"
      ]
     },
     "execution_count": 20,
     "metadata": {},
     "output_type": "execute_result"
    }
   ],
   "source": [
    "importance = grid_lr.best_estimator_.named_steps['logisticregression'].coef_[0]\n",
    "importance"
   ]
  },
  {
   "cell_type": "code",
   "execution_count": 21,
   "id": "8119b966",
   "metadata": {},
   "outputs": [],
   "source": [
    "feature_importance = pd.DataFrame({'features' :x_train.columns,\n",
    "                                   'coefficient' : abs(importance)}).sort_values(by='coefficient', ascending = False)"
   ]
  },
  {
   "cell_type": "code",
   "execution_count": 22,
   "id": "78ef7cae",
   "metadata": {},
   "outputs": [],
   "source": [
    "feature_importance['rank'] = feature_importance['coefficient'].rank(ascending = False)\n",
    "feature_importance = feature_importance[:10]"
   ]
  },
  {
   "cell_type": "code",
   "execution_count": 23,
   "id": "5a2145ed",
   "metadata": {},
   "outputs": [
    {
     "data": {
      "image/png": "[encoded data removed]",
      "text/plain": [
       "<Figure size 1080x1152 with 1 Axes>"
      ]
     },
     "metadata": {
      "needs_background": "light"
     },
     "output_type": "display_data"
    }
   ],
   "source": [
    "plt.figure(figsize = (15,16))  \n",
    "ax = sns.barplot(y= feature_importance['features'], x = feature_importance['coefficient'],data = feature_importance)\n",
    "plt.title('Logistic Regression feature (Top 10)', fontsize = 13)\n",
    "rects = ax.patches\n",
    "\n",
    "# For each bar: Place a label\n",
    "for rect in rects:\n",
    "    # Get X and Y placement of label from rect.\n",
    "    x_value = rect.get_width()\n",
    "    y_value = rect.get_y() + rect.get_height() / 2\n",
    "\n",
    "    # Number of points between bar and label. \n",
    "    space = 5\n",
    "\n",
    "    # Vertical alignment.\n",
    "    ha = 'left'\n",
    "\n",
    "    # Use X value as label and format number with one decimal place\n",
    "    label = \"{:.3f}\".format(x_value)\n",
    "\n",
    "    # Create annotation\n",
    "    plt.annotate(\n",
    "        label,                      # Use `label` as label\n",
    "        (x_value, y_value),         # Place label at end of the bar\n",
    "        xytext=(space, 0),          # Horizontally shift label by `space`\n",
    "        textcoords=\"offset points\", # Interpret `xytext` as offset in points\n",
    "        va='center',                # Vertically center label\n",
    "        ha=ha)                      # Horizontally align label differently for\n",
    "                                    # positive and negative values.\n",
    "\n",
    "plt.show()"
   ]
  },
  {
   "cell_type": "markdown",
   "id": "66c83b6e",
   "metadata": {},
   "source": [
    "## Random forest"
   ]
  },
  {
   "cell_type": "code",
   "execution_count": 24,
   "id": "8bf43d54",
   "metadata": {},
   "outputs": [],
   "source": [
    "# create modelling pipeline with SMOTE to deal with imbalanced classes\n",
    "\n",
    "rf_pipe = make_pipeline(RandomForestClassifier(random_state=42))\n",
    "\n",
    "# define grid params for random forest classifier\n",
    "rf_params = {\n",
    "    'randomforestclassifier__n_estimators':[20,50,100],\n",
    "    'randomforestclassifier__max_depth':[5,20,50],\n",
    "    'randomforestclassifier__criterion':['gini','entropy'],\n",
    "    'randomforestclassifier__max_leaf_nodes':[5,10,15],\n",
    "    'randomforestclassifier__class_weight':['balanced','balanced_subsample'],\n",
    "}\n",
    "\n",
    "# Instantiate GridSearchCV\n",
    "# Due to imbalanced data, scoring = roc & auc\n",
    "grid_rf = GridSearchCV(rf_pipe, param_grid = rf_params, verbose = 1, n_jobs=-1, cv=5, scoring='roc_auc')"
   ]
  },
  {
   "cell_type": "code",
   "execution_count": 25,
   "id": "61288b64",
   "metadata": {},
   "outputs": [
    {
     "name": "stdout",
     "output_type": "stream",
     "text": [
      "Fitting 5 folds for each of 108 candidates, totalling 540 fits\n"
     ]
    },
    {
     "data": {
      "text/plain": [
       "GridSearchCV(cv=5,\n",
       "             estimator=Pipeline(steps=[('randomforestclassifier',\n",
       "                                        RandomForestClassifier(random_state=42))]),\n",
       "             n_jobs=-1,\n",
       "             param_grid={'randomforestclassifier__class_weight': ['balanced',\n",
       "                                                                  'balanced_subsample'],\n",
       "                         'randomforestclassifier__criterion': ['gini',\n",
       "                                                               'entropy'],\n",
       "                         'randomforestclassifier__max_depth': [5, 20, 50],\n",
       "                         'randomforestclassifier__max_leaf_nodes': [5, 10, 15],\n",
       "                         'randomforestclassifier__n_estimators': [20, 50, 100]},\n",
       "             scoring='roc_auc', verbose=1)"
      ]
     },
     "execution_count": 25,
     "metadata": {},
     "output_type": "execute_result"
    }
   ],
   "source": [
    "grid_rf.fit(x_train_t,y_train)"
   ]
  },
  {
   "cell_type": "code",
   "execution_count": 26,
   "id": "d0fb4b6f",
   "metadata": {},
   "outputs": [
    {
     "name": "stdout",
     "output_type": "stream",
     "text": [
      "best score 0.6306608218384764\n",
      "best params {'randomforestclassifier__class_weight': 'balanced_subsample', 'randomforestclassifier__criterion': 'gini', 'randomforestclassifier__max_depth': 20, 'randomforestclassifier__max_leaf_nodes': 15, 'randomforestclassifier__n_estimators': 100}\n"
     ]
    }
   ],
   "source": [
    "print(\"best score\", grid_rf.best_score_)\n",
    "print(\"best params\", grid_rf.best_params_)"
   ]
  },
  {
   "cell_type": "code",
   "execution_count": 27,
   "id": "a49e6c5c",
   "metadata": {},
   "outputs": [
    {
     "name": "stdout",
     "output_type": "stream",
     "text": [
      "Training Score: 0.6507033216714122\n",
      "Testing Score: 0.6254451259868021\n",
      "\n",
      "\n",
      "              precision    recall  f1-score   support\n",
      "\n",
      "         0.0       0.86      0.54      0.67      7707\n",
      "         1.0       0.25      0.63      0.35      1826\n",
      "\n",
      "    accuracy                           0.56      9533\n",
      "   macro avg       0.55      0.59      0.51      9533\n",
      "weighted avg       0.74      0.56      0.61      9533\n",
      "\n"
     ]
    },
    {
     "data": {
      "image/png": "[encoded data removed]",
      "text/plain": [
       "<Figure size 432x288 with 2 Axes>"
      ]
     },
     "metadata": {
      "needs_background": "light"
     },
     "output_type": "display_data"
    }
   ],
   "source": [
    "score(grid_rf, x_train_t, x_test_t)"
   ]
  },
  {
   "cell_type": "code",
   "execution_count": 28,
   "id": "d9931d9d",
   "metadata": {},
   "outputs": [
    {
     "data": {
      "image/png": "[encoded data removed]",
      "text/plain": [
       "<Figure size 1152x720 with 1 Axes>"
      ]
     },
     "metadata": {
      "needs_background": "light"
     },
     "output_type": "display_data"
    }
   ],
   "source": [
    "roc(grid_rf,\"RandomForestClassifier\", x_train_t, x_test_t)"
   ]
  },
  {
   "cell_type": "code",
   "execution_count": 29,
   "id": "78ee14ca",
   "metadata": {
    "scrolled": true
   },
   "outputs": [
    {
     "data": {
      "text/plain": [
       "array([0.        , 0.01236712, 0.02770105, 0.01212702, 0.00522126,\n",
       "       0.03539398, 0.01572003, 0.01029663, 0.0097133 , 0.02959092,\n",
       "       0.39867241, 0.29337903, 0.01851731, 0.03593891, 0.        ,\n",
       "       0.02040734, 0.00452451, 0.07042918])"
      ]
     },
     "execution_count": 29,
     "metadata": {},
     "output_type": "execute_result"
    }
   ],
   "source": [
    "importance = grid_rf.best_estimator_.named_steps.randomforestclassifier.feature_importances_\n",
    "importance"
   ]
  },
  {
   "cell_type": "code",
   "execution_count": 30,
   "id": "f356a674",
   "metadata": {},
   "outputs": [],
   "source": [
    "feature_importance_rf = pd.DataFrame({'features' :x_train.columns,\n",
    "                                   'feature_importances' : abs(importance)}).sort_values(by='feature_importances',\n",
    "                                                                                         ascending = False)"
   ]
  },
  {
   "cell_type": "code",
   "execution_count": 31,
   "id": "8ebdbb7e",
   "metadata": {},
   "outputs": [
    {
     "data": {
      "text/html": [
       "<div>\n",
       "<style scoped>\n",
       "    .dataframe tbody tr th:only-of-type {\n",
       "        vertical-align: middle;\n",
       "    }\n",
       "\n",
       "    .dataframe tbody tr th {\n",
       "        vertical-align: top;\n",
       "    }\n",
       "\n",
       "    .dataframe thead th {\n",
       "        text-align: right;\n",
       "    }\n",
       "</style>\n",
       "<table border=\"1\" class=\"dataframe\">\n",
       "  <thead>\n",
       "    <tr style=\"text-align: right;\">\n",
       "      <th></th>\n",
       "      <th>features</th>\n",
       "      <th>feature_importances</th>\n",
       "    </tr>\n",
       "  </thead>\n",
       "  <tbody>\n",
       "    <tr>\n",
       "      <th>10</th>\n",
       "      <td>crsdeptime</td>\n",
       "      <td>0.398672</td>\n",
       "    </tr>\n",
       "    <tr>\n",
       "      <th>11</th>\n",
       "      <td>crsarrtime</td>\n",
       "      <td>0.293379</td>\n",
       "    </tr>\n",
       "    <tr>\n",
       "      <th>17</th>\n",
       "      <td>airline</td>\n",
       "      <td>0.070429</td>\n",
       "    </tr>\n",
       "    <tr>\n",
       "      <th>13</th>\n",
       "      <td>airtime</td>\n",
       "      <td>0.035939</td>\n",
       "    </tr>\n",
       "    <tr>\n",
       "      <th>5</th>\n",
       "      <td>flight_number_reporting_airline</td>\n",
       "      <td>0.035394</td>\n",
       "    </tr>\n",
       "    <tr>\n",
       "      <th>9</th>\n",
       "      <td>destwac</td>\n",
       "      <td>0.029591</td>\n",
       "    </tr>\n",
       "    <tr>\n",
       "      <th>2</th>\n",
       "      <td>month</td>\n",
       "      <td>0.027701</td>\n",
       "    </tr>\n",
       "    <tr>\n",
       "      <th>15</th>\n",
       "      <td>distance</td>\n",
       "      <td>0.020407</td>\n",
       "    </tr>\n",
       "    <tr>\n",
       "      <th>12</th>\n",
       "      <td>crselapsedtime</td>\n",
       "      <td>0.018517</td>\n",
       "    </tr>\n",
       "    <tr>\n",
       "      <th>6</th>\n",
       "      <td>originairportid</td>\n",
       "      <td>0.015720</td>\n",
       "    </tr>\n",
       "    <tr>\n",
       "      <th>1</th>\n",
       "      <td>quarter</td>\n",
       "      <td>0.012367</td>\n",
       "    </tr>\n",
       "    <tr>\n",
       "      <th>3</th>\n",
       "      <td>dayofmonth</td>\n",
       "      <td>0.012127</td>\n",
       "    </tr>\n",
       "    <tr>\n",
       "      <th>7</th>\n",
       "      <td>destairportid</td>\n",
       "      <td>0.010297</td>\n",
       "    </tr>\n",
       "    <tr>\n",
       "      <th>8</th>\n",
       "      <td>destcitymarketid</td>\n",
       "      <td>0.009713</td>\n",
       "    </tr>\n",
       "    <tr>\n",
       "      <th>4</th>\n",
       "      <td>dayofweek</td>\n",
       "      <td>0.005221</td>\n",
       "    </tr>\n",
       "    <tr>\n",
       "      <th>16</th>\n",
       "      <td>distancegroup</td>\n",
       "      <td>0.004525</td>\n",
       "    </tr>\n",
       "    <tr>\n",
       "      <th>14</th>\n",
       "      <td>flights</td>\n",
       "      <td>0.000000</td>\n",
       "    </tr>\n",
       "    <tr>\n",
       "      <th>0</th>\n",
       "      <td>year</td>\n",
       "      <td>0.000000</td>\n",
       "    </tr>\n",
       "  </tbody>\n",
       "</table>\n",
       "</div>"
      ],
      "text/plain": [
       "                           features  feature_importances\n",
       "10                       crsdeptime             0.398672\n",
       "11                       crsarrtime             0.293379\n",
       "17                          airline             0.070429\n",
       "13                          airtime             0.035939\n",
       "5   flight_number_reporting_airline             0.035394\n",
       "9                           destwac             0.029591\n",
       "2                             month             0.027701\n",
       "15                         distance             0.020407\n",
       "12                   crselapsedtime             0.018517\n",
       "6                   originairportid             0.015720\n",
       "1                           quarter             0.012367\n",
       "3                        dayofmonth             0.012127\n",
       "7                     destairportid             0.010297\n",
       "8                  destcitymarketid             0.009713\n",
       "4                         dayofweek             0.005221\n",
       "16                    distancegroup             0.004525\n",
       "14                          flights             0.000000\n",
       "0                              year             0.000000"
      ]
     },
     "execution_count": 31,
     "metadata": {},
     "output_type": "execute_result"
    }
   ],
   "source": [
    "feature_importance_rf"
   ]
  },
  {
   "cell_type": "code",
   "execution_count": 32,
   "id": "cb334229",
   "metadata": {},
   "outputs": [
    {
     "data": {
      "text/html": [
       "<div>\n",
       "<style scoped>\n",
       "    .dataframe tbody tr th:only-of-type {\n",
       "        vertical-align: middle;\n",
       "    }\n",
       "\n",
       "    .dataframe tbody tr th {\n",
       "        vertical-align: top;\n",
       "    }\n",
       "\n",
       "    .dataframe thead th {\n",
       "        text-align: right;\n",
       "    }\n",
       "</style>\n",
       "<table border=\"1\" class=\"dataframe\">\n",
       "  <thead>\n",
       "    <tr style=\"text-align: right;\">\n",
       "      <th></th>\n",
       "      <th>features</th>\n",
       "      <th>coefficient</th>\n",
       "      <th>rank</th>\n",
       "    </tr>\n",
       "  </thead>\n",
       "  <tbody>\n",
       "    <tr>\n",
       "      <th>13</th>\n",
       "      <td>airtime</td>\n",
       "      <td>6.342742</td>\n",
       "      <td>1.0</td>\n",
       "    </tr>\n",
       "    <tr>\n",
       "      <th>15</th>\n",
       "      <td>distance</td>\n",
       "      <td>2.926676</td>\n",
       "      <td>2.0</td>\n",
       "    </tr>\n",
       "    <tr>\n",
       "      <th>12</th>\n",
       "      <td>crselapsedtime</td>\n",
       "      <td>2.128646</td>\n",
       "      <td>3.0</td>\n",
       "    </tr>\n",
       "    <tr>\n",
       "      <th>10</th>\n",
       "      <td>crsdeptime</td>\n",
       "      <td>0.739099</td>\n",
       "      <td>4.0</td>\n",
       "    </tr>\n",
       "    <tr>\n",
       "      <th>16</th>\n",
       "      <td>distancegroup</td>\n",
       "      <td>0.359891</td>\n",
       "      <td>5.0</td>\n",
       "    </tr>\n",
       "    <tr>\n",
       "      <th>11</th>\n",
       "      <td>crsarrtime</td>\n",
       "      <td>0.248665</td>\n",
       "      <td>6.0</td>\n",
       "    </tr>\n",
       "    <tr>\n",
       "      <th>17</th>\n",
       "      <td>airline</td>\n",
       "      <td>0.202862</td>\n",
       "      <td>7.0</td>\n",
       "    </tr>\n",
       "    <tr>\n",
       "      <th>9</th>\n",
       "      <td>destwac</td>\n",
       "      <td>0.134169</td>\n",
       "      <td>8.0</td>\n",
       "    </tr>\n",
       "    <tr>\n",
       "      <th>5</th>\n",
       "      <td>flight_number_reporting_airline</td>\n",
       "      <td>0.100601</td>\n",
       "      <td>9.0</td>\n",
       "    </tr>\n",
       "    <tr>\n",
       "      <th>6</th>\n",
       "      <td>originairportid</td>\n",
       "      <td>0.066084</td>\n",
       "      <td>10.0</td>\n",
       "    </tr>\n",
       "  </tbody>\n",
       "</table>\n",
       "</div>"
      ],
      "text/plain": [
       "                           features  coefficient  rank\n",
       "13                          airtime     6.342742   1.0\n",
       "15                         distance     2.926676   2.0\n",
       "12                   crselapsedtime     2.128646   3.0\n",
       "10                       crsdeptime     0.739099   4.0\n",
       "16                    distancegroup     0.359891   5.0\n",
       "11                       crsarrtime     0.248665   6.0\n",
       "17                          airline     0.202862   7.0\n",
       "9                           destwac     0.134169   8.0\n",
       "5   flight_number_reporting_airline     0.100601   9.0\n",
       "6                   originairportid     0.066084  10.0"
      ]
     },
     "execution_count": 32,
     "metadata": {},
     "output_type": "execute_result"
    }
   ],
   "source": [
    "feature_importance_rf['rank'] = feature_importance_rf['feature_importances'].rank(ascending = False)\n",
    "feature_importance_rf = feature_importance[:10]\n",
    "feature_importance_rf"
   ]
  },
  {
   "cell_type": "code",
   "execution_count": 33,
   "id": "3f670318",
   "metadata": {},
   "outputs": [
    {
     "data": {
      "image/png": "[encoded data removed]",
      "text/plain": [
       "<Figure size 1080x1152 with 1 Axes>"
      ]
     },
     "metadata": {
      "needs_background": "light"
     },
     "output_type": "display_data"
    }
   ],
   "source": [
    "plt.figure(figsize = (15,16))  \n",
    "ax = sns.barplot(y= feature_importance_rf['features'], x = feature_importance_rf['coefficient'],data = feature_importance_rf)\n",
    "plt.title('Random Forest Features (Top 10)', fontsize = 13)\n",
    "rects = ax.patches\n",
    "\n",
    "# For each bar: Place a label\n",
    "for rect in rects:\n",
    "    # Get X and Y placement of label from rect.\n",
    "    x_value = rect.get_width()\n",
    "    y_value = rect.get_y() + rect.get_height() / 2\n",
    "\n",
    "    # Number of points between bar and label. \n",
    "    space = 5\n",
    "\n",
    "    # Vertical alignment.\n",
    "    ha = 'left'\n",
    "\n",
    "    # Use X value as label and format number with one decimal place\n",
    "    label = \"{:.3f}\".format(x_value)\n",
    "\n",
    "    # Create annotation\n",
    "    plt.annotate(\n",
    "        label,                      # Use `label` as label\n",
    "        (x_value, y_value),         # Place label at end of the bar\n",
    "        xytext=(space, 0),          # Horizontally shift label by `space`\n",
    "        textcoords=\"offset points\", # Interpret `xytext` as offset in points\n",
    "        va='center',                # Vertically center label\n",
    "        ha=ha)                      # Horizontally align label differently for\n",
    "                                    # positive and negative values.\n",
    "\n",
    "plt.show()"
   ]
  },
  {
   "cell_type": "code",
   "execution_count": null,
   "id": "e2a20aad",
   "metadata": {},
   "outputs": [],
   "source": []
  }
 ],
 "metadata": {
  "kernelspec": {
   "display_name": "Python 3",
   "language": "python",
   "name": "python3"
  },
  "language_info": {
   "codemirror_mode": {
    "name": "ipython",
    "version": 3
   },
   "file_extension": ".py",
   "mimetype": "text/x-python",
   "name": "python",
   "nbconvert_exporter": "python",
   "pygments_lexer": "ipython3",
   "version": "3.8.8"
  }
 },
 "nbformat": 4,
 "nbformat_minor": 5
}
