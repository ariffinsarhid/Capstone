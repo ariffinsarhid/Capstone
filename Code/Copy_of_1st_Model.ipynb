{
  "nbformat": 4,
  "nbformat_minor": 5,
  "metadata": {
    "accelerator": "TPU",
    "colab": {
      "name": "Copy of 1st Model.ipynb",
      "provenance": [],
      "collapsed_sections": []
    },
    "kernelspec": {
      "display_name": "Python 3",
      "language": "python",
      "name": "python3"
    },
    "language_info": {
      "codemirror_mode": {
        "name": "ipython",
        "version": 3
      },
      "file_extension": ".py",
      "mimetype": "text/x-python",
      "name": "python",
      "nbconvert_exporter": "python",
      "pygments_lexer": "ipython3",
      "version": "3.8.8"
    }
  },
  "cells": [
    {
      "cell_type": "code",
      "metadata": {
        "id": "30743c37"
      },
      "source": [
        "import pandas as pd\n",
        "import numpy as np\n",
        "import seaborn as sns\n",
        "import matplotlib.pyplot as plt\n",
        "import warnings\n",
        "warnings.simplefilter(action = 'ignore')\n",
        "import io\n",
        "\n",
        "from sklearn.model_selection import GridSearchCV, train_test_split, cross_val_score\n",
        "from sklearn.preprocessing import StandardScaler, MinMaxScaler\n",
        "from sklearn.linear_model import LogisticRegression\n",
        "from sklearn.ensemble import RandomForestClassifier, GradientBoostingClassifier\n",
        "from sklearn.preprocessing import MinMaxScaler, OneHotEncoder\n",
        "from sklearn.metrics import roc_curve, RocCurveDisplay, roc_auc_score\n",
        "from sklearn.metrics import plot_confusion_matrix, classification_report, confusion_matrix, ConfusionMatrixDisplay\n",
        "from sklearn.base import BaseEstimator, TransformerMixin\n",
        "from imblearn.over_sampling import SMOTE, RandomOverSampler\n",
        "from imblearn.under_sampling import RandomUnderSampler\n",
        "from imblearn.pipeline import make_pipeline\n",
        "\n",
        "\n",
        "from sklearn.decomposition import PCA\n",
        "from sklearn.neighbors import KNeighborsClassifier\n",
        "from imblearn.under_sampling import EditedNearestNeighbours\n",
        "from imblearn.over_sampling import SMOTE"
      ],
      "id": "30743c37",
      "execution_count": null,
      "outputs": []
    },
    {
      "cell_type": "code",
      "metadata": {
        "id": "d82a84cd"
      },
      "source": [
        "url_1 = 'https://raw.githubusercontent.com/ariffinsarhid/Predicting-Airline-On-Time-Performance-In-Progress-/main/Data/final_table.csv'\n",
        "\n",
        "df = pd.read_csv(url_1, index_col='flightdate')"
      ],
      "id": "d82a84cd",
      "execution_count": null,
      "outputs": []
    },
    {
      "cell_type": "code",
      "metadata": {
        "colab": {
          "base_uri": "https://localhost:8080/"
        },
        "id": "87ddddad",
        "outputId": "9a8476f1-918c-42ec-8d15-73be2a14a4c2"
      },
      "source": [
        "df.info()"
      ],
      "id": "87ddddad",
      "execution_count": null,
      "outputs": [
        {
          "output_type": "stream",
          "name": "stdout",
          "text": [
            "<class 'pandas.core.frame.DataFrame'>\n",
            "Index: 86761 entries, 11/06/19 to 09/02/18\n",
            "Data columns (total 49 columns):\n",
            " #   Column                           Non-Null Count  Dtype  \n",
            "---  ------                           --------------  -----  \n",
            " 0   year                             86761 non-null  int64  \n",
            " 1   quarter                          86761 non-null  int64  \n",
            " 2   month                            86761 non-null  int64  \n",
            " 3   dayofmonth                       86761 non-null  int64  \n",
            " 4   dayofweek                        86761 non-null  int64  \n",
            " 5   dot_id_reporting_airline         86761 non-null  int64  \n",
            " 6   iata_code_reporting_airline      86761 non-null  object \n",
            " 7   flight_number_reporting_airline  86761 non-null  int64  \n",
            " 8   originairportid                  86761 non-null  int64  \n",
            " 9   originairportseqid               86761 non-null  int64  \n",
            " 10  origincitymarketid               86761 non-null  int64  \n",
            " 11  originstatefips                  86761 non-null  int64  \n",
            " 12  originstatename                  86761 non-null  object \n",
            " 13  originwac                        86761 non-null  int64  \n",
            " 14  destairportid                    86761 non-null  int64  \n",
            " 15  destairportseqid                 86761 non-null  int64  \n",
            " 16  destcitymarketid                 86761 non-null  int64  \n",
            " 17  deststatename                    86761 non-null  object \n",
            " 18  destwac                          86761 non-null  int64  \n",
            " 19  crsdeptime                       86761 non-null  int64  \n",
            " 20  deptime                          86761 non-null  float64\n",
            " 21  depdelay                         86761 non-null  float64\n",
            " 22  depdelayminutes                  86761 non-null  float64\n",
            " 23  depdel15                         86761 non-null  float64\n",
            " 24  departuredelaygroups             86761 non-null  float64\n",
            " 25  taxiout                          86761 non-null  float64\n",
            " 26  wheelsoff                        86761 non-null  float64\n",
            " 27  wheelson                         86761 non-null  float64\n",
            " 28  taxiin                           86761 non-null  float64\n",
            " 29  crsarrtime                       86761 non-null  int64  \n",
            " 30  arrtime                          86761 non-null  float64\n",
            " 31  arrdelay                         86761 non-null  float64\n",
            " 32  arrdelayminutes                  86761 non-null  float64\n",
            " 33  arrdel15                         86761 non-null  float64\n",
            " 34  arrivaldelaygroups               86761 non-null  float64\n",
            " 35  crselapsedtime                   86761 non-null  float64\n",
            " 36  actualelapsedtime                86761 non-null  float64\n",
            " 37  airtime                          86761 non-null  float64\n",
            " 38  flights                          86761 non-null  int64  \n",
            " 39  distance                         86761 non-null  int64  \n",
            " 40  distancegroup                    86761 non-null  int64  \n",
            " 41  carrierdelay                     86761 non-null  float64\n",
            " 42  weatherdelay                     86761 non-null  float64\n",
            " 43  nasdelay                         86761 non-null  float64\n",
            " 44  securitydelay                    86761 non-null  float64\n",
            " 45  lateaircraftdelay                86761 non-null  float64\n",
            " 46  airline                          86761 non-null  object \n",
            " 47  origincity                       86761 non-null  object \n",
            " 48  destcity                         86761 non-null  object \n",
            "dtypes: float64(22), int64(21), object(6)\n",
            "memory usage: 33.1+ MB\n"
          ]
        }
      ]
    },
    {
      "cell_type": "code",
      "metadata": {
        "id": "c9a5060d"
      },
      "source": [
        "df = pd.get_dummies(df, columns = ['iata_code_reporting_airline',\n",
        "                                  'originstatename', 'deststatename', 'airline', 'origincity', 'destcity'])"
      ],
      "id": "c9a5060d",
      "execution_count": null,
      "outputs": []
    },
    {
      "cell_type": "code",
      "metadata": {
        "colab": {
          "base_uri": "https://localhost:8080/",
          "height": 339
        },
        "id": "8dadec18",
        "outputId": "86d4018e-0c2e-452a-915a-a881bb8a27b7"
      },
      "source": [
        "df.head()"
      ],
      "id": "8dadec18",
      "execution_count": null,
      "outputs": [
        {
          "output_type": "execute_result",
          "data": {
            "text/html": [
              "<div>\n",
              "<style scoped>\n",
              "    .dataframe tbody tr th:only-of-type {\n",
              "        vertical-align: middle;\n",
              "    }\n",
              "\n",
              "    .dataframe tbody tr th {\n",
              "        vertical-align: top;\n",
              "    }\n",
              "\n",
              "    .dataframe thead th {\n",
              "        text-align: right;\n",
              "    }\n",
              "</style>\n",
              "<table border=\"1\" class=\"dataframe\">\n",
              "  <thead>\n",
              "    <tr style=\"text-align: right;\">\n",
              "      <th></th>\n",
              "      <th>year</th>\n",
              "      <th>quarter</th>\n",
              "      <th>month</th>\n",
              "      <th>dayofmonth</th>\n",
              "      <th>dayofweek</th>\n",
              "      <th>dot_id_reporting_airline</th>\n",
              "      <th>flight_number_reporting_airline</th>\n",
              "      <th>originairportid</th>\n",
              "      <th>originairportseqid</th>\n",
              "      <th>origincitymarketid</th>\n",
              "      <th>originstatefips</th>\n",
              "      <th>originwac</th>\n",
              "      <th>destairportid</th>\n",
              "      <th>destairportseqid</th>\n",
              "      <th>destcitymarketid</th>\n",
              "      <th>destwac</th>\n",
              "      <th>crsdeptime</th>\n",
              "      <th>deptime</th>\n",
              "      <th>depdelay</th>\n",
              "      <th>depdelayminutes</th>\n",
              "      <th>depdel15</th>\n",
              "      <th>departuredelaygroups</th>\n",
              "      <th>taxiout</th>\n",
              "      <th>wheelsoff</th>\n",
              "      <th>wheelson</th>\n",
              "      <th>taxiin</th>\n",
              "      <th>crsarrtime</th>\n",
              "      <th>arrtime</th>\n",
              "      <th>arrdelay</th>\n",
              "      <th>arrdelayminutes</th>\n",
              "      <th>arrdel15</th>\n",
              "      <th>arrivaldelaygroups</th>\n",
              "      <th>crselapsedtime</th>\n",
              "      <th>actualelapsedtime</th>\n",
              "      <th>airtime</th>\n",
              "      <th>flights</th>\n",
              "      <th>distance</th>\n",
              "      <th>distancegroup</th>\n",
              "      <th>carrierdelay</th>\n",
              "      <th>weatherdelay</th>\n",
              "      <th>...</th>\n",
              "      <th>destcity_Spokane</th>\n",
              "      <th>destcity_Springfield</th>\n",
              "      <th>destcity_St. Cloud</th>\n",
              "      <th>destcity_St. George</th>\n",
              "      <th>destcity_St. Louis</th>\n",
              "      <th>destcity_St. Petersburg</th>\n",
              "      <th>destcity_State College</th>\n",
              "      <th>destcity_Staunton</th>\n",
              "      <th>destcity_Stillwater</th>\n",
              "      <th>destcity_Stockton</th>\n",
              "      <th>destcity_Sun Valley/Hailey/Ketchum</th>\n",
              "      <th>destcity_Syracuse</th>\n",
              "      <th>destcity_Tallahassee</th>\n",
              "      <th>destcity_Tampa</th>\n",
              "      <th>destcity_Texarkana</th>\n",
              "      <th>destcity_Toledo</th>\n",
              "      <th>destcity_Traverse City</th>\n",
              "      <th>destcity_Trenton</th>\n",
              "      <th>destcity_Tucson</th>\n",
              "      <th>destcity_Tulsa</th>\n",
              "      <th>destcity_Twin Falls</th>\n",
              "      <th>destcity_Tyler</th>\n",
              "      <th>destcity_Valdosta</th>\n",
              "      <th>destcity_Valparaiso</th>\n",
              "      <th>destcity_Vernal</th>\n",
              "      <th>destcity_Waco</th>\n",
              "      <th>destcity_Washington</th>\n",
              "      <th>destcity_Waterloo</th>\n",
              "      <th>destcity_Watertown</th>\n",
              "      <th>destcity_West Palm Beach/Palm Beach</th>\n",
              "      <th>destcity_West Yellowstone</th>\n",
              "      <th>destcity_White Plains</th>\n",
              "      <th>destcity_Wichita</th>\n",
              "      <th>destcity_Wichita Falls</th>\n",
              "      <th>destcity_Williston</th>\n",
              "      <th>destcity_Wilmington</th>\n",
              "      <th>destcity_Worcester</th>\n",
              "      <th>destcity_Wrangell</th>\n",
              "      <th>destcity_Yakutat</th>\n",
              "      <th>destcity_Yuma</th>\n",
              "    </tr>\n",
              "    <tr>\n",
              "      <th>flightdate</th>\n",
              "      <th></th>\n",
              "      <th></th>\n",
              "      <th></th>\n",
              "      <th></th>\n",
              "      <th></th>\n",
              "      <th></th>\n",
              "      <th></th>\n",
              "      <th></th>\n",
              "      <th></th>\n",
              "      <th></th>\n",
              "      <th></th>\n",
              "      <th></th>\n",
              "      <th></th>\n",
              "      <th></th>\n",
              "      <th></th>\n",
              "      <th></th>\n",
              "      <th></th>\n",
              "      <th></th>\n",
              "      <th></th>\n",
              "      <th></th>\n",
              "      <th></th>\n",
              "      <th></th>\n",
              "      <th></th>\n",
              "      <th></th>\n",
              "      <th></th>\n",
              "      <th></th>\n",
              "      <th></th>\n",
              "      <th></th>\n",
              "      <th></th>\n",
              "      <th></th>\n",
              "      <th></th>\n",
              "      <th></th>\n",
              "      <th></th>\n",
              "      <th></th>\n",
              "      <th></th>\n",
              "      <th></th>\n",
              "      <th></th>\n",
              "      <th></th>\n",
              "      <th></th>\n",
              "      <th></th>\n",
              "      <th></th>\n",
              "      <th></th>\n",
              "      <th></th>\n",
              "      <th></th>\n",
              "      <th></th>\n",
              "      <th></th>\n",
              "      <th></th>\n",
              "      <th></th>\n",
              "      <th></th>\n",
              "      <th></th>\n",
              "      <th></th>\n",
              "      <th></th>\n",
              "      <th></th>\n",
              "      <th></th>\n",
              "      <th></th>\n",
              "      <th></th>\n",
              "      <th></th>\n",
              "      <th></th>\n",
              "      <th></th>\n",
              "      <th></th>\n",
              "      <th></th>\n",
              "      <th></th>\n",
              "      <th></th>\n",
              "      <th></th>\n",
              "      <th></th>\n",
              "      <th></th>\n",
              "      <th></th>\n",
              "      <th></th>\n",
              "      <th></th>\n",
              "      <th></th>\n",
              "      <th></th>\n",
              "      <th></th>\n",
              "      <th></th>\n",
              "      <th></th>\n",
              "      <th></th>\n",
              "      <th></th>\n",
              "      <th></th>\n",
              "      <th></th>\n",
              "      <th></th>\n",
              "      <th></th>\n",
              "      <th></th>\n",
              "    </tr>\n",
              "  </thead>\n",
              "  <tbody>\n",
              "    <tr>\n",
              "      <th>11/06/19</th>\n",
              "      <td>2019</td>\n",
              "      <td>2</td>\n",
              "      <td>6</td>\n",
              "      <td>11</td>\n",
              "      <td>2</td>\n",
              "      <td>20363</td>\n",
              "      <td>3459</td>\n",
              "      <td>10397</td>\n",
              "      <td>1039707</td>\n",
              "      <td>30397</td>\n",
              "      <td>13</td>\n",
              "      <td>34</td>\n",
              "      <td>10868</td>\n",
              "      <td>1086803</td>\n",
              "      <td>30868</td>\n",
              "      <td>37</td>\n",
              "      <td>1950</td>\n",
              "      <td>2331.0</td>\n",
              "      <td>221.0</td>\n",
              "      <td>221.0</td>\n",
              "      <td>1.0</td>\n",
              "      <td>12.0</td>\n",
              "      <td>19.0</td>\n",
              "      <td>2350.0</td>\n",
              "      <td>25.0</td>\n",
              "      <td>6.0</td>\n",
              "      <td>2057</td>\n",
              "      <td>31.0</td>\n",
              "      <td>214.0</td>\n",
              "      <td>214.0</td>\n",
              "      <td>1.0</td>\n",
              "      <td>12.0</td>\n",
              "      <td>67.0</td>\n",
              "      <td>60.0</td>\n",
              "      <td>35.0</td>\n",
              "      <td>1</td>\n",
              "      <td>192</td>\n",
              "      <td>1</td>\n",
              "      <td>0.0</td>\n",
              "      <td>0.0</td>\n",
              "      <td>...</td>\n",
              "      <td>0</td>\n",
              "      <td>0</td>\n",
              "      <td>0</td>\n",
              "      <td>0</td>\n",
              "      <td>0</td>\n",
              "      <td>0</td>\n",
              "      <td>0</td>\n",
              "      <td>0</td>\n",
              "      <td>0</td>\n",
              "      <td>0</td>\n",
              "      <td>0</td>\n",
              "      <td>0</td>\n",
              "      <td>0</td>\n",
              "      <td>0</td>\n",
              "      <td>0</td>\n",
              "      <td>0</td>\n",
              "      <td>0</td>\n",
              "      <td>0</td>\n",
              "      <td>0</td>\n",
              "      <td>0</td>\n",
              "      <td>0</td>\n",
              "      <td>0</td>\n",
              "      <td>0</td>\n",
              "      <td>0</td>\n",
              "      <td>0</td>\n",
              "      <td>0</td>\n",
              "      <td>0</td>\n",
              "      <td>0</td>\n",
              "      <td>0</td>\n",
              "      <td>0</td>\n",
              "      <td>0</td>\n",
              "      <td>0</td>\n",
              "      <td>0</td>\n",
              "      <td>0</td>\n",
              "      <td>0</td>\n",
              "      <td>0</td>\n",
              "      <td>0</td>\n",
              "      <td>0</td>\n",
              "      <td>0</td>\n",
              "      <td>0</td>\n",
              "    </tr>\n",
              "    <tr>\n",
              "      <th>10/04/18</th>\n",
              "      <td>2018</td>\n",
              "      <td>2</td>\n",
              "      <td>4</td>\n",
              "      <td>10</td>\n",
              "      <td>2</td>\n",
              "      <td>20363</td>\n",
              "      <td>5198</td>\n",
              "      <td>10397</td>\n",
              "      <td>1039707</td>\n",
              "      <td>30397</td>\n",
              "      <td>13</td>\n",
              "      <td>34</td>\n",
              "      <td>12197</td>\n",
              "      <td>1219702</td>\n",
              "      <td>31703</td>\n",
              "      <td>22</td>\n",
              "      <td>928</td>\n",
              "      <td>923.0</td>\n",
              "      <td>-5.0</td>\n",
              "      <td>0.0</td>\n",
              "      <td>0.0</td>\n",
              "      <td>-1.0</td>\n",
              "      <td>17.0</td>\n",
              "      <td>940.0</td>\n",
              "      <td>1119.0</td>\n",
              "      <td>4.0</td>\n",
              "      <td>1150</td>\n",
              "      <td>1123.0</td>\n",
              "      <td>-27.0</td>\n",
              "      <td>0.0</td>\n",
              "      <td>0.0</td>\n",
              "      <td>-2.0</td>\n",
              "      <td>142.0</td>\n",
              "      <td>120.0</td>\n",
              "      <td>99.0</td>\n",
              "      <td>1</td>\n",
              "      <td>780</td>\n",
              "      <td>4</td>\n",
              "      <td>0.0</td>\n",
              "      <td>0.0</td>\n",
              "      <td>...</td>\n",
              "      <td>0</td>\n",
              "      <td>0</td>\n",
              "      <td>0</td>\n",
              "      <td>0</td>\n",
              "      <td>0</td>\n",
              "      <td>0</td>\n",
              "      <td>0</td>\n",
              "      <td>0</td>\n",
              "      <td>0</td>\n",
              "      <td>0</td>\n",
              "      <td>0</td>\n",
              "      <td>0</td>\n",
              "      <td>0</td>\n",
              "      <td>0</td>\n",
              "      <td>0</td>\n",
              "      <td>0</td>\n",
              "      <td>0</td>\n",
              "      <td>0</td>\n",
              "      <td>0</td>\n",
              "      <td>0</td>\n",
              "      <td>0</td>\n",
              "      <td>0</td>\n",
              "      <td>0</td>\n",
              "      <td>0</td>\n",
              "      <td>0</td>\n",
              "      <td>0</td>\n",
              "      <td>0</td>\n",
              "      <td>0</td>\n",
              "      <td>0</td>\n",
              "      <td>0</td>\n",
              "      <td>0</td>\n",
              "      <td>1</td>\n",
              "      <td>0</td>\n",
              "      <td>0</td>\n",
              "      <td>0</td>\n",
              "      <td>0</td>\n",
              "      <td>0</td>\n",
              "      <td>0</td>\n",
              "      <td>0</td>\n",
              "      <td>0</td>\n",
              "    </tr>\n",
              "    <tr>\n",
              "      <th>01/10/19</th>\n",
              "      <td>2019</td>\n",
              "      <td>4</td>\n",
              "      <td>10</td>\n",
              "      <td>1</td>\n",
              "      <td>2</td>\n",
              "      <td>20363</td>\n",
              "      <td>3358</td>\n",
              "      <td>12953</td>\n",
              "      <td>1295304</td>\n",
              "      <td>31703</td>\n",
              "      <td>36</td>\n",
              "      <td>22</td>\n",
              "      <td>11057</td>\n",
              "      <td>1105703</td>\n",
              "      <td>31057</td>\n",
              "      <td>36</td>\n",
              "      <td>1910</td>\n",
              "      <td>2004.0</td>\n",
              "      <td>54.0</td>\n",
              "      <td>54.0</td>\n",
              "      <td>1.0</td>\n",
              "      <td>3.0</td>\n",
              "      <td>20.0</td>\n",
              "      <td>2024.0</td>\n",
              "      <td>2140.0</td>\n",
              "      <td>5.0</td>\n",
              "      <td>2130</td>\n",
              "      <td>2145.0</td>\n",
              "      <td>15.0</td>\n",
              "      <td>15.0</td>\n",
              "      <td>1.0</td>\n",
              "      <td>1.0</td>\n",
              "      <td>140.0</td>\n",
              "      <td>101.0</td>\n",
              "      <td>76.0</td>\n",
              "      <td>1</td>\n",
              "      <td>544</td>\n",
              "      <td>3</td>\n",
              "      <td>4.0</td>\n",
              "      <td>0.0</td>\n",
              "      <td>...</td>\n",
              "      <td>0</td>\n",
              "      <td>0</td>\n",
              "      <td>0</td>\n",
              "      <td>0</td>\n",
              "      <td>0</td>\n",
              "      <td>0</td>\n",
              "      <td>0</td>\n",
              "      <td>0</td>\n",
              "      <td>0</td>\n",
              "      <td>0</td>\n",
              "      <td>0</td>\n",
              "      <td>0</td>\n",
              "      <td>0</td>\n",
              "      <td>0</td>\n",
              "      <td>0</td>\n",
              "      <td>0</td>\n",
              "      <td>0</td>\n",
              "      <td>0</td>\n",
              "      <td>0</td>\n",
              "      <td>0</td>\n",
              "      <td>0</td>\n",
              "      <td>0</td>\n",
              "      <td>0</td>\n",
              "      <td>0</td>\n",
              "      <td>0</td>\n",
              "      <td>0</td>\n",
              "      <td>0</td>\n",
              "      <td>0</td>\n",
              "      <td>0</td>\n",
              "      <td>0</td>\n",
              "      <td>0</td>\n",
              "      <td>0</td>\n",
              "      <td>0</td>\n",
              "      <td>0</td>\n",
              "      <td>0</td>\n",
              "      <td>0</td>\n",
              "      <td>0</td>\n",
              "      <td>0</td>\n",
              "      <td>0</td>\n",
              "      <td>0</td>\n",
              "    </tr>\n",
              "    <tr>\n",
              "      <th>27/07/18</th>\n",
              "      <td>2018</td>\n",
              "      <td>3</td>\n",
              "      <td>7</td>\n",
              "      <td>27</td>\n",
              "      <td>5</td>\n",
              "      <td>20363</td>\n",
              "      <td>5388</td>\n",
              "      <td>10821</td>\n",
              "      <td>1082106</td>\n",
              "      <td>30852</td>\n",
              "      <td>24</td>\n",
              "      <td>35</td>\n",
              "      <td>14492</td>\n",
              "      <td>1449202</td>\n",
              "      <td>34492</td>\n",
              "      <td>36</td>\n",
              "      <td>1526</td>\n",
              "      <td>1558.0</td>\n",
              "      <td>32.0</td>\n",
              "      <td>32.0</td>\n",
              "      <td>1.0</td>\n",
              "      <td>2.0</td>\n",
              "      <td>100.0</td>\n",
              "      <td>1738.0</td>\n",
              "      <td>1824.0</td>\n",
              "      <td>4.0</td>\n",
              "      <td>1636</td>\n",
              "      <td>1828.0</td>\n",
              "      <td>112.0</td>\n",
              "      <td>112.0</td>\n",
              "      <td>1.0</td>\n",
              "      <td>7.0</td>\n",
              "      <td>70.0</td>\n",
              "      <td>150.0</td>\n",
              "      <td>46.0</td>\n",
              "      <td>1</td>\n",
              "      <td>255</td>\n",
              "      <td>2</td>\n",
              "      <td>0.0</td>\n",
              "      <td>0.0</td>\n",
              "      <td>...</td>\n",
              "      <td>0</td>\n",
              "      <td>0</td>\n",
              "      <td>0</td>\n",
              "      <td>0</td>\n",
              "      <td>0</td>\n",
              "      <td>0</td>\n",
              "      <td>0</td>\n",
              "      <td>0</td>\n",
              "      <td>0</td>\n",
              "      <td>0</td>\n",
              "      <td>0</td>\n",
              "      <td>0</td>\n",
              "      <td>0</td>\n",
              "      <td>0</td>\n",
              "      <td>0</td>\n",
              "      <td>0</td>\n",
              "      <td>0</td>\n",
              "      <td>0</td>\n",
              "      <td>0</td>\n",
              "      <td>0</td>\n",
              "      <td>0</td>\n",
              "      <td>0</td>\n",
              "      <td>0</td>\n",
              "      <td>0</td>\n",
              "      <td>0</td>\n",
              "      <td>0</td>\n",
              "      <td>0</td>\n",
              "      <td>0</td>\n",
              "      <td>0</td>\n",
              "      <td>0</td>\n",
              "      <td>0</td>\n",
              "      <td>0</td>\n",
              "      <td>0</td>\n",
              "      <td>0</td>\n",
              "      <td>0</td>\n",
              "      <td>0</td>\n",
              "      <td>0</td>\n",
              "      <td>0</td>\n",
              "      <td>0</td>\n",
              "      <td>0</td>\n",
              "    </tr>\n",
              "    <tr>\n",
              "      <th>04/03/19</th>\n",
              "      <td>2019</td>\n",
              "      <td>1</td>\n",
              "      <td>3</td>\n",
              "      <td>4</td>\n",
              "      <td>1</td>\n",
              "      <td>20363</td>\n",
              "      <td>5179</td>\n",
              "      <td>14122</td>\n",
              "      <td>1412202</td>\n",
              "      <td>30198</td>\n",
              "      <td>42</td>\n",
              "      <td>23</td>\n",
              "      <td>12478</td>\n",
              "      <td>1247805</td>\n",
              "      <td>31703</td>\n",
              "      <td>22</td>\n",
              "      <td>604</td>\n",
              "      <td>631.0</td>\n",
              "      <td>27.0</td>\n",
              "      <td>27.0</td>\n",
              "      <td>1.0</td>\n",
              "      <td>1.0</td>\n",
              "      <td>34.0</td>\n",
              "      <td>705.0</td>\n",
              "      <td>808.0</td>\n",
              "      <td>7.0</td>\n",
              "      <td>745</td>\n",
              "      <td>815.0</td>\n",
              "      <td>30.0</td>\n",
              "      <td>30.0</td>\n",
              "      <td>1.0</td>\n",
              "      <td>2.0</td>\n",
              "      <td>101.0</td>\n",
              "      <td>104.0</td>\n",
              "      <td>63.0</td>\n",
              "      <td>1</td>\n",
              "      <td>340</td>\n",
              "      <td>2</td>\n",
              "      <td>0.0</td>\n",
              "      <td>27.0</td>\n",
              "      <td>...</td>\n",
              "      <td>0</td>\n",
              "      <td>0</td>\n",
              "      <td>0</td>\n",
              "      <td>0</td>\n",
              "      <td>0</td>\n",
              "      <td>0</td>\n",
              "      <td>0</td>\n",
              "      <td>0</td>\n",
              "      <td>0</td>\n",
              "      <td>0</td>\n",
              "      <td>0</td>\n",
              "      <td>0</td>\n",
              "      <td>0</td>\n",
              "      <td>0</td>\n",
              "      <td>0</td>\n",
              "      <td>0</td>\n",
              "      <td>0</td>\n",
              "      <td>0</td>\n",
              "      <td>0</td>\n",
              "      <td>0</td>\n",
              "      <td>0</td>\n",
              "      <td>0</td>\n",
              "      <td>0</td>\n",
              "      <td>0</td>\n",
              "      <td>0</td>\n",
              "      <td>0</td>\n",
              "      <td>0</td>\n",
              "      <td>0</td>\n",
              "      <td>0</td>\n",
              "      <td>0</td>\n",
              "      <td>0</td>\n",
              "      <td>0</td>\n",
              "      <td>0</td>\n",
              "      <td>0</td>\n",
              "      <td>0</td>\n",
              "      <td>0</td>\n",
              "      <td>0</td>\n",
              "      <td>0</td>\n",
              "      <td>0</td>\n",
              "      <td>0</td>\n",
              "    </tr>\n",
              "  </tbody>\n",
              "</table>\n",
              "<p>5 rows × 868 columns</p>\n",
              "</div>"
            ],
            "text/plain": [
              "            year  quarter  ...  destcity_Yakutat  destcity_Yuma\n",
              "flightdate                 ...                                 \n",
              "11/06/19    2019        2  ...                 0              0\n",
              "10/04/18    2018        2  ...                 0              0\n",
              "01/10/19    2019        4  ...                 0              0\n",
              "27/07/18    2018        3  ...                 0              0\n",
              "04/03/19    2019        1  ...                 0              0\n",
              "\n",
              "[5 rows x 868 columns]"
            ]
          },
          "metadata": {},
          "execution_count": 83
        }
      ]
    },
    {
      "cell_type": "code",
      "metadata": {
        "colab": {
          "base_uri": "https://localhost:8080/"
        },
        "id": "c2f78cf5",
        "outputId": "b2b19a2f-c215-4ec8-d6a3-e6e2817c1f9b"
      },
      "source": [
        "df.info()"
      ],
      "id": "c2f78cf5",
      "execution_count": null,
      "outputs": [
        {
          "output_type": "stream",
          "name": "stdout",
          "text": [
            "<class 'pandas.core.frame.DataFrame'>\n",
            "Index: 86761 entries, 11/06/19 to 09/02/18\n",
            "Columns: 868 entries, year to destcity_Yuma\n",
            "dtypes: float64(22), int64(21), uint8(825)\n",
            "memory usage: 97.4+ MB\n"
          ]
        }
      ]
    },
    {
      "cell_type": "markdown",
      "metadata": {
        "id": "gW-s_c49-6Rx"
      },
      "source": [
        "## We will try to run our model using 10% of our dataset first. This is to get a first glimpse of how our model will work. "
      ],
      "id": "gW-s_c49-6Rx"
    },
    {
      "cell_type": "code",
      "metadata": {
        "colab": {
          "base_uri": "https://localhost:8080/"
        },
        "id": "lsqmfkWm-3ab",
        "outputId": "89516fab-2c33-486b-e564-942af81b88e5"
      },
      "source": [
        "df1 = df.sample(frac=0.1, replace = False, random_state=42)\n",
        "df1.info()"
      ],
      "id": "lsqmfkWm-3ab",
      "execution_count": null,
      "outputs": [
        {
          "output_type": "stream",
          "name": "stdout",
          "text": [
            "<class 'pandas.core.frame.DataFrame'>\n",
            "Index: 8676 entries, 20/12/19 to 05/05/18\n",
            "Columns: 868 entries, year to destcity_Yuma\n",
            "dtypes: float64(22), int64(21), uint8(825)\n",
            "memory usage: 9.7+ MB\n"
          ]
        }
      ]
    },
    {
      "cell_type": "markdown",
      "metadata": {
        "id": "46e5e933"
      },
      "source": [
        "### Preprocessing"
      ],
      "id": "46e5e933"
    },
    {
      "cell_type": "code",
      "metadata": {
        "colab": {
          "base_uri": "https://localhost:8080/"
        },
        "id": "2f8ae9fa",
        "outputId": "97c4aacc-bdcb-4f3c-f2fa-e64e6e9256a2"
      },
      "source": [
        "x = df1.drop(['arrdel15'],axis= 1)\n",
        "y = df1.arrdel15\n",
        "\n",
        "#train test split\n",
        "x_train, x_test, y_train, y_test = train_test_split(x, y, stratify=y, random_state = 42)\n",
        "\n",
        "\n",
        "print(x_train.shape, y_train.shape)"
      ],
      "id": "2f8ae9fa",
      "execution_count": null,
      "outputs": [
        {
          "output_type": "stream",
          "name": "stdout",
          "text": [
            "(6507, 867) (6507,)\n"
          ]
        }
      ]
    },
    {
      "cell_type": "markdown",
      "metadata": {
        "id": "6-rHMdRED4UH"
      },
      "source": [
        "## Check the baseline score"
      ],
      "id": "6-rHMdRED4UH"
    },
    {
      "cell_type": "code",
      "metadata": {
        "colab": {
          "base_uri": "https://localhost:8080/"
        },
        "id": "VEq02HWuDyGe",
        "outputId": "bfe981bc-1b10-490b-f990-5d3c88ea8e33"
      },
      "source": [
        "y.value_counts()  "
      ],
      "id": "VEq02HWuDyGe",
      "execution_count": null,
      "outputs": [
        {
          "output_type": "execute_result",
          "data": {
            "text/plain": [
              "0.0    7050\n",
              "1.0    1626\n",
              "Name: arrdel15, dtype: int64"
            ]
          },
          "metadata": {},
          "execution_count": 114
        }
      ]
    },
    {
      "cell_type": "code",
      "metadata": {
        "colab": {
          "base_uri": "https://localhost:8080/"
        },
        "id": "sXyHK1dWYv1B",
        "outputId": "04e1c615-3ff5-48e1-b842-dc9caed46a0b"
      },
      "source": [
        "y.shape"
      ],
      "id": "sXyHK1dWYv1B",
      "execution_count": null,
      "outputs": [
        {
          "output_type": "execute_result",
          "data": {
            "text/plain": [
              "(8676,)"
            ]
          },
          "metadata": {},
          "execution_count": 115
        }
      ]
    },
    {
      "cell_type": "code",
      "metadata": {
        "id": "8c0e3478"
      },
      "source": [
        "def score(model,x_train, x_test):\n",
        "    \n",
        "    \"\"\"\n",
        "    This function scores the model by returning the confusion matrix and classification report of the model\n",
        "    \n",
        "    \"\"\"\n",
        "    \n",
        "    # Get predictions\n",
        "    preds = model.predict(x_test)\n",
        "    cm = confusion_matrix(y_test, preds)\n",
        "    ConfusionMatrixDisplay(cm, display_labels=['Flight Not Delay','Flight Delay']).plot(cmap='GnBu')\n",
        "\n",
        "    print(\"Training Score:\",model.score(x_train,y_train))\n",
        "    print(\"Testing Score:\",model.score(x_test,y_test))\n",
        "    print(\"\\n\")\n",
        "    print(classification_report(y_test, preds)) \n"
      ],
      "id": "8c0e3478",
      "execution_count": null,
      "outputs": []
    },
    {
      "cell_type": "code",
      "metadata": {
        "id": "624d2cb8"
      },
      "source": [
        "def fimportance_df(list_of_features,list_of_feature_scores):\n",
        "    \n",
        "    \"\"\"\n",
        "    This function returns a dataframe, ranking the top features as the top rows.\n",
        "    \n",
        "    \"\"\"\n",
        "    abs_list = [abs(i) for i in list_of_feature_scores]\n",
        "    fimportance = zip(list_of_features, list_of_feature_scores, abs_list)\n",
        "    df = pd.DataFrame(fimportance,columns=['Feature','Feature_Significance','Feature_Significance_Abs'])\n",
        "    df = df.sort_values(\"Feature_Significance_Abs\",ascending=False).reset_index(drop=True)\n",
        "    return df[['Feature','Feature_Significance']]"
      ],
      "id": "624d2cb8",
      "execution_count": null,
      "outputs": []
    },
    {
      "cell_type": "code",
      "metadata": {
        "id": "8fd7a31d"
      },
      "source": [
        "def fimportance(list_of_features, list_of_feature_scores):\n",
        "\n",
        "    \"\"\"\n",
        "    This function plots the feature importance/coefficients as horizontal bar plot.\n",
        "    \n",
        "    It takes in dataframe generated from the fimportance_df function.\n",
        "    \n",
        "    \"\"\"    \n",
        "    \n",
        "    # Initialize the matplotlib figure\n",
        "    df=fimportance_df(list_of_features, list_of_feature_scores)\n",
        "    \n",
        "    with sns.axes_style(\"whitegrid\"):\n",
        "        f, ax = plt.subplots(figsize=(8, 12))\n",
        "        \n",
        "        # Plot the features\n",
        "        sns.set_color_codes(\"muted\")\n",
        "        hbar = sns.barplot(x=\"Feature_Significance\",\n",
        "                            y=\"Feature\",\n",
        "                            data=df,\n",
        "                            color=\"b\")\n",
        "        for bar in hbar.patches:\n",
        "   \n",
        "        # Using Matplotlib's annotate function and\n",
        "        # passing the coordinates where the annotation shall be done\n",
        "        # x-coordinate: bar.get_width()\n",
        "        # y-coordinate: bar.get_y()+bar.get_height()/2\n",
        "        # free space to be left to make graph pleasing: (0, 0)\n",
        "        # ha and va stand for the horizontal and vertical alignment\n",
        "            hbar.annotate(format(bar.get_width(), '.3f'), # text is width of bar\n",
        "                      (bar.get_width(), bar.get_y()+bar.get_height()/2), # coordinates of each annotation\n",
        "                      ha='left', va='center',\n",
        "                       size=10, xytext=(2, 0),\n",
        "                       textcoords='offset points')\n",
        "          # Add axis label\n",
        "    ax.set(title= \"Feature Significance\",\n",
        "           xlabel=\"Score\",\n",
        "          ylabel=\"Feature\")\n",
        "    ax.xaxis.get_label().set_fontsize(20)\n",
        "    ax.yaxis.get_label().set_fontsize(20)\n",
        "    ax.title.set_fontsize(30)\n",
        "    sns.despine(left=True, bottom=True)\n"
      ],
      "id": "8fd7a31d",
      "execution_count": null,
      "outputs": []
    },
    {
      "cell_type": "code",
      "metadata": {
        "id": "3aba6e42"
      },
      "source": [
        "def roc(model, model_name, X_train, X_test): \n",
        "    \n",
        "    \"\"\"\n",
        "    This function generates the ROC/AUC curve of the model.\n",
        "    \n",
        "    Due to the imbalanced nature of the data, the preferred metrics for this project is ROC/AUC.\n",
        "    \n",
        "    \"\"\"      \n",
        "    \n",
        "    plt.figure(figsize=(16,10))\n",
        "    \n",
        "    # Predict probabilities from X_test\n",
        "    df = pd.DataFrame(model.predict_proba(X_test))\n",
        "    preds = df.drop(columns=0)\n",
        "    \n",
        "    # \n",
        "    fpr, tpr, _ = roc_curve(y_test, preds)\n",
        "    auc = roc_auc_score(y_test, preds)\n",
        "\n",
        "    df2 = pd.DataFrame(model.predict_proba(X_train))\n",
        "    preds2 = df2.drop(columns=0)\n",
        "    fpr2, tpr2, _ = roc_curve(y_train, preds2)\n",
        "    auc2 = roc_auc_score(y_train, preds2)\n",
        "    \n",
        "    with sns.axes_style(style=\"darkgrid\"):\n",
        "        plt.plot(fpr,tpr,color='orange',label=\"%s test, auc=%s\" %(model_name, format(auc,\".3f\")))\n",
        "        plt.plot(fpr2,tpr2,color='blue',label=\"%s train, auc=%s\" %(model_name, format(auc2,\".3f\")))\n",
        "        plt.plot(y_test,y_test,color='gray',linestyle=':') #baseline 50%\n",
        "    plt.legend(loc='lower right')    \n",
        "    \n",
        "    sns.despine(left=True,bottom=True)"
      ],
      "id": "3aba6e42",
      "execution_count": null,
      "outputs": []
    },
    {
      "cell_type": "code",
      "metadata": {
        "id": "cb90a982"
      },
      "source": [
        "preprocess_pipe = make_pipeline(MinMaxScaler())"
      ],
      "id": "cb90a982",
      "execution_count": null,
      "outputs": []
    },
    {
      "cell_type": "code",
      "metadata": {
        "id": "8c52f5ef"
      },
      "source": [
        "# preprocess data through pipeline for modelling\n",
        "\n",
        "x_train_t = preprocess_pipe.fit_transform(x_train)\n",
        "x_test_t = preprocess_pipe.transform(x_test)"
      ],
      "id": "8c52f5ef",
      "execution_count": null,
      "outputs": []
    },
    {
      "cell_type": "code",
      "metadata": {
        "id": "a19762d7"
      },
      "source": [
        "#create pipeline\n",
        "lr_pipe = make_pipeline(SMOTE(random_state = 42), \n",
        "                        LogisticRegression(max_iter=200, random_state = 42)\n",
        "                       )\n",
        "    \n",
        "\n",
        "# define grid params for logistic regression\n",
        "lr_params = {\n",
        "    'logisticregression__C': [0.02, 0.05, 0.1],\n",
        "    'logisticregression__solver' : ['newton-cg','saga', 'sag', 'lbfgs'],\n",
        "    'logisticregression__multi_class': ['multinomial', 'ovr', 'auto'],\n",
        "    'logisticregression__penalty':['l1','l2','elasticnet'],\n",
        "    'logisticregression__l1_ratio':[None, 0.25,0.5,0.75],\n",
        "    'logisticregression__class_weight':[None, 'balanced']\n",
        "}\n",
        "    \n",
        "\n",
        "# Instantiate GridSearchCV\n",
        "# Due to imbalanced data, scoring = roc & auc\n",
        "grid_lr = GridSearchCV(lr_pipe, param_grid = lr_params, verbose = 1, n_jobs=-1, cv=3, scoring='roc_auc')"
      ],
      "id": "a19762d7",
      "execution_count": null,
      "outputs": []
    },
    {
      "cell_type": "code",
      "metadata": {
        "id": "dfdd424b"
      },
      "source": [
        "# preprocess data through pipeline for modelling\n",
        "\n",
        "x_train_t = preprocess_pipe.fit_transform(x_train)\n",
        "x_test_t = preprocess_pipe.transform(x_test)"
      ],
      "id": "dfdd424b",
      "execution_count": null,
      "outputs": []
    },
    {
      "cell_type": "code",
      "metadata": {
        "colab": {
          "base_uri": "https://localhost:8080/"
        },
        "id": "665ea9ee",
        "outputId": "6a00feea-c2ff-455d-c574-5768e59b4f5e"
      },
      "source": [
        "grid_lr.fit(x_train_t,y_train)"
      ],
      "id": "665ea9ee",
      "execution_count": null,
      "outputs": [
        {
          "output_type": "stream",
          "name": "stdout",
          "text": [
            "Fitting 3 folds for each of 864 candidates, totalling 2592 fits\n"
          ]
        },
        {
          "output_type": "execute_result",
          "data": {
            "text/plain": [
              "GridSearchCV(cv=3,\n",
              "             estimator=Pipeline(steps=[('smote', SMOTE(random_state=42)),\n",
              "                                       ('logisticregression',\n",
              "                                        LogisticRegression(max_iter=200,\n",
              "                                                           random_state=42))]),\n",
              "             n_jobs=-1,\n",
              "             param_grid={'logisticregression__C': [0.02, 0.05, 0.1],\n",
              "                         'logisticregression__class_weight': [None, 'balanced'],\n",
              "                         'logisticregression__l1_ratio': [None, 0.25, 0.5,\n",
              "                                                          0.75],\n",
              "                         'logisticregression__multi_class': ['multinomial',\n",
              "                                                             'ovr', 'auto'],\n",
              "                         'logisticregression__penalty': ['l1', 'l2',\n",
              "                                                         'elasticnet'],\n",
              "                         'logisticregression__solver': ['newton-cg', 'saga',\n",
              "                                                        'sag', 'lbfgs']},\n",
              "             scoring='roc_auc', verbose=1)"
            ]
          },
          "metadata": {},
          "execution_count": 97
        }
      ]
    },
    {
      "cell_type": "code",
      "metadata": {
        "colab": {
          "base_uri": "https://localhost:8080/"
        },
        "id": "XG5UlBV3QOzK",
        "outputId": "48b1e7de-a5fc-473c-bec7-7f335f3ecedd"
      },
      "source": [
        "print(\"best score\", grid_lr.best_score_)\n",
        "print(\"best params\", grid_lr.best_params_)"
      ],
      "id": "XG5UlBV3QOzK",
      "execution_count": null,
      "outputs": [
        {
          "output_type": "stream",
          "name": "stdout",
          "text": [
            "best score 1.0\n",
            "best params {'logisticregression__C': 0.05, 'logisticregression__class_weight': None, 'logisticregression__l1_ratio': None, 'logisticregression__multi_class': 'multinomial', 'logisticregression__penalty': 'l1', 'logisticregression__solver': 'saga'}\n"
          ]
        }
      ]
    },
    {
      "cell_type": "code",
      "metadata": {
        "colab": {
          "base_uri": "https://localhost:8080/",
          "height": 505
        },
        "id": "0HR4hlwAQTI_",
        "outputId": "3ded467e-21e8-4ad3-8d89-58b412b939e5"
      },
      "source": [
        "score(grid_lr, x_train_t, x_test_t)"
      ],
      "id": "0HR4hlwAQTI_",
      "execution_count": null,
      "outputs": [
        {
          "output_type": "stream",
          "name": "stdout",
          "text": [
            "Training Score: 1.0\n",
            "Testing Score: 1.0\n",
            "\n",
            "\n",
            "              precision    recall  f1-score   support\n",
            "\n",
            "         0.0       1.00      1.00      1.00      1763\n",
            "         1.0       1.00      1.00      1.00       406\n",
            "\n",
            "    accuracy                           1.00      2169\n",
            "   macro avg       1.00      1.00      1.00      2169\n",
            "weighted avg       1.00      1.00      1.00      2169\n",
            "\n"
          ]
        },
        {
          "output_type": "display_data",
          "data": {
            "image/png": "[encoded data removed]",
            "text/plain": [
              "<Figure size 432x288 with 2 Axes>"
            ]
          },
          "metadata": {
            "needs_background": "light"
          }
        }
      ]
    },
    {
      "cell_type": "code",
      "metadata": {
        "colab": {
          "base_uri": "https://localhost:8080/",
          "height": 592
        },
        "id": "toqPljBhQkRX",
        "outputId": "1c1aed83-4604-4c9d-80f2-22c597381e95"
      },
      "source": [
        "roc(grid_lr,\"LogisticRegression\", x_train_t, x_test_t)"
      ],
      "id": "toqPljBhQkRX",
      "execution_count": null,
      "outputs": [
        {
          "output_type": "display_data",
          "data": {
            "image/png": "[encoded data removed]",
            "text/plain": [
              "<Figure size 1152x720 with 1 Axes>"
            ]
          },
          "metadata": {
            "needs_background": "light"
          }
        }
      ]
    },
    {
      "cell_type": "markdown",
      "metadata": {
        "id": "ltKi8LMWffGq"
      },
      "source": [
        "##"
      ],
      "id": "ltKi8LMWffGq"
    },
    {
      "cell_type": "code",
      "metadata": {
        "id": "1zfcmVU7fdAn"
      },
      "source": [
        ""
      ],
      "id": "1zfcmVU7fdAn",
      "execution_count": null,
      "outputs": []
    }
  ]
}