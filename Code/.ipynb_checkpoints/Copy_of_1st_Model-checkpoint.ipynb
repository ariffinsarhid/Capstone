{
 "cells": [
  {
   "cell_type": "code",
   "execution_count": 1,
   "id": "30743c37",
   "metadata": {
    "id": "30743c37"
   },
   "outputs": [],
   "source": [
    "import pandas as pd\n",
    "import numpy as np\n",
    "import seaborn as sns\n",
    "import matplotlib.pyplot as plt\n",
    "import warnings\n",
    "warnings.simplefilter(action = 'ignore')\n",
    "import io\n",
    "\n",
    "from sklearn.model_selection import GridSearchCV, train_test_split, cross_val_score\n",
    "from sklearn.preprocessing import StandardScaler, MinMaxScaler\n",
    "from sklearn.linear_model import LogisticRegression\n",
    "from sklearn.ensemble import RandomForestClassifier, GradientBoostingClassifier\n",
    "from sklearn.preprocessing import MinMaxScaler, OneHotEncoder\n",
    "from sklearn.metrics import roc_curve, RocCurveDisplay, roc_auc_score\n",
    "from sklearn.metrics import plot_confusion_matrix, classification_report, confusion_matrix, ConfusionMatrixDisplay\n",
    "from sklearn.base import BaseEstimator, TransformerMixin\n",
    "from imblearn.over_sampling import SMOTE, RandomOverSampler\n",
    "from imblearn.under_sampling import RandomUnderSampler\n",
    "from imblearn.pipeline import make_pipeline\n",
    "\n",
    "\n",
    "from sklearn.decomposition import PCA\n",
    "from sklearn.neighbors import KNeighborsClassifier\n",
    "from imblearn.under_sampling import EditedNearestNeighbours\n",
    "from imblearn.over_sampling import SMOTE"
   ]
  },
  {
   "cell_type": "code",
   "execution_count": 2,
   "id": "d82a84cd",
   "metadata": {
    "id": "d82a84cd"
   },
   "outputs": [],
   "source": [
    "url_1 = 'https://raw.githubusercontent.com/ariffinsarhid/Predicting-Airline-On-Time-Performance-In-Progress-/main/Data/final_table.csv'\n",
    "\n",
    "df = pd.read_csv(url_1, index_col='flightdate')\n",
    "df = df.drop(columns= 'Unnamed: 0')"
   ]
  },
  {
   "cell_type": "code",
   "execution_count": 3,
   "id": "87ddddad",
   "metadata": {
    "colab": {
     "base_uri": "https://localhost:8080/"
    },
    "id": "87ddddad",
    "outputId": "9a8476f1-918c-42ec-8d15-73be2a14a4c2"
   },
   "outputs": [
    {
     "name": "stdout",
     "output_type": "stream",
     "text": [
      "<class 'pandas.core.frame.DataFrame'>\n",
      "Index: 86761 entries, 11/06/19 to 09/02/18\n",
      "Data columns (total 21 columns):\n",
      " #   Column                           Non-Null Count  Dtype  \n",
      "---  ------                           --------------  -----  \n",
      " 0   year                             86761 non-null  int64  \n",
      " 1   quarter                          86761 non-null  int64  \n",
      " 2   month                            86761 non-null  int64  \n",
      " 3   dayofmonth                       86761 non-null  int64  \n",
      " 4   dayofweek                        86761 non-null  int64  \n",
      " 5   flight_number_reporting_airline  86761 non-null  int64  \n",
      " 6   originairportid                  86761 non-null  int64  \n",
      " 7   destairportid                    86761 non-null  int64  \n",
      " 8   destwac                          86761 non-null  int64  \n",
      " 9   crsdeptime                       86761 non-null  int64  \n",
      " 10  deptime                          86761 non-null  float64\n",
      " 11  crsarrtime                       86761 non-null  int64  \n",
      " 12  arrdel15                         86761 non-null  float64\n",
      " 13  crselapsedtime                   86761 non-null  float64\n",
      " 14  airtime                          86761 non-null  float64\n",
      " 15  flights                          86761 non-null  int64  \n",
      " 16  distance                         86761 non-null  int64  \n",
      " 17  distancegroup                    86761 non-null  int64  \n",
      " 18  airline                          86761 non-null  object \n",
      " 19  origincity                       86761 non-null  object \n",
      " 20  destcity                         86761 non-null  object \n",
      "dtypes: float64(4), int64(14), object(3)\n",
      "memory usage: 14.6+ MB\n"
     ]
    }
   ],
   "source": [
    "df.info()"
   ]
  },
  {
   "cell_type": "code",
   "execution_count": 4,
   "id": "c9a5060d",
   "metadata": {
    "id": "c9a5060d"
   },
   "outputs": [],
   "source": [
    "df = pd.get_dummies(df, columns = ['airline', 'origincity', 'destcity'])"
   ]
  },
  {
   "cell_type": "code",
   "execution_count": 5,
   "id": "8dadec18",
   "metadata": {
    "colab": {
     "base_uri": "https://localhost:8080/",
     "height": 339
    },
    "id": "8dadec18",
    "outputId": "86d4018e-0c2e-452a-915a-a881bb8a27b7"
   },
   "outputs": [
    {
     "data": {
      "text/html": [
       "<div>\n",
       "<style scoped>\n",
       "    .dataframe tbody tr th:only-of-type {\n",
       "        vertical-align: middle;\n",
       "    }\n",
       "\n",
       "    .dataframe tbody tr th {\n",
       "        vertical-align: top;\n",
       "    }\n",
       "\n",
       "    .dataframe thead th {\n",
       "        text-align: right;\n",
       "    }\n",
       "</style>\n",
       "<table border=\"1\" class=\"dataframe\">\n",
       "  <thead>\n",
       "    <tr style=\"text-align: right;\">\n",
       "      <th></th>\n",
       "      <th>year</th>\n",
       "      <th>quarter</th>\n",
       "      <th>month</th>\n",
       "      <th>dayofmonth</th>\n",
       "      <th>dayofweek</th>\n",
       "      <th>flight_number_reporting_airline</th>\n",
       "      <th>originairportid</th>\n",
       "      <th>destairportid</th>\n",
       "      <th>destwac</th>\n",
       "      <th>crsdeptime</th>\n",
       "      <th>...</th>\n",
       "      <th>destcity_West Yellowstone</th>\n",
       "      <th>destcity_White Plains</th>\n",
       "      <th>destcity_Wichita</th>\n",
       "      <th>destcity_Wichita Falls</th>\n",
       "      <th>destcity_Williston</th>\n",
       "      <th>destcity_Wilmington</th>\n",
       "      <th>destcity_Worcester</th>\n",
       "      <th>destcity_Wrangell</th>\n",
       "      <th>destcity_Yakutat</th>\n",
       "      <th>destcity_Yuma</th>\n",
       "    </tr>\n",
       "    <tr>\n",
       "      <th>flightdate</th>\n",
       "      <th></th>\n",
       "      <th></th>\n",
       "      <th></th>\n",
       "      <th></th>\n",
       "      <th></th>\n",
       "      <th></th>\n",
       "      <th></th>\n",
       "      <th></th>\n",
       "      <th></th>\n",
       "      <th></th>\n",
       "      <th></th>\n",
       "      <th></th>\n",
       "      <th></th>\n",
       "      <th></th>\n",
       "      <th></th>\n",
       "      <th></th>\n",
       "      <th></th>\n",
       "      <th></th>\n",
       "      <th></th>\n",
       "      <th></th>\n",
       "      <th></th>\n",
       "    </tr>\n",
       "  </thead>\n",
       "  <tbody>\n",
       "    <tr>\n",
       "      <th>11/06/19</th>\n",
       "      <td>2019</td>\n",
       "      <td>2</td>\n",
       "      <td>6</td>\n",
       "      <td>11</td>\n",
       "      <td>2</td>\n",
       "      <td>3459</td>\n",
       "      <td>10397</td>\n",
       "      <td>10868</td>\n",
       "      <td>37</td>\n",
       "      <td>1950</td>\n",
       "      <td>...</td>\n",
       "      <td>0</td>\n",
       "      <td>0</td>\n",
       "      <td>0</td>\n",
       "      <td>0</td>\n",
       "      <td>0</td>\n",
       "      <td>0</td>\n",
       "      <td>0</td>\n",
       "      <td>0</td>\n",
       "      <td>0</td>\n",
       "      <td>0</td>\n",
       "    </tr>\n",
       "    <tr>\n",
       "      <th>10/04/18</th>\n",
       "      <td>2018</td>\n",
       "      <td>2</td>\n",
       "      <td>4</td>\n",
       "      <td>10</td>\n",
       "      <td>2</td>\n",
       "      <td>5198</td>\n",
       "      <td>10397</td>\n",
       "      <td>12197</td>\n",
       "      <td>22</td>\n",
       "      <td>928</td>\n",
       "      <td>...</td>\n",
       "      <td>0</td>\n",
       "      <td>1</td>\n",
       "      <td>0</td>\n",
       "      <td>0</td>\n",
       "      <td>0</td>\n",
       "      <td>0</td>\n",
       "      <td>0</td>\n",
       "      <td>0</td>\n",
       "      <td>0</td>\n",
       "      <td>0</td>\n",
       "    </tr>\n",
       "    <tr>\n",
       "      <th>01/10/19</th>\n",
       "      <td>2019</td>\n",
       "      <td>4</td>\n",
       "      <td>10</td>\n",
       "      <td>1</td>\n",
       "      <td>2</td>\n",
       "      <td>3358</td>\n",
       "      <td>12953</td>\n",
       "      <td>11057</td>\n",
       "      <td>36</td>\n",
       "      <td>1910</td>\n",
       "      <td>...</td>\n",
       "      <td>0</td>\n",
       "      <td>0</td>\n",
       "      <td>0</td>\n",
       "      <td>0</td>\n",
       "      <td>0</td>\n",
       "      <td>0</td>\n",
       "      <td>0</td>\n",
       "      <td>0</td>\n",
       "      <td>0</td>\n",
       "      <td>0</td>\n",
       "    </tr>\n",
       "    <tr>\n",
       "      <th>27/07/18</th>\n",
       "      <td>2018</td>\n",
       "      <td>3</td>\n",
       "      <td>7</td>\n",
       "      <td>27</td>\n",
       "      <td>5</td>\n",
       "      <td>5388</td>\n",
       "      <td>10821</td>\n",
       "      <td>14492</td>\n",
       "      <td>36</td>\n",
       "      <td>1526</td>\n",
       "      <td>...</td>\n",
       "      <td>0</td>\n",
       "      <td>0</td>\n",
       "      <td>0</td>\n",
       "      <td>0</td>\n",
       "      <td>0</td>\n",
       "      <td>0</td>\n",
       "      <td>0</td>\n",
       "      <td>0</td>\n",
       "      <td>0</td>\n",
       "      <td>0</td>\n",
       "    </tr>\n",
       "    <tr>\n",
       "      <th>04/03/19</th>\n",
       "      <td>2019</td>\n",
       "      <td>1</td>\n",
       "      <td>3</td>\n",
       "      <td>4</td>\n",
       "      <td>1</td>\n",
       "      <td>5179</td>\n",
       "      <td>14122</td>\n",
       "      <td>12478</td>\n",
       "      <td>22</td>\n",
       "      <td>604</td>\n",
       "      <td>...</td>\n",
       "      <td>0</td>\n",
       "      <td>0</td>\n",
       "      <td>0</td>\n",
       "      <td>0</td>\n",
       "      <td>0</td>\n",
       "      <td>0</td>\n",
       "      <td>0</td>\n",
       "      <td>0</td>\n",
       "      <td>0</td>\n",
       "      <td>0</td>\n",
       "    </tr>\n",
       "  </tbody>\n",
       "</table>\n",
       "<p>5 rows × 721 columns</p>\n",
       "</div>"
      ],
      "text/plain": [
       "            year  quarter  month  dayofmonth  dayofweek  \\\n",
       "flightdate                                                \n",
       "11/06/19    2019        2      6          11          2   \n",
       "10/04/18    2018        2      4          10          2   \n",
       "01/10/19    2019        4     10           1          2   \n",
       "27/07/18    2018        3      7          27          5   \n",
       "04/03/19    2019        1      3           4          1   \n",
       "\n",
       "            flight_number_reporting_airline  originairportid  destairportid  \\\n",
       "flightdate                                                                    \n",
       "11/06/19                               3459            10397          10868   \n",
       "10/04/18                               5198            10397          12197   \n",
       "01/10/19                               3358            12953          11057   \n",
       "27/07/18                               5388            10821          14492   \n",
       "04/03/19                               5179            14122          12478   \n",
       "\n",
       "            destwac  crsdeptime  ...  destcity_West Yellowstone  \\\n",
       "flightdate                       ...                              \n",
       "11/06/19         37        1950  ...                          0   \n",
       "10/04/18         22         928  ...                          0   \n",
       "01/10/19         36        1910  ...                          0   \n",
       "27/07/18         36        1526  ...                          0   \n",
       "04/03/19         22         604  ...                          0   \n",
       "\n",
       "            destcity_White Plains  destcity_Wichita  destcity_Wichita Falls  \\\n",
       "flightdate                                                                    \n",
       "11/06/19                        0                 0                       0   \n",
       "10/04/18                        1                 0                       0   \n",
       "01/10/19                        0                 0                       0   \n",
       "27/07/18                        0                 0                       0   \n",
       "04/03/19                        0                 0                       0   \n",
       "\n",
       "            destcity_Williston  destcity_Wilmington  destcity_Worcester  \\\n",
       "flightdate                                                                \n",
       "11/06/19                     0                    0                   0   \n",
       "10/04/18                     0                    0                   0   \n",
       "01/10/19                     0                    0                   0   \n",
       "27/07/18                     0                    0                   0   \n",
       "04/03/19                     0                    0                   0   \n",
       "\n",
       "            destcity_Wrangell  destcity_Yakutat  destcity_Yuma  \n",
       "flightdate                                                      \n",
       "11/06/19                    0                 0              0  \n",
       "10/04/18                    0                 0              0  \n",
       "01/10/19                    0                 0              0  \n",
       "27/07/18                    0                 0              0  \n",
       "04/03/19                    0                 0              0  \n",
       "\n",
       "[5 rows x 721 columns]"
      ]
     },
     "execution_count": 5,
     "metadata": {},
     "output_type": "execute_result"
    }
   ],
   "source": [
    "df.head()"
   ]
  },
  {
   "cell_type": "code",
   "execution_count": 6,
   "id": "c2f78cf5",
   "metadata": {
    "colab": {
     "base_uri": "https://localhost:8080/"
    },
    "id": "c2f78cf5",
    "outputId": "b2b19a2f-c215-4ec8-d6a3-e6e2817c1f9b"
   },
   "outputs": [
    {
     "name": "stdout",
     "output_type": "stream",
     "text": [
      "<class 'pandas.core.frame.DataFrame'>\n",
      "Index: 86761 entries, 11/06/19 to 09/02/18\n",
      "Columns: 721 entries, year to destcity_Yuma\n",
      "dtypes: float64(4), int64(14), uint8(703)\n",
      "memory usage: 70.7+ MB\n"
     ]
    }
   ],
   "source": [
    "df.info()"
   ]
  },
  {
   "cell_type": "markdown",
   "id": "gW-s_c49-6Rx",
   "metadata": {
    "id": "gW-s_c49-6Rx"
   },
   "source": [
    "## We will try to run our model using 10% of our dataset first. This is to get a first glimpse of how our model will work. "
   ]
  },
  {
   "cell_type": "code",
   "execution_count": 7,
   "id": "lsqmfkWm-3ab",
   "metadata": {
    "colab": {
     "base_uri": "https://localhost:8080/"
    },
    "id": "lsqmfkWm-3ab",
    "outputId": "89516fab-2c33-486b-e564-942af81b88e5"
   },
   "outputs": [
    {
     "name": "stdout",
     "output_type": "stream",
     "text": [
      "<class 'pandas.core.frame.DataFrame'>\n",
      "Index: 8676 entries, 20/12/19 to 05/05/18\n",
      "Columns: 721 entries, year to destcity_Yuma\n",
      "dtypes: float64(4), int64(14), uint8(703)\n",
      "memory usage: 7.1+ MB\n"
     ]
    }
   ],
   "source": [
    "df1 = df.sample(frac=0.1, replace = False, random_state=42)\n",
    "df1.info()"
   ]
  },
  {
   "cell_type": "markdown",
   "id": "46e5e933",
   "metadata": {
    "id": "46e5e933"
   },
   "source": [
    "### Preprocessing"
   ]
  },
  {
   "cell_type": "code",
   "execution_count": 8,
   "id": "2f8ae9fa",
   "metadata": {
    "colab": {
     "base_uri": "https://localhost:8080/"
    },
    "id": "2f8ae9fa",
    "outputId": "97c4aacc-bdcb-4f3c-f2fa-e64e6e9256a2"
   },
   "outputs": [
    {
     "name": "stdout",
     "output_type": "stream",
     "text": [
      "(6507, 720) (6507,)\n"
     ]
    }
   ],
   "source": [
    "x = df1.drop(['arrdel15'],axis= 1)\n",
    "y = df1.arrdel15\n",
    "\n",
    "#train test split\n",
    "x_train, x_test, y_train, y_test = train_test_split(x, y, stratify=y, random_state = 42)\n",
    "\n",
    "\n",
    "print(x_train.shape, y_train.shape)"
   ]
  },
  {
   "cell_type": "markdown",
   "id": "6-rHMdRED4UH",
   "metadata": {
    "id": "6-rHMdRED4UH"
   },
   "source": [
    "## Check the baseline score"
   ]
  },
  {
   "cell_type": "code",
   "execution_count": 9,
   "id": "VEq02HWuDyGe",
   "metadata": {
    "colab": {
     "base_uri": "https://localhost:8080/"
    },
    "id": "VEq02HWuDyGe",
    "outputId": "bfe981bc-1b10-490b-f990-5d3c88ea8e33"
   },
   "outputs": [
    {
     "data": {
      "text/plain": [
       "0.0    7050\n",
       "1.0    1626\n",
       "Name: arrdel15, dtype: int64"
      ]
     },
     "execution_count": 9,
     "metadata": {},
     "output_type": "execute_result"
    }
   ],
   "source": [
    "y.value_counts()  "
   ]
  },
  {
   "cell_type": "code",
   "execution_count": 10,
   "id": "sXyHK1dWYv1B",
   "metadata": {
    "colab": {
     "base_uri": "https://localhost:8080/"
    },
    "id": "sXyHK1dWYv1B",
    "outputId": "04e1c615-3ff5-48e1-b842-dc9caed46a0b"
   },
   "outputs": [
    {
     "data": {
      "text/plain": [
       "(8676,)"
      ]
     },
     "execution_count": 10,
     "metadata": {},
     "output_type": "execute_result"
    }
   ],
   "source": [
    "y.shape"
   ]
  },
  {
   "cell_type": "code",
   "execution_count": 11,
   "id": "8c0e3478",
   "metadata": {
    "id": "8c0e3478"
   },
   "outputs": [],
   "source": [
    "def score(model,x_train, x_test):\n",
    "    \n",
    "    \"\"\"\n",
    "    This function scores the model by returning the confusion matrix and classification report of the model\n",
    "    \n",
    "    \"\"\"\n",
    "    \n",
    "    # Get predictions\n",
    "    preds = model.predict(x_test)\n",
    "    cm = confusion_matrix(y_test, preds)\n",
    "    ConfusionMatrixDisplay(cm, display_labels=['Flight Not Delay','Flight Delay']).plot(cmap='GnBu')\n",
    "\n",
    "    print(\"Training Score:\",model.score(x_train,y_train))\n",
    "    print(\"Testing Score:\",model.score(x_test,y_test))\n",
    "    print(\"\\n\")\n",
    "    print(classification_report(y_test, preds)) \n"
   ]
  },
  {
   "cell_type": "code",
   "execution_count": 12,
   "id": "624d2cb8",
   "metadata": {
    "id": "624d2cb8"
   },
   "outputs": [],
   "source": [
    "def fimportance_df(list_of_features,list_of_feature_scores):\n",
    "    \n",
    "    \"\"\"\n",
    "    This function returns a dataframe, ranking the top features as the top rows.\n",
    "    \n",
    "    \"\"\"\n",
    "    abs_list = [abs(i) for i in list_of_feature_scores]\n",
    "    fimportance = zip(list_of_features, list_of_feature_scores, abs_list)\n",
    "    df = pd.DataFrame(fimportance,columns=['Feature','Feature_Significance','Feature_Significance_Abs'])\n",
    "    df = df.sort_values(\"Feature_Significance_Abs\",ascending=False).reset_index(drop=True)\n",
    "    return df[['Feature','Feature_Significance']]"
   ]
  },
  {
   "cell_type": "code",
   "execution_count": 13,
   "id": "8fd7a31d",
   "metadata": {
    "id": "8fd7a31d"
   },
   "outputs": [],
   "source": [
    "def fimportance(list_of_features, list_of_feature_scores):\n",
    "\n",
    "    \"\"\"\n",
    "    This function plots the feature importance/coefficients as horizontal bar plot.\n",
    "    \n",
    "    It takes in dataframe generated from the fimportance_df function.\n",
    "    \n",
    "    \"\"\"    \n",
    "    \n",
    "    # Initialize the matplotlib figure\n",
    "    df=fimportance_df(list_of_features, list_of_feature_scores)\n",
    "    \n",
    "    with sns.axes_style(\"whitegrid\"):\n",
    "        f, ax = plt.subplots(figsize=(8, 12))\n",
    "        \n",
    "        # Plot the features\n",
    "        sns.set_color_codes(\"muted\")\n",
    "        hbar = sns.barplot(x=\"Feature_Significance\",\n",
    "                            y=\"Feature\",\n",
    "                            data=df,\n",
    "                            color=\"b\")\n",
    "        for bar in hbar.patches:\n",
    "   \n",
    "        # Using Matplotlib's annotate function and\n",
    "        # passing the coordinates where the annotation shall be done\n",
    "        # x-coordinate: bar.get_width()\n",
    "        # y-coordinate: bar.get_y()+bar.get_height()/2\n",
    "        # free space to be left to make graph pleasing: (0, 0)\n",
    "        # ha and va stand for the horizontal and vertical alignment\n",
    "            hbar.annotate(format(bar.get_width(), '.3f'), # text is width of bar\n",
    "                      (bar.get_width(), bar.get_y()+bar.get_height()/2), # coordinates of each annotation\n",
    "                      ha='left', va='center',\n",
    "                       size=10, xytext=(2, 0),\n",
    "                       textcoords='offset points')\n",
    "          # Add axis label\n",
    "    ax.set(title= \"Feature Significance\",\n",
    "           xlabel=\"Score\",\n",
    "          ylabel=\"Feature\")\n",
    "    ax.xaxis.get_label().set_fontsize(20)\n",
    "    ax.yaxis.get_label().set_fontsize(20)\n",
    "    ax.title.set_fontsize(30)\n",
    "    sns.despine(left=True, bottom=True)\n"
   ]
  },
  {
   "cell_type": "code",
   "execution_count": 14,
   "id": "3aba6e42",
   "metadata": {
    "id": "3aba6e42"
   },
   "outputs": [],
   "source": [
    "def roc(model, model_name, X_train, X_test): \n",
    "    \n",
    "    \"\"\"\n",
    "    This function generates the ROC/AUC curve of the model.\n",
    "    \n",
    "    Due to the imbalanced nature of the data, the preferred metrics for this project is ROC/AUC.\n",
    "    \n",
    "    \"\"\"      \n",
    "    \n",
    "    plt.figure(figsize=(16,10))\n",
    "    \n",
    "    # Predict probabilities from X_test\n",
    "    df = pd.DataFrame(model.predict_proba(X_test))\n",
    "    preds = df.drop(columns=0)\n",
    "    \n",
    "    # \n",
    "    fpr, tpr, _ = roc_curve(y_test, preds)\n",
    "    auc = roc_auc_score(y_test, preds)\n",
    "\n",
    "    df2 = pd.DataFrame(model.predict_proba(X_train))\n",
    "    preds2 = df2.drop(columns=0)\n",
    "    fpr2, tpr2, _ = roc_curve(y_train, preds2)\n",
    "    auc2 = roc_auc_score(y_train, preds2)\n",
    "    \n",
    "    with sns.axes_style(style=\"darkgrid\"):\n",
    "        plt.plot(fpr,tpr,color='orange',label=\"%s test, auc=%s\" %(model_name, format(auc,\".3f\")))\n",
    "        plt.plot(fpr2,tpr2,color='blue',label=\"%s train, auc=%s\" %(model_name, format(auc2,\".3f\")))\n",
    "        plt.plot(y_test,y_test,color='gray',linestyle=':') #baseline 50%\n",
    "    plt.legend(loc='lower right')    \n",
    "    \n",
    "    sns.despine(left=True,bottom=True)"
   ]
  },
  {
   "cell_type": "code",
   "execution_count": 15,
   "id": "cb90a982",
   "metadata": {
    "id": "cb90a982"
   },
   "outputs": [],
   "source": [
    "preprocess_pipe = make_pipeline(MinMaxScaler())"
   ]
  },
  {
   "cell_type": "code",
   "execution_count": 16,
   "id": "8c52f5ef",
   "metadata": {
    "id": "8c52f5ef"
   },
   "outputs": [],
   "source": [
    "# preprocess data through pipeline for modelling\n",
    "\n",
    "x_train_t = preprocess_pipe.fit_transform(x_train)\n",
    "x_test_t = preprocess_pipe.transform(x_test)"
   ]
  },
  {
   "cell_type": "code",
   "execution_count": 17,
   "id": "a19762d7",
   "metadata": {
    "id": "a19762d7"
   },
   "outputs": [],
   "source": [
    "#create pipeline\n",
    "lr_pipe = make_pipeline(SMOTE(random_state = 42), \n",
    "                        LogisticRegression(max_iter=200, random_state = 42)\n",
    "                       )\n",
    "    \n",
    "\n",
    "# define grid params for logistic regression\n",
    "lr_params = {\n",
    "    'logisticregression__C': [0.02, 0.05, 0.1],\n",
    "    'logisticregression__solver' : ['newton-cg','saga', 'sag', 'lbfgs'],\n",
    "    'logisticregression__multi_class': ['multinomial', 'ovr', 'auto'],\n",
    "    'logisticregression__penalty':['l1','l2','elasticnet'],\n",
    "    'logisticregression__l1_ratio':[None, 0.25,0.5,0.75],\n",
    "    'logisticregression__class_weight':[None, 'balanced']\n",
    "}\n",
    "    \n",
    "\n",
    "# Instantiate GridSearchCV\n",
    "# Due to imbalanced data, scoring = roc & auc\n",
    "grid_lr = GridSearchCV(lr_pipe, param_grid = lr_params, verbose = 1, n_jobs=-1, cv=3, scoring='roc_auc')"
   ]
  },
  {
   "cell_type": "code",
   "execution_count": 18,
   "id": "dfdd424b",
   "metadata": {
    "id": "dfdd424b"
   },
   "outputs": [],
   "source": [
    "# preprocess data through pipeline for modelling\n",
    "\n",
    "x_train_t = preprocess_pipe.fit_transform(x_train)\n",
    "x_test_t = preprocess_pipe.transform(x_test)"
   ]
  },
  {
   "cell_type": "code",
   "execution_count": 19,
   "id": "665ea9ee",
   "metadata": {
    "colab": {
     "base_uri": "https://localhost:8080/"
    },
    "id": "665ea9ee",
    "outputId": "6a00feea-c2ff-455d-c574-5768e59b4f5e"
   },
   "outputs": [
    {
     "name": "stdout",
     "output_type": "stream",
     "text": [
      "Fitting 3 folds for each of 864 candidates, totalling 2592 fits\n"
     ]
    },
    {
     "ename": "KeyboardInterrupt",
     "evalue": "",
     "output_type": "error",
     "traceback": [
      "\u001b[1;31m---------------------------------------------------------------------------\u001b[0m",
      "\u001b[1;31mKeyboardInterrupt\u001b[0m                         Traceback (most recent call last)",
      "\u001b[1;32m<ipython-input-19-ddd13e86c509>\u001b[0m in \u001b[0;36m<module>\u001b[1;34m\u001b[0m\n\u001b[1;32m----> 1\u001b[1;33m \u001b[0mgrid_lr\u001b[0m\u001b[1;33m.\u001b[0m\u001b[0mfit\u001b[0m\u001b[1;33m(\u001b[0m\u001b[0mx_train_t\u001b[0m\u001b[1;33m,\u001b[0m\u001b[0my_train\u001b[0m\u001b[1;33m)\u001b[0m\u001b[1;33m\u001b[0m\u001b[1;33m\u001b[0m\u001b[0m\n\u001b[0m",
      "\u001b[1;32m~\\Anaconda3\\lib\\site-packages\\sklearn\\utils\\validation.py\u001b[0m in \u001b[0;36minner_f\u001b[1;34m(*args, **kwargs)\u001b[0m\n\u001b[0;32m     61\u001b[0m             \u001b[0mextra_args\u001b[0m \u001b[1;33m=\u001b[0m \u001b[0mlen\u001b[0m\u001b[1;33m(\u001b[0m\u001b[0margs\u001b[0m\u001b[1;33m)\u001b[0m \u001b[1;33m-\u001b[0m \u001b[0mlen\u001b[0m\u001b[1;33m(\u001b[0m\u001b[0mall_args\u001b[0m\u001b[1;33m)\u001b[0m\u001b[1;33m\u001b[0m\u001b[1;33m\u001b[0m\u001b[0m\n\u001b[0;32m     62\u001b[0m             \u001b[1;32mif\u001b[0m \u001b[0mextra_args\u001b[0m \u001b[1;33m<=\u001b[0m \u001b[1;36m0\u001b[0m\u001b[1;33m:\u001b[0m\u001b[1;33m\u001b[0m\u001b[1;33m\u001b[0m\u001b[0m\n\u001b[1;32m---> 63\u001b[1;33m                 \u001b[1;32mreturn\u001b[0m \u001b[0mf\u001b[0m\u001b[1;33m(\u001b[0m\u001b[1;33m*\u001b[0m\u001b[0margs\u001b[0m\u001b[1;33m,\u001b[0m \u001b[1;33m**\u001b[0m\u001b[0mkwargs\u001b[0m\u001b[1;33m)\u001b[0m\u001b[1;33m\u001b[0m\u001b[1;33m\u001b[0m\u001b[0m\n\u001b[0m\u001b[0;32m     64\u001b[0m \u001b[1;33m\u001b[0m\u001b[0m\n\u001b[0;32m     65\u001b[0m             \u001b[1;31m# extra_args > 0\u001b[0m\u001b[1;33m\u001b[0m\u001b[1;33m\u001b[0m\u001b[1;33m\u001b[0m\u001b[0m\n",
      "\u001b[1;32m~\\Anaconda3\\lib\\site-packages\\sklearn\\model_selection\\_search.py\u001b[0m in \u001b[0;36mfit\u001b[1;34m(self, X, y, groups, **fit_params)\u001b[0m\n\u001b[0;32m    839\u001b[0m                 \u001b[1;32mreturn\u001b[0m \u001b[0mresults\u001b[0m\u001b[1;33m\u001b[0m\u001b[1;33m\u001b[0m\u001b[0m\n\u001b[0;32m    840\u001b[0m \u001b[1;33m\u001b[0m\u001b[0m\n\u001b[1;32m--> 841\u001b[1;33m             \u001b[0mself\u001b[0m\u001b[1;33m.\u001b[0m\u001b[0m_run_search\u001b[0m\u001b[1;33m(\u001b[0m\u001b[0mevaluate_candidates\u001b[0m\u001b[1;33m)\u001b[0m\u001b[1;33m\u001b[0m\u001b[1;33m\u001b[0m\u001b[0m\n\u001b[0m\u001b[0;32m    842\u001b[0m \u001b[1;33m\u001b[0m\u001b[0m\n\u001b[0;32m    843\u001b[0m             \u001b[1;31m# multimetric is determined here because in the case of a callable\u001b[0m\u001b[1;33m\u001b[0m\u001b[1;33m\u001b[0m\u001b[1;33m\u001b[0m\u001b[0m\n",
      "\u001b[1;32m~\\Anaconda3\\lib\\site-packages\\sklearn\\model_selection\\_search.py\u001b[0m in \u001b[0;36m_run_search\u001b[1;34m(self, evaluate_candidates)\u001b[0m\n\u001b[0;32m   1286\u001b[0m     \u001b[1;32mdef\u001b[0m \u001b[0m_run_search\u001b[0m\u001b[1;33m(\u001b[0m\u001b[0mself\u001b[0m\u001b[1;33m,\u001b[0m \u001b[0mevaluate_candidates\u001b[0m\u001b[1;33m)\u001b[0m\u001b[1;33m:\u001b[0m\u001b[1;33m\u001b[0m\u001b[1;33m\u001b[0m\u001b[0m\n\u001b[0;32m   1287\u001b[0m         \u001b[1;34m\"\"\"Search all candidates in param_grid\"\"\"\u001b[0m\u001b[1;33m\u001b[0m\u001b[1;33m\u001b[0m\u001b[0m\n\u001b[1;32m-> 1288\u001b[1;33m         \u001b[0mevaluate_candidates\u001b[0m\u001b[1;33m(\u001b[0m\u001b[0mParameterGrid\u001b[0m\u001b[1;33m(\u001b[0m\u001b[0mself\u001b[0m\u001b[1;33m.\u001b[0m\u001b[0mparam_grid\u001b[0m\u001b[1;33m)\u001b[0m\u001b[1;33m)\u001b[0m\u001b[1;33m\u001b[0m\u001b[1;33m\u001b[0m\u001b[0m\n\u001b[0m\u001b[0;32m   1289\u001b[0m \u001b[1;33m\u001b[0m\u001b[0m\n\u001b[0;32m   1290\u001b[0m \u001b[1;33m\u001b[0m\u001b[0m\n",
      "\u001b[1;32m~\\Anaconda3\\lib\\site-packages\\sklearn\\model_selection\\_search.py\u001b[0m in \u001b[0;36mevaluate_candidates\u001b[1;34m(candidate_params, cv, more_results)\u001b[0m\n\u001b[0;32m    793\u001b[0m                               n_splits, n_candidates, n_candidates * n_splits))\n\u001b[0;32m    794\u001b[0m \u001b[1;33m\u001b[0m\u001b[0m\n\u001b[1;32m--> 795\u001b[1;33m                 out = parallel(delayed(_fit_and_score)(clone(base_estimator),\n\u001b[0m\u001b[0;32m    796\u001b[0m                                                        \u001b[0mX\u001b[0m\u001b[1;33m,\u001b[0m \u001b[0my\u001b[0m\u001b[1;33m,\u001b[0m\u001b[1;33m\u001b[0m\u001b[1;33m\u001b[0m\u001b[0m\n\u001b[0;32m    797\u001b[0m                                                        \u001b[0mtrain\u001b[0m\u001b[1;33m=\u001b[0m\u001b[0mtrain\u001b[0m\u001b[1;33m,\u001b[0m \u001b[0mtest\u001b[0m\u001b[1;33m=\u001b[0m\u001b[0mtest\u001b[0m\u001b[1;33m,\u001b[0m\u001b[1;33m\u001b[0m\u001b[1;33m\u001b[0m\u001b[0m\n",
      "\u001b[1;32m~\\Anaconda3\\lib\\site-packages\\joblib\\parallel.py\u001b[0m in \u001b[0;36m__call__\u001b[1;34m(self, iterable)\u001b[0m\n\u001b[0;32m   1052\u001b[0m \u001b[1;33m\u001b[0m\u001b[0m\n\u001b[0;32m   1053\u001b[0m             \u001b[1;32mwith\u001b[0m \u001b[0mself\u001b[0m\u001b[1;33m.\u001b[0m\u001b[0m_backend\u001b[0m\u001b[1;33m.\u001b[0m\u001b[0mretrieval_context\u001b[0m\u001b[1;33m(\u001b[0m\u001b[1;33m)\u001b[0m\u001b[1;33m:\u001b[0m\u001b[1;33m\u001b[0m\u001b[1;33m\u001b[0m\u001b[0m\n\u001b[1;32m-> 1054\u001b[1;33m                 \u001b[0mself\u001b[0m\u001b[1;33m.\u001b[0m\u001b[0mretrieve\u001b[0m\u001b[1;33m(\u001b[0m\u001b[1;33m)\u001b[0m\u001b[1;33m\u001b[0m\u001b[1;33m\u001b[0m\u001b[0m\n\u001b[0m\u001b[0;32m   1055\u001b[0m             \u001b[1;31m# Make sure that we get a last message telling us we are done\u001b[0m\u001b[1;33m\u001b[0m\u001b[1;33m\u001b[0m\u001b[1;33m\u001b[0m\u001b[0m\n\u001b[0;32m   1056\u001b[0m             \u001b[0melapsed_time\u001b[0m \u001b[1;33m=\u001b[0m \u001b[0mtime\u001b[0m\u001b[1;33m.\u001b[0m\u001b[0mtime\u001b[0m\u001b[1;33m(\u001b[0m\u001b[1;33m)\u001b[0m \u001b[1;33m-\u001b[0m \u001b[0mself\u001b[0m\u001b[1;33m.\u001b[0m\u001b[0m_start_time\u001b[0m\u001b[1;33m\u001b[0m\u001b[1;33m\u001b[0m\u001b[0m\n",
      "\u001b[1;32m~\\Anaconda3\\lib\\site-packages\\joblib\\parallel.py\u001b[0m in \u001b[0;36mretrieve\u001b[1;34m(self)\u001b[0m\n\u001b[0;32m    931\u001b[0m             \u001b[1;32mtry\u001b[0m\u001b[1;33m:\u001b[0m\u001b[1;33m\u001b[0m\u001b[1;33m\u001b[0m\u001b[0m\n\u001b[0;32m    932\u001b[0m                 \u001b[1;32mif\u001b[0m \u001b[0mgetattr\u001b[0m\u001b[1;33m(\u001b[0m\u001b[0mself\u001b[0m\u001b[1;33m.\u001b[0m\u001b[0m_backend\u001b[0m\u001b[1;33m,\u001b[0m \u001b[1;34m'supports_timeout'\u001b[0m\u001b[1;33m,\u001b[0m \u001b[1;32mFalse\u001b[0m\u001b[1;33m)\u001b[0m\u001b[1;33m:\u001b[0m\u001b[1;33m\u001b[0m\u001b[1;33m\u001b[0m\u001b[0m\n\u001b[1;32m--> 933\u001b[1;33m                     \u001b[0mself\u001b[0m\u001b[1;33m.\u001b[0m\u001b[0m_output\u001b[0m\u001b[1;33m.\u001b[0m\u001b[0mextend\u001b[0m\u001b[1;33m(\u001b[0m\u001b[0mjob\u001b[0m\u001b[1;33m.\u001b[0m\u001b[0mget\u001b[0m\u001b[1;33m(\u001b[0m\u001b[0mtimeout\u001b[0m\u001b[1;33m=\u001b[0m\u001b[0mself\u001b[0m\u001b[1;33m.\u001b[0m\u001b[0mtimeout\u001b[0m\u001b[1;33m)\u001b[0m\u001b[1;33m)\u001b[0m\u001b[1;33m\u001b[0m\u001b[1;33m\u001b[0m\u001b[0m\n\u001b[0m\u001b[0;32m    934\u001b[0m                 \u001b[1;32melse\u001b[0m\u001b[1;33m:\u001b[0m\u001b[1;33m\u001b[0m\u001b[1;33m\u001b[0m\u001b[0m\n\u001b[0;32m    935\u001b[0m                     \u001b[0mself\u001b[0m\u001b[1;33m.\u001b[0m\u001b[0m_output\u001b[0m\u001b[1;33m.\u001b[0m\u001b[0mextend\u001b[0m\u001b[1;33m(\u001b[0m\u001b[0mjob\u001b[0m\u001b[1;33m.\u001b[0m\u001b[0mget\u001b[0m\u001b[1;33m(\u001b[0m\u001b[1;33m)\u001b[0m\u001b[1;33m)\u001b[0m\u001b[1;33m\u001b[0m\u001b[1;33m\u001b[0m\u001b[0m\n",
      "\u001b[1;32m~\\Anaconda3\\lib\\site-packages\\joblib\\_parallel_backends.py\u001b[0m in \u001b[0;36mwrap_future_result\u001b[1;34m(future, timeout)\u001b[0m\n\u001b[0;32m    540\u001b[0m         AsyncResults.get from multiprocessing.\"\"\"\n\u001b[0;32m    541\u001b[0m         \u001b[1;32mtry\u001b[0m\u001b[1;33m:\u001b[0m\u001b[1;33m\u001b[0m\u001b[1;33m\u001b[0m\u001b[0m\n\u001b[1;32m--> 542\u001b[1;33m             \u001b[1;32mreturn\u001b[0m \u001b[0mfuture\u001b[0m\u001b[1;33m.\u001b[0m\u001b[0mresult\u001b[0m\u001b[1;33m(\u001b[0m\u001b[0mtimeout\u001b[0m\u001b[1;33m=\u001b[0m\u001b[0mtimeout\u001b[0m\u001b[1;33m)\u001b[0m\u001b[1;33m\u001b[0m\u001b[1;33m\u001b[0m\u001b[0m\n\u001b[0m\u001b[0;32m    543\u001b[0m         \u001b[1;32mexcept\u001b[0m \u001b[0mCfTimeoutError\u001b[0m \u001b[1;32mas\u001b[0m \u001b[0me\u001b[0m\u001b[1;33m:\u001b[0m\u001b[1;33m\u001b[0m\u001b[1;33m\u001b[0m\u001b[0m\n\u001b[0;32m    544\u001b[0m             \u001b[1;32mraise\u001b[0m \u001b[0mTimeoutError\u001b[0m \u001b[1;32mfrom\u001b[0m \u001b[0me\u001b[0m\u001b[1;33m\u001b[0m\u001b[1;33m\u001b[0m\u001b[0m\n",
      "\u001b[1;32m~\\Anaconda3\\lib\\concurrent\\futures\\_base.py\u001b[0m in \u001b[0;36mresult\u001b[1;34m(self, timeout)\u001b[0m\n\u001b[0;32m    432\u001b[0m                 \u001b[1;32mreturn\u001b[0m \u001b[0mself\u001b[0m\u001b[1;33m.\u001b[0m\u001b[0m__get_result\u001b[0m\u001b[1;33m(\u001b[0m\u001b[1;33m)\u001b[0m\u001b[1;33m\u001b[0m\u001b[1;33m\u001b[0m\u001b[0m\n\u001b[0;32m    433\u001b[0m \u001b[1;33m\u001b[0m\u001b[0m\n\u001b[1;32m--> 434\u001b[1;33m             \u001b[0mself\u001b[0m\u001b[1;33m.\u001b[0m\u001b[0m_condition\u001b[0m\u001b[1;33m.\u001b[0m\u001b[0mwait\u001b[0m\u001b[1;33m(\u001b[0m\u001b[0mtimeout\u001b[0m\u001b[1;33m)\u001b[0m\u001b[1;33m\u001b[0m\u001b[1;33m\u001b[0m\u001b[0m\n\u001b[0m\u001b[0;32m    435\u001b[0m \u001b[1;33m\u001b[0m\u001b[0m\n\u001b[0;32m    436\u001b[0m             \u001b[1;32mif\u001b[0m \u001b[0mself\u001b[0m\u001b[1;33m.\u001b[0m\u001b[0m_state\u001b[0m \u001b[1;32min\u001b[0m \u001b[1;33m[\u001b[0m\u001b[0mCANCELLED\u001b[0m\u001b[1;33m,\u001b[0m \u001b[0mCANCELLED_AND_NOTIFIED\u001b[0m\u001b[1;33m]\u001b[0m\u001b[1;33m:\u001b[0m\u001b[1;33m\u001b[0m\u001b[1;33m\u001b[0m\u001b[0m\n",
      "\u001b[1;32m~\\Anaconda3\\lib\\threading.py\u001b[0m in \u001b[0;36mwait\u001b[1;34m(self, timeout)\u001b[0m\n\u001b[0;32m    300\u001b[0m         \u001b[1;32mtry\u001b[0m\u001b[1;33m:\u001b[0m    \u001b[1;31m# restore state no matter what (e.g., KeyboardInterrupt)\u001b[0m\u001b[1;33m\u001b[0m\u001b[1;33m\u001b[0m\u001b[0m\n\u001b[0;32m    301\u001b[0m             \u001b[1;32mif\u001b[0m \u001b[0mtimeout\u001b[0m \u001b[1;32mis\u001b[0m \u001b[1;32mNone\u001b[0m\u001b[1;33m:\u001b[0m\u001b[1;33m\u001b[0m\u001b[1;33m\u001b[0m\u001b[0m\n\u001b[1;32m--> 302\u001b[1;33m                 \u001b[0mwaiter\u001b[0m\u001b[1;33m.\u001b[0m\u001b[0macquire\u001b[0m\u001b[1;33m(\u001b[0m\u001b[1;33m)\u001b[0m\u001b[1;33m\u001b[0m\u001b[1;33m\u001b[0m\u001b[0m\n\u001b[0m\u001b[0;32m    303\u001b[0m                 \u001b[0mgotit\u001b[0m \u001b[1;33m=\u001b[0m \u001b[1;32mTrue\u001b[0m\u001b[1;33m\u001b[0m\u001b[1;33m\u001b[0m\u001b[0m\n\u001b[0;32m    304\u001b[0m             \u001b[1;32melse\u001b[0m\u001b[1;33m:\u001b[0m\u001b[1;33m\u001b[0m\u001b[1;33m\u001b[0m\u001b[0m\n",
      "\u001b[1;31mKeyboardInterrupt\u001b[0m: "
     ]
    }
   ],
   "source": [
    "grid_lr.fit(x_train_t,y_train)"
   ]
  },
  {
   "cell_type": "code",
   "execution_count": null,
   "id": "XG5UlBV3QOzK",
   "metadata": {
    "colab": {
     "base_uri": "https://localhost:8080/"
    },
    "id": "XG5UlBV3QOzK",
    "outputId": "48b1e7de-a5fc-473c-bec7-7f335f3ecedd"
   },
   "outputs": [],
   "source": [
    "print(\"best score\", grid_lr.best_score_)\n",
    "print(\"best params\", grid_lr.best_params_)"
   ]
  },
  {
   "cell_type": "code",
   "execution_count": null,
   "id": "0HR4hlwAQTI_",
   "metadata": {
    "colab": {
     "base_uri": "https://localhost:8080/",
     "height": 505
    },
    "id": "0HR4hlwAQTI_",
    "outputId": "3ded467e-21e8-4ad3-8d89-58b412b939e5"
   },
   "outputs": [],
   "source": [
    "score(grid_lr, x_train_t, x_test_t)"
   ]
  },
  {
   "cell_type": "code",
   "execution_count": null,
   "id": "toqPljBhQkRX",
   "metadata": {
    "colab": {
     "base_uri": "https://localhost:8080/",
     "height": 592
    },
    "id": "toqPljBhQkRX",
    "outputId": "1c1aed83-4604-4c9d-80f2-22c597381e95"
   },
   "outputs": [],
   "source": [
    "roc(grid_lr,\"LogisticRegression\", x_train_t, x_test_t)"
   ]
  },
  {
   "cell_type": "code",
   "execution_count": null,
   "id": "SWjp_yBYSNN4",
   "metadata": {
    "id": "SWjp_yBYSNN4"
   },
   "outputs": [],
   "source": []
  }
 ],
 "metadata": {
  "accelerator": "TPU",
  "colab": {
   "collapsed_sections": [],
   "name": "Copy of 1st Model.ipynb",
   "provenance": []
  },
  "kernelspec": {
   "display_name": "Python 3",
   "language": "python",
   "name": "python3"
  },
  "language_info": {
   "codemirror_mode": {
    "name": "ipython",
    "version": 3
   },
   "file_extension": ".py",
   "mimetype": "text/x-python",
   "name": "python",
   "nbconvert_exporter": "python",
   "pygments_lexer": "ipython3",
   "version": "3.8.8"
  }
 },
 "nbformat": 4,
 "nbformat_minor": 5
}
