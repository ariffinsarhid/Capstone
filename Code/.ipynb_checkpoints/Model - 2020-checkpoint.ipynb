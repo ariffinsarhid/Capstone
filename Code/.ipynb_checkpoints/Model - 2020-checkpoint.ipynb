{
 "cells": [
  {
   "cell_type": "code",
   "execution_count": 1,
   "id": "85d60cc1",
   "metadata": {},
   "outputs": [],
   "source": [
    "import pandas as pd\n",
    "import numpy as np\n",
    "import seaborn as sns\n",
    "import matplotlib.pyplot as plt\n",
    "import warnings\n",
    "warnings.simplefilter(action = 'ignore')\n",
    "import io\n",
    "\n",
    "from sklearn.model_selection import GridSearchCV, train_test_split, cross_val_score\n",
    "from sklearn.preprocessing import StandardScaler, MinMaxScaler\n",
    "from sklearn.linear_model import LogisticRegression\n",
    "from sklearn.ensemble import RandomForestClassifier, GradientBoostingClassifier\n",
    "from sklearn.preprocessing import MinMaxScaler, OneHotEncoder\n",
    "from sklearn.metrics import roc_curve, RocCurveDisplay, roc_auc_score\n",
    "from sklearn.metrics import plot_confusion_matrix, classification_report, confusion_matrix, ConfusionMatrixDisplay\n",
    "from sklearn.base import BaseEstimator, TransformerMixin\n",
    "from imblearn.over_sampling import SMOTE, RandomOverSampler\n",
    "from imblearn.under_sampling import RandomUnderSampler\n",
    "from imblearn.pipeline import make_pipeline\n",
    "\n",
    "\n",
    "from sklearn.decomposition import PCA\n",
    "from sklearn.neighbors import KNeighborsClassifier\n",
    "from imblearn.under_sampling import EditedNearestNeighbours\n",
    "from imblearn.over_sampling import SMOTE"
   ]
  },
  {
   "cell_type": "code",
   "execution_count": 2,
   "id": "4ea28ae4",
   "metadata": {},
   "outputs": [],
   "source": [
    "df = pd.read_csv('../Data/final_table.csv')\n",
    "df = df.drop(columns= ['Unnamed: 0','flightdate'])"
   ]
  },
  {
   "cell_type": "code",
   "execution_count": 3,
   "id": "a2d248b0",
   "metadata": {},
   "outputs": [
    {
     "data": {
      "text/html": [
       "<div>\n",
       "<style scoped>\n",
       "    .dataframe tbody tr th:only-of-type {\n",
       "        vertical-align: middle;\n",
       "    }\n",
       "\n",
       "    .dataframe tbody tr th {\n",
       "        vertical-align: top;\n",
       "    }\n",
       "\n",
       "    .dataframe thead th {\n",
       "        text-align: right;\n",
       "    }\n",
       "</style>\n",
       "<table border=\"1\" class=\"dataframe\">\n",
       "  <thead>\n",
       "    <tr style=\"text-align: right;\">\n",
       "      <th></th>\n",
       "      <th>year</th>\n",
       "      <th>quarter</th>\n",
       "      <th>month</th>\n",
       "      <th>dayofmonth</th>\n",
       "      <th>dayofweek</th>\n",
       "      <th>flight_number_reporting_airline</th>\n",
       "      <th>originairportid</th>\n",
       "      <th>destairportid</th>\n",
       "      <th>destcitymarketid</th>\n",
       "      <th>destwac</th>\n",
       "      <th>crsdeptime</th>\n",
       "      <th>crsarrtime</th>\n",
       "      <th>arrdel15</th>\n",
       "      <th>crselapsedtime</th>\n",
       "      <th>airtime</th>\n",
       "      <th>flights</th>\n",
       "      <th>distance</th>\n",
       "      <th>distancegroup</th>\n",
       "      <th>airline</th>\n",
       "      <th>destcity</th>\n",
       "    </tr>\n",
       "  </thead>\n",
       "  <tbody>\n",
       "    <tr>\n",
       "      <th>0</th>\n",
       "      <td>2019</td>\n",
       "      <td>2</td>\n",
       "      <td>6</td>\n",
       "      <td>11</td>\n",
       "      <td>2</td>\n",
       "      <td>3459</td>\n",
       "      <td>10397</td>\n",
       "      <td>10868</td>\n",
       "      <td>30868</td>\n",
       "      <td>37</td>\n",
       "      <td>1950</td>\n",
       "      <td>2057</td>\n",
       "      <td>1.0</td>\n",
       "      <td>67.0</td>\n",
       "      <td>35.0</td>\n",
       "      <td>1</td>\n",
       "      <td>192</td>\n",
       "      <td>1</td>\n",
       "      <td>Endeavor Air Inc.</td>\n",
       "      <td>Columbia</td>\n",
       "    </tr>\n",
       "    <tr>\n",
       "      <th>1</th>\n",
       "      <td>2018</td>\n",
       "      <td>2</td>\n",
       "      <td>4</td>\n",
       "      <td>10</td>\n",
       "      <td>2</td>\n",
       "      <td>5198</td>\n",
       "      <td>10397</td>\n",
       "      <td>12197</td>\n",
       "      <td>31703</td>\n",
       "      <td>22</td>\n",
       "      <td>928</td>\n",
       "      <td>1150</td>\n",
       "      <td>0.0</td>\n",
       "      <td>142.0</td>\n",
       "      <td>99.0</td>\n",
       "      <td>1</td>\n",
       "      <td>780</td>\n",
       "      <td>4</td>\n",
       "      <td>Endeavor Air Inc.</td>\n",
       "      <td>White Plains</td>\n",
       "    </tr>\n",
       "    <tr>\n",
       "      <th>2</th>\n",
       "      <td>2019</td>\n",
       "      <td>4</td>\n",
       "      <td>10</td>\n",
       "      <td>1</td>\n",
       "      <td>2</td>\n",
       "      <td>3358</td>\n",
       "      <td>12953</td>\n",
       "      <td>11057</td>\n",
       "      <td>31057</td>\n",
       "      <td>36</td>\n",
       "      <td>1910</td>\n",
       "      <td>2130</td>\n",
       "      <td>1.0</td>\n",
       "      <td>140.0</td>\n",
       "      <td>76.0</td>\n",
       "      <td>1</td>\n",
       "      <td>544</td>\n",
       "      <td>3</td>\n",
       "      <td>Endeavor Air Inc.</td>\n",
       "      <td>Charlotte</td>\n",
       "    </tr>\n",
       "    <tr>\n",
       "      <th>3</th>\n",
       "      <td>2018</td>\n",
       "      <td>3</td>\n",
       "      <td>7</td>\n",
       "      <td>27</td>\n",
       "      <td>5</td>\n",
       "      <td>5388</td>\n",
       "      <td>10821</td>\n",
       "      <td>14492</td>\n",
       "      <td>34492</td>\n",
       "      <td>36</td>\n",
       "      <td>1526</td>\n",
       "      <td>1636</td>\n",
       "      <td>1.0</td>\n",
       "      <td>70.0</td>\n",
       "      <td>46.0</td>\n",
       "      <td>1</td>\n",
       "      <td>255</td>\n",
       "      <td>2</td>\n",
       "      <td>Endeavor Air Inc.</td>\n",
       "      <td>Raleigh/Durham</td>\n",
       "    </tr>\n",
       "    <tr>\n",
       "      <th>4</th>\n",
       "      <td>2019</td>\n",
       "      <td>1</td>\n",
       "      <td>3</td>\n",
       "      <td>4</td>\n",
       "      <td>1</td>\n",
       "      <td>5179</td>\n",
       "      <td>14122</td>\n",
       "      <td>12478</td>\n",
       "      <td>31703</td>\n",
       "      <td>22</td>\n",
       "      <td>604</td>\n",
       "      <td>745</td>\n",
       "      <td>1.0</td>\n",
       "      <td>101.0</td>\n",
       "      <td>63.0</td>\n",
       "      <td>1</td>\n",
       "      <td>340</td>\n",
       "      <td>2</td>\n",
       "      <td>Endeavor Air Inc.</td>\n",
       "      <td>New York</td>\n",
       "    </tr>\n",
       "  </tbody>\n",
       "</table>\n",
       "</div>"
      ],
      "text/plain": [
       "   year  quarter  month  dayofmonth  dayofweek  \\\n",
       "0  2019        2      6          11          2   \n",
       "1  2018        2      4          10          2   \n",
       "2  2019        4     10           1          2   \n",
       "3  2018        3      7          27          5   \n",
       "4  2019        1      3           4          1   \n",
       "\n",
       "   flight_number_reporting_airline  originairportid  destairportid  \\\n",
       "0                             3459            10397          10868   \n",
       "1                             5198            10397          12197   \n",
       "2                             3358            12953          11057   \n",
       "3                             5388            10821          14492   \n",
       "4                             5179            14122          12478   \n",
       "\n",
       "   destcitymarketid  destwac  crsdeptime  crsarrtime  arrdel15  \\\n",
       "0             30868       37        1950        2057       1.0   \n",
       "1             31703       22         928        1150       0.0   \n",
       "2             31057       36        1910        2130       1.0   \n",
       "3             34492       36        1526        1636       1.0   \n",
       "4             31703       22         604         745       1.0   \n",
       "\n",
       "   crselapsedtime  airtime  flights  distance  distancegroup  \\\n",
       "0            67.0     35.0        1       192              1   \n",
       "1           142.0     99.0        1       780              4   \n",
       "2           140.0     76.0        1       544              3   \n",
       "3            70.0     46.0        1       255              2   \n",
       "4           101.0     63.0        1       340              2   \n",
       "\n",
       "             airline        destcity  \n",
       "0  Endeavor Air Inc.        Columbia  \n",
       "1  Endeavor Air Inc.    White Plains  \n",
       "2  Endeavor Air Inc.       Charlotte  \n",
       "3  Endeavor Air Inc.  Raleigh/Durham  \n",
       "4  Endeavor Air Inc.        New York  "
      ]
     },
     "execution_count": 3,
     "metadata": {},
     "output_type": "execute_result"
    }
   ],
   "source": [
    "df.head()"
   ]
  },
  {
   "cell_type": "code",
   "execution_count": 4,
   "id": "0e578c13",
   "metadata": {},
   "outputs": [
    {
     "name": "stdout",
     "output_type": "stream",
     "text": [
      "<class 'pandas.core.frame.DataFrame'>\n",
      "Int64Index: 9287 entries, 5 to 86661\n",
      "Data columns (total 20 columns):\n",
      " #   Column                           Non-Null Count  Dtype  \n",
      "---  ------                           --------------  -----  \n",
      " 0   year                             9287 non-null   int64  \n",
      " 1   quarter                          9287 non-null   int64  \n",
      " 2   month                            9287 non-null   int64  \n",
      " 3   dayofmonth                       9287 non-null   int64  \n",
      " 4   dayofweek                        9287 non-null   int64  \n",
      " 5   flight_number_reporting_airline  9287 non-null   int64  \n",
      " 6   originairportid                  9287 non-null   int64  \n",
      " 7   destairportid                    9287 non-null   int64  \n",
      " 8   destcitymarketid                 9287 non-null   int64  \n",
      " 9   destwac                          9287 non-null   int64  \n",
      " 10  crsdeptime                       9287 non-null   int64  \n",
      " 11  crsarrtime                       9287 non-null   int64  \n",
      " 12  arrdel15                         9287 non-null   float64\n",
      " 13  crselapsedtime                   9287 non-null   float64\n",
      " 14  airtime                          9287 non-null   float64\n",
      " 15  flights                          9287 non-null   int64  \n",
      " 16  distance                         9287 non-null   int64  \n",
      " 17  distancegroup                    9287 non-null   int64  \n",
      " 18  airline                          9287 non-null   object \n",
      " 19  destcity                         9287 non-null   object \n",
      "dtypes: float64(3), int64(15), object(2)\n",
      "memory usage: 1.5+ MB\n"
     ]
    }
   ],
   "source": [
    "df_2020 = df[(df['year'] == 2020)]\n",
    "df_2020.info()"
   ]
  },
  {
   "cell_type": "code",
   "execution_count": 5,
   "id": "123326d9",
   "metadata": {},
   "outputs": [
    {
     "data": {
      "text/plain": [
       "array(['Endeavor Air Inc.', 'Southwest Airlines Co.',\n",
       "       'Mesa Airlines Inc.', 'Republic Airline', 'PSA Airlines Inc.',\n",
       "       'United Air Lines Inc.', 'Delta Air Lines Inc.',\n",
       "       'SkyWest Airlines Inc.', 'American Airlines Inc.',\n",
       "       'Spirit Air Lines', 'Alaska Airlines Inc.', 'JetBlue Airways',\n",
       "       'Allegiant Air', 'Frontier Airlines Inc.',\n",
       "       'Hawaiian Airlines Inc.', 'Envoy Air', 'ExpressJet Airlines LLC'],\n",
       "      dtype=object)"
      ]
     },
     "execution_count": 5,
     "metadata": {},
     "output_type": "execute_result"
    }
   ],
   "source": [
    "df_2020['airline'].unique()"
   ]
  },
  {
   "cell_type": "code",
   "execution_count": 6,
   "id": "4caed77b",
   "metadata": {},
   "outputs": [],
   "source": [
    "ranking = df_2020[['airline']]\n",
    "dictionary = {\n",
    "    'Allegiant Air':1,\n",
    "    'Envoy Air':1,\n",
    "    'PSA Airlines Inc.': 1,\n",
    "    'Alaska Airlines Inc.': 1,\n",
    "    'Spirit Air Lines': 1,\n",
    "    'American Airlines Inc.': 2,\n",
    "    'Mesa Airlines Inc.': 2,\n",
    "    'Frontier Airlines Inc.': 2, \n",
    "    'Republic Airline': 2, \n",
    "    'United Air Lines Inc.' : 3, \n",
    "    'Hawaiian Airlines Inc.': 3, \n",
    "    'JetBlue Airways': 3, \n",
    "    'ExpressJet Airlines LLC': 3, \n",
    "    'SkyWest Airlines Inc.': 4,\n",
    "    'Delta Air Lines Inc.': 4, \n",
    "    'Spirit Air Lines': 4,\n",
    "    'Endeavor Air Inc.': 4\n",
    "}\n",
    "\n",
    "for i in ranking:\n",
    "    df_2020.replace({i:dictionary}, inplace = True)"
   ]
  },
  {
   "cell_type": "markdown",
   "id": "f1b0e62b",
   "metadata": {},
   "source": [
    "dummy= pd.get_dummies(df_2020['destcity'])"
   ]
  },
  {
   "cell_type": "markdown",
   "id": "6a1a5948",
   "metadata": {},
   "source": [
    "df_2020 = pd.concat([df_2020,dummy], axis = 1)\n",
    "df_2020 = df_2020.drop(columns = ['destcity'])\n",
    "df_2020.head()"
   ]
  },
  {
   "cell_type": "code",
   "execution_count": 7,
   "id": "ff8a8788",
   "metadata": {},
   "outputs": [
    {
     "name": "stdout",
     "output_type": "stream",
     "text": [
      "(6965, 11) (6965,)\n"
     ]
    }
   ],
   "source": [
    "x = df_2020[['crsdeptime','airtime', 'crsarrtime', 'crselapsedtime', 'distancegroup', 'distance', 'month', 'originairportid',\n",
    "             'destwac', 'dayofweek', 'destairportid']]\n",
    "y = df_2020.arrdel15\n",
    "\n",
    "#train test split\n",
    "x_train, x_test, y_train, y_test = train_test_split(x, y, stratify=y, random_state = 42)\n",
    "\n",
    "\n",
    "print(x_train.shape, y_train.shape)"
   ]
  },
  {
   "cell_type": "code",
   "execution_count": 8,
   "id": "b2b1560d",
   "metadata": {},
   "outputs": [
    {
     "data": {
      "text/html": [
       "<div>\n",
       "<style scoped>\n",
       "    .dataframe tbody tr th:only-of-type {\n",
       "        vertical-align: middle;\n",
       "    }\n",
       "\n",
       "    .dataframe tbody tr th {\n",
       "        vertical-align: top;\n",
       "    }\n",
       "\n",
       "    .dataframe thead th {\n",
       "        text-align: right;\n",
       "    }\n",
       "</style>\n",
       "<table border=\"1\" class=\"dataframe\">\n",
       "  <thead>\n",
       "    <tr style=\"text-align: right;\">\n",
       "      <th></th>\n",
       "      <th>crsdeptime</th>\n",
       "      <th>airtime</th>\n",
       "      <th>crsarrtime</th>\n",
       "      <th>crselapsedtime</th>\n",
       "      <th>distancegroup</th>\n",
       "      <th>distance</th>\n",
       "      <th>month</th>\n",
       "      <th>originairportid</th>\n",
       "      <th>destwac</th>\n",
       "      <th>dayofweek</th>\n",
       "      <th>destairportid</th>\n",
       "    </tr>\n",
       "  </thead>\n",
       "  <tbody>\n",
       "    <tr>\n",
       "      <th>5</th>\n",
       "      <td>1735</td>\n",
       "      <td>91.0</td>\n",
       "      <td>2000</td>\n",
       "      <td>145.0</td>\n",
       "      <td>4</td>\n",
       "      <td>833</td>\n",
       "      <td>2</td>\n",
       "      <td>12451</td>\n",
       "      <td>22</td>\n",
       "      <td>3</td>\n",
       "      <td>12953</td>\n",
       "    </tr>\n",
       "    <tr>\n",
       "      <th>10</th>\n",
       "      <td>630</td>\n",
       "      <td>87.0</td>\n",
       "      <td>747</td>\n",
       "      <td>137.0</td>\n",
       "      <td>3</td>\n",
       "      <td>574</td>\n",
       "      <td>2</td>\n",
       "      <td>11267</td>\n",
       "      <td>63</td>\n",
       "      <td>6</td>\n",
       "      <td>13487</td>\n",
       "    </tr>\n",
       "    <tr>\n",
       "      <th>14</th>\n",
       "      <td>1820</td>\n",
       "      <td>98.0</td>\n",
       "      <td>2145</td>\n",
       "      <td>145.0</td>\n",
       "      <td>3</td>\n",
       "      <td>740</td>\n",
       "      <td>3</td>\n",
       "      <td>13930</td>\n",
       "      <td>22</td>\n",
       "      <td>5</td>\n",
       "      <td>12478</td>\n",
       "    </tr>\n",
       "    <tr>\n",
       "      <th>16</th>\n",
       "      <td>2116</td>\n",
       "      <td>59.0</td>\n",
       "      <td>2145</td>\n",
       "      <td>89.0</td>\n",
       "      <td>2</td>\n",
       "      <td>350</td>\n",
       "      <td>2</td>\n",
       "      <td>10397</td>\n",
       "      <td>42</td>\n",
       "      <td>3</td>\n",
       "      <td>11612</td>\n",
       "    </tr>\n",
       "    <tr>\n",
       "      <th>23</th>\n",
       "      <td>902</td>\n",
       "      <td>79.0</td>\n",
       "      <td>950</td>\n",
       "      <td>108.0</td>\n",
       "      <td>3</td>\n",
       "      <td>500</td>\n",
       "      <td>1</td>\n",
       "      <td>10397</td>\n",
       "      <td>72</td>\n",
       "      <td>3</td>\n",
       "      <td>10185</td>\n",
       "    </tr>\n",
       "  </tbody>\n",
       "</table>\n",
       "</div>"
      ],
      "text/plain": [
       "    crsdeptime  airtime  crsarrtime  crselapsedtime  distancegroup  distance  \\\n",
       "5         1735     91.0        2000           145.0              4       833   \n",
       "10         630     87.0         747           137.0              3       574   \n",
       "14        1820     98.0        2145           145.0              3       740   \n",
       "16        2116     59.0        2145            89.0              2       350   \n",
       "23         902     79.0         950           108.0              3       500   \n",
       "\n",
       "    month  originairportid  destwac  dayofweek  destairportid  \n",
       "5       2            12451       22          3          12953  \n",
       "10      2            11267       63          6          13487  \n",
       "14      3            13930       22          5          12478  \n",
       "16      2            10397       42          3          11612  \n",
       "23      1            10397       72          3          10185  "
      ]
     },
     "execution_count": 8,
     "metadata": {},
     "output_type": "execute_result"
    }
   ],
   "source": [
    "x.head()"
   ]
  },
  {
   "cell_type": "code",
   "execution_count": 9,
   "id": "73ea17f4",
   "metadata": {},
   "outputs": [
    {
     "data": {
      "text/plain": [
       "5     0.0\n",
       "10    0.0\n",
       "14    1.0\n",
       "16    0.0\n",
       "23    0.0\n",
       "Name: arrdel15, dtype: float64"
      ]
     },
     "execution_count": 9,
     "metadata": {},
     "output_type": "execute_result"
    }
   ],
   "source": [
    "y.head()"
   ]
  },
  {
   "cell_type": "code",
   "execution_count": 10,
   "id": "3770a6fd",
   "metadata": {},
   "outputs": [
    {
     "data": {
      "text/plain": [
       "0.0    8051\n",
       "1.0    1236\n",
       "Name: arrdel15, dtype: int64"
      ]
     },
     "execution_count": 10,
     "metadata": {},
     "output_type": "execute_result"
    }
   ],
   "source": [
    "y.value_counts()"
   ]
  },
  {
   "cell_type": "code",
   "execution_count": 11,
   "id": "eeb257cc",
   "metadata": {},
   "outputs": [],
   "source": [
    "def score(model,x_train, x_test):\n",
    "    \n",
    "    \"\"\"\n",
    "    This function scores the model by returning the confusion matrix and classification report of the model\n",
    "    \n",
    "    \"\"\"\n",
    "    \n",
    "    # Get predictions\n",
    "    preds = model.predict(x_test)\n",
    "    cm = confusion_matrix(y_test, preds)\n",
    "    ConfusionMatrixDisplay(cm, display_labels=['Flight Not Delay','Flight Delay']).plot(cmap='GnBu')\n",
    "\n",
    "    print(\"Training Score:\",model.score(x_train,y_train))\n",
    "    print(\"Testing Score:\",model.score(x_test,y_test))\n",
    "    print(\"\\n\")\n",
    "    print(classification_report(y_test, preds)) "
   ]
  },
  {
   "cell_type": "code",
   "execution_count": 12,
   "id": "2720ac59",
   "metadata": {},
   "outputs": [],
   "source": [
    "def roc(model, model_name, x_train, x_test): \n",
    "    \n",
    "    \"\"\"\n",
    "    This function generates the ROC/AUC curve of the model.\n",
    "    \n",
    "    Due to the imbalanced nature of the data, the preferred metrics for this project is ROC/AUC.\n",
    "    \n",
    "    \"\"\"      \n",
    "    \n",
    "    plt.figure(figsize=(16,10))\n",
    "    \n",
    "    # Predict probabilities from X_test\n",
    "    df = pd.DataFrame(model.predict_proba(x_test))\n",
    "    preds = df.drop(columns=0)\n",
    "    \n",
    "    # \n",
    "    fpr, tpr, _ = roc_curve(y_test, preds)\n",
    "    auc = roc_auc_score(y_test, preds)\n",
    "\n",
    "    df2 = pd.DataFrame(model.predict_proba(x_train))\n",
    "    preds2 = df2.drop(columns=0)\n",
    "    fpr2, tpr2, _ = roc_curve(y_train, preds2)\n",
    "    auc2 = roc_auc_score(y_train, preds2)\n",
    "    \n",
    "    with sns.axes_style(style=\"darkgrid\"):\n",
    "        plt.plot(fpr,tpr,color='orange',label=\"%s test, auc=%s\" %(model_name, format(auc,\".3f\")))\n",
    "        plt.plot(fpr2,tpr2,color='blue',label=\"%s train, auc=%s\" %(model_name, format(auc2,\".3f\")))\n",
    "        plt.plot(y_test,y_test,color='gray',linestyle=':') #baseline 50%\n",
    "    plt.legend(loc='lower right')    \n",
    "    \n",
    "    sns.despine(left=True,bottom=True)"
   ]
  },
  {
   "cell_type": "code",
   "execution_count": 13,
   "id": "3fdd6da1",
   "metadata": {},
   "outputs": [],
   "source": [
    "preprocess_pipe = make_pipeline(MinMaxScaler())"
   ]
  },
  {
   "cell_type": "code",
   "execution_count": 14,
   "id": "66b7305c",
   "metadata": {},
   "outputs": [],
   "source": [
    "#create pipeline\n",
    "lr_pipe = make_pipeline(LogisticRegression(max_iter=200, random_state = 42))\n",
    "    \n",
    "\n",
    "# define grid params for logistic regression\n",
    "lr_params = {\n",
    "    'logisticregression__C': [0.02, 0.05, 0.1],\n",
    "    'logisticregression__solver' : ['newton-cg','saga', 'sag', 'lbfgs'],\n",
    "    'logisticregression__multi_class': ['multinomial', 'ovr', 'auto'],\n",
    "    'logisticregression__penalty':['l1','l2','elasticnet'],\n",
    "    'logisticregression__l1_ratio':[None, 0.25,0.5,0.75],\n",
    "    'logisticregression__class_weight':[None, 'balanced']\n",
    "}\n",
    "\n",
    "# Instantiate GridSearchCV\n",
    "# Due to imbalanced data, scoring = roc & auc\n",
    "grid_lr = GridSearchCV(lr_pipe, param_grid = lr_params, verbose = 1, n_jobs=-1, cv=5, scoring='roc_auc')"
   ]
  },
  {
   "cell_type": "code",
   "execution_count": 16,
   "id": "f0e79646",
   "metadata": {},
   "outputs": [],
   "source": [
    "x_train_t = preprocess_pipe.fit_transform(x_train)\n",
    "x_test_t = preprocess_pipe.transform(x_test)"
   ]
  },
  {
   "cell_type": "code",
   "execution_count": 17,
   "id": "3869170d",
   "metadata": {},
   "outputs": [
    {
     "name": "stdout",
     "output_type": "stream",
     "text": [
      "Fitting 5 folds for each of 864 candidates, totalling 4320 fits\n"
     ]
    },
    {
     "data": {
      "text/plain": [
       "GridSearchCV(cv=5,\n",
       "             estimator=Pipeline(steps=[('logisticregression',\n",
       "                                        LogisticRegression(max_iter=200,\n",
       "                                                           random_state=42))]),\n",
       "             n_jobs=-1,\n",
       "             param_grid={'logisticregression__C': [0.02, 0.05, 0.1],\n",
       "                         'logisticregression__class_weight': [None, 'balanced'],\n",
       "                         'logisticregression__l1_ratio': [None, 0.25, 0.5,\n",
       "                                                          0.75],\n",
       "                         'logisticregression__multi_class': ['multinomial',\n",
       "                                                             'ovr', 'auto'],\n",
       "                         'logisticregression__penalty': ['l1', 'l2',\n",
       "                                                         'elasticnet'],\n",
       "                         'logisticregression__solver': ['newton-cg', 'saga',\n",
       "                                                        'sag', 'lbfgs']},\n",
       "             scoring='roc_auc', verbose=1)"
      ]
     },
     "execution_count": 17,
     "metadata": {},
     "output_type": "execute_result"
    }
   ],
   "source": [
    "grid_lr.fit(x_train_t,y_train)"
   ]
  },
  {
   "cell_type": "code",
   "execution_count": 18,
   "id": "d5b53a91",
   "metadata": {},
   "outputs": [
    {
     "name": "stdout",
     "output_type": "stream",
     "text": [
      "best score 0.5755182247122014\n",
      "best params {'logisticregression__C': 0.1, 'logisticregression__class_weight': 'balanced', 'logisticregression__l1_ratio': None, 'logisticregression__multi_class': 'multinomial', 'logisticregression__penalty': 'l2', 'logisticregression__solver': 'lbfgs'}\n"
     ]
    }
   ],
   "source": [
    "print(\"best score\", grid_lr.best_score_)\n",
    "print(\"best params\", grid_lr.best_params_)"
   ]
  },
  {
   "cell_type": "code",
   "execution_count": 19,
   "id": "438cbe4f",
   "metadata": {},
   "outputs": [
    {
     "name": "stdout",
     "output_type": "stream",
     "text": [
      "Training Score: 0.5888424015753517\n",
      "Testing Score: 0.572476314956022\n",
      "\n",
      "\n",
      "              precision    recall  f1-score   support\n",
      "\n",
      "         0.0       0.89      0.56      0.69      2013\n",
      "         1.0       0.16      0.53      0.24       309\n",
      "\n",
      "    accuracy                           0.56      2322\n",
      "   macro avg       0.52      0.55      0.47      2322\n",
      "weighted avg       0.79      0.56      0.63      2322\n",
      "\n"
     ]
    },
    {
     "data": {
      "image/png": "[encoded data removed]",
      "text/plain": [
       "<Figure size 432x288 with 2 Axes>"
      ]
     },
     "metadata": {
      "needs_background": "light"
     },
     "output_type": "display_data"
    }
   ],
   "source": [
    "score(grid_lr, x_train_t, x_test_t)"
   ]
  },
  {
   "cell_type": "code",
   "execution_count": 20,
   "id": "bf8137ca",
   "metadata": {},
   "outputs": [
    {
     "data": {
      "image/png": "[encoded data removed]",
      "text/plain": [
       "<Figure size 1152x720 with 1 Axes>"
      ]
     },
     "metadata": {
      "needs_background": "light"
     },
     "output_type": "display_data"
    }
   ],
   "source": [
    "roc(grid_lr,\"LogisticRegression\", x_train_t, x_test_t)"
   ]
  },
  {
   "cell_type": "code",
   "execution_count": 21,
   "id": "d68a0c77",
   "metadata": {},
   "outputs": [
    {
     "data": {
      "text/plain": [
       "array([ 0.27076999,  0.94402332,  0.13887199, -0.07298678, -0.29169212,\n",
       "       -0.22669196, -0.18449999, -0.02579849, -0.05555192,  0.17167563,\n",
       "        0.0389807 ])"
      ]
     },
     "execution_count": 21,
     "metadata": {},
     "output_type": "execute_result"
    }
   ],
   "source": [
    "importance = grid_lr.best_estimator_.named_steps['logisticregression'].coef_[0]\n",
    "importance"
   ]
  },
  {
   "cell_type": "code",
   "execution_count": 22,
   "id": "0345f821",
   "metadata": {},
   "outputs": [],
   "source": [
    "feature_importance = pd.DataFrame({'features' :x_train.columns,\n",
    "                                   'coefficient' : abs(importance)}).sort_values(by='coefficient', ascending = False)"
   ]
  },
  {
   "cell_type": "code",
   "execution_count": 23,
   "id": "90042bc9",
   "metadata": {},
   "outputs": [
    {
     "data": {
      "image/png": "[encoded data removed]",
      "text/plain": [
       "<Figure size 1080x1152 with 1 Axes>"
      ]
     },
     "metadata": {
      "needs_background": "light"
     },
     "output_type": "display_data"
    }
   ],
   "source": [
    "plt.figure(figsize = (15,16))  \n",
    "ax = sns.barplot(y= feature_importance['features'], x = feature_importance['coefficient'],data = feature_importance)\n",
    "plt.title('Logistic Regression feature (Top 10)', fontsize = 13)\n",
    "rects = ax.patches\n",
    "\n",
    "# For each bar: Place a label\n",
    "for rect in rects:\n",
    "    # Get X and Y placement of label from rect.\n",
    "    x_value = rect.get_width()\n",
    "    y_value = rect.get_y() + rect.get_height() / 2\n",
    "\n",
    "    # Number of points between bar and label. \n",
    "    space = 5\n",
    "\n",
    "    # Vertical alignment.\n",
    "    ha = 'left'\n",
    "\n",
    "    # Use X value as label and format number with one decimal place\n",
    "    label = \"{:.3f}\".format(x_value)\n",
    "\n",
    "    # Create annotation\n",
    "    plt.annotate(\n",
    "        label,                      # Use `label` as label\n",
    "        (x_value, y_value),         # Place label at end of the bar\n",
    "        xytext=(space, 0),          # Horizontally shift label by `space`\n",
    "        textcoords=\"offset points\", # Interpret `xytext` as offset in points\n",
    "        va='center',                # Vertically center label\n",
    "        ha=ha)                      # Horizontally align label differently for\n",
    "                                    # positive and negative values.\n",
    "\n",
    "plt.show()"
   ]
  },
  {
   "cell_type": "markdown",
   "id": "d497a0f6",
   "metadata": {},
   "source": [
    "## Random Forest"
   ]
  },
  {
   "cell_type": "code",
   "execution_count": 24,
   "id": "3a97bbb7",
   "metadata": {},
   "outputs": [],
   "source": [
    "# create modelling pipeline with SMOTE to deal with imbalanced classes\n",
    "\n",
    "rf_pipe = make_pipeline(RandomForestClassifier(random_state=42))\n",
    "\n",
    "# define grid params for random forest classifier\n",
    "rf_params = {\n",
    "    'randomforestclassifier__n_estimators':[20,50,100],\n",
    "    'randomforestclassifier__max_depth':[5,20,50],\n",
    "    'randomforestclassifier__criterion':['gini','entropy'],\n",
    "    'randomforestclassifier__max_leaf_nodes':[5,10,15],\n",
    "    'randomforestclassifier__class_weight':['balanced','balanced_subsample'],\n",
    "}\n",
    "\n",
    "# Instantiate GridSearchCV\n",
    "# Due to imbalanced data, scoring = roc & auc\n",
    "grid_rf = GridSearchCV(rf_pipe, param_grid = rf_params, verbose = 1, n_jobs=-1, cv=5, scoring='roc_auc')"
   ]
  },
  {
   "cell_type": "code",
   "execution_count": 25,
   "id": "7d3b6adf",
   "metadata": {},
   "outputs": [
    {
     "name": "stdout",
     "output_type": "stream",
     "text": [
      "Fitting 5 folds for each of 108 candidates, totalling 540 fits\n"
     ]
    },
    {
     "data": {
      "text/plain": [
       "GridSearchCV(cv=5,\n",
       "             estimator=Pipeline(steps=[('randomforestclassifier',\n",
       "                                        RandomForestClassifier(random_state=42))]),\n",
       "             n_jobs=-1,\n",
       "             param_grid={'randomforestclassifier__class_weight': ['balanced',\n",
       "                                                                  'balanced_subsample'],\n",
       "                         'randomforestclassifier__criterion': ['gini',\n",
       "                                                               'entropy'],\n",
       "                         'randomforestclassifier__max_depth': [5, 20, 50],\n",
       "                         'randomforestclassifier__max_leaf_nodes': [5, 10, 15],\n",
       "                         'randomforestclassifier__n_estimators': [20, 50, 100]},\n",
       "             scoring='roc_auc', verbose=1)"
      ]
     },
     "execution_count": 25,
     "metadata": {},
     "output_type": "execute_result"
    }
   ],
   "source": [
    "grid_rf.fit(x_train_t,y_train)"
   ]
  },
  {
   "cell_type": "code",
   "execution_count": 26,
   "id": "826e0bdd",
   "metadata": {},
   "outputs": [
    {
     "name": "stdout",
     "output_type": "stream",
     "text": [
      "best score 0.5888864801103031\n",
      "best params {'randomforestclassifier__class_weight': 'balanced', 'randomforestclassifier__criterion': 'entropy', 'randomforestclassifier__max_depth': 5, 'randomforestclassifier__max_leaf_nodes': 15, 'randomforestclassifier__n_estimators': 20}\n"
     ]
    }
   ],
   "source": [
    "print(\"best score\", grid_rf.best_score_)\n",
    "print(\"best params\", grid_rf.best_params_)"
   ]
  },
  {
   "cell_type": "code",
   "execution_count": 27,
   "id": "d401418e",
   "metadata": {},
   "outputs": [
    {
     "name": "stdout",
     "output_type": "stream",
     "text": [
      "Training Score: 0.6879861559994183\n",
      "Testing Score: 0.6059850454248035\n",
      "\n",
      "\n",
      "              precision    recall  f1-score   support\n",
      "\n",
      "         0.0       0.89      0.66      0.76      2013\n",
      "         1.0       0.18      0.49      0.26       309\n",
      "\n",
      "    accuracy                           0.64      2322\n",
      "   macro avg       0.54      0.57      0.51      2322\n",
      "weighted avg       0.80      0.64      0.69      2322\n",
      "\n"
     ]
    },
    {
     "data": {
      "image/png": "[encoded data removed]",
      "text/plain": [
       "<Figure size 432x288 with 2 Axes>"
      ]
     },
     "metadata": {
      "needs_background": "light"
     },
     "output_type": "display_data"
    }
   ],
   "source": [
    "score(grid_rf, x_train_t, x_test_t)"
   ]
  },
  {
   "cell_type": "code",
   "execution_count": 28,
   "id": "f982598d",
   "metadata": {},
   "outputs": [
    {
     "data": {
      "image/png": "[encoded data removed]",
      "text/plain": [
       "<Figure size 1152x720 with 1 Axes>"
      ]
     },
     "metadata": {
      "needs_background": "light"
     },
     "output_type": "display_data"
    }
   ],
   "source": [
    "roc(grid_rf,\"RandomForestClassifier\", x_train_t, x_test_t)"
   ]
  },
  {
   "cell_type": "code",
   "execution_count": 29,
   "id": "0db448da",
   "metadata": {},
   "outputs": [
    {
     "data": {
      "text/plain": [
       "array([0.1253466 , 0.09167175, 0.12349832, 0.04846979, 0.01455884,\n",
       "       0.12101685, 0.11424772, 0.10080318, 0.07738931, 0.12209528,\n",
       "       0.06090236])"
      ]
     },
     "execution_count": 29,
     "metadata": {},
     "output_type": "execute_result"
    }
   ],
   "source": [
    "importance = grid_rf.best_estimator_.named_steps.randomforestclassifier.feature_importances_\n",
    "importance"
   ]
  },
  {
   "cell_type": "code",
   "execution_count": 30,
   "id": "8667a99f",
   "metadata": {},
   "outputs": [],
   "source": [
    "feature_importance_rf = pd.DataFrame({'features' :x_train.columns,\n",
    "                                   'feature_importances' : abs(importance)}).sort_values(by='feature_importances',\n",
    "                                                                                         ascending = False)"
   ]
  },
  {
   "cell_type": "code",
   "execution_count": 31,
   "id": "79b643e1",
   "metadata": {},
   "outputs": [
    {
     "data": {
      "text/html": [
       "<div>\n",
       "<style scoped>\n",
       "    .dataframe tbody tr th:only-of-type {\n",
       "        vertical-align: middle;\n",
       "    }\n",
       "\n",
       "    .dataframe tbody tr th {\n",
       "        vertical-align: top;\n",
       "    }\n",
       "\n",
       "    .dataframe thead th {\n",
       "        text-align: right;\n",
       "    }\n",
       "</style>\n",
       "<table border=\"1\" class=\"dataframe\">\n",
       "  <thead>\n",
       "    <tr style=\"text-align: right;\">\n",
       "      <th></th>\n",
       "      <th>features</th>\n",
       "      <th>feature_importances</th>\n",
       "    </tr>\n",
       "  </thead>\n",
       "  <tbody>\n",
       "    <tr>\n",
       "      <th>0</th>\n",
       "      <td>crsdeptime</td>\n",
       "      <td>0.125347</td>\n",
       "    </tr>\n",
       "    <tr>\n",
       "      <th>2</th>\n",
       "      <td>crsarrtime</td>\n",
       "      <td>0.123498</td>\n",
       "    </tr>\n",
       "    <tr>\n",
       "      <th>9</th>\n",
       "      <td>dayofweek</td>\n",
       "      <td>0.122095</td>\n",
       "    </tr>\n",
       "    <tr>\n",
       "      <th>5</th>\n",
       "      <td>distance</td>\n",
       "      <td>0.121017</td>\n",
       "    </tr>\n",
       "    <tr>\n",
       "      <th>6</th>\n",
       "      <td>month</td>\n",
       "      <td>0.114248</td>\n",
       "    </tr>\n",
       "    <tr>\n",
       "      <th>7</th>\n",
       "      <td>originairportid</td>\n",
       "      <td>0.100803</td>\n",
       "    </tr>\n",
       "    <tr>\n",
       "      <th>1</th>\n",
       "      <td>airtime</td>\n",
       "      <td>0.091672</td>\n",
       "    </tr>\n",
       "    <tr>\n",
       "      <th>8</th>\n",
       "      <td>destwac</td>\n",
       "      <td>0.077389</td>\n",
       "    </tr>\n",
       "    <tr>\n",
       "      <th>10</th>\n",
       "      <td>destairportid</td>\n",
       "      <td>0.060902</td>\n",
       "    </tr>\n",
       "    <tr>\n",
       "      <th>3</th>\n",
       "      <td>crselapsedtime</td>\n",
       "      <td>0.048470</td>\n",
       "    </tr>\n",
       "    <tr>\n",
       "      <th>4</th>\n",
       "      <td>distancegroup</td>\n",
       "      <td>0.014559</td>\n",
       "    </tr>\n",
       "  </tbody>\n",
       "</table>\n",
       "</div>"
      ],
      "text/plain": [
       "           features  feature_importances\n",
       "0        crsdeptime             0.125347\n",
       "2        crsarrtime             0.123498\n",
       "9         dayofweek             0.122095\n",
       "5          distance             0.121017\n",
       "6             month             0.114248\n",
       "7   originairportid             0.100803\n",
       "1           airtime             0.091672\n",
       "8           destwac             0.077389\n",
       "10    destairportid             0.060902\n",
       "3    crselapsedtime             0.048470\n",
       "4     distancegroup             0.014559"
      ]
     },
     "execution_count": 31,
     "metadata": {},
     "output_type": "execute_result"
    }
   ],
   "source": [
    "feature_importance_rf"
   ]
  },
  {
   "cell_type": "code",
   "execution_count": 32,
   "id": "0daa5772",
   "metadata": {},
   "outputs": [
    {
     "data": {
      "text/html": [
       "<div>\n",
       "<style scoped>\n",
       "    .dataframe tbody tr th:only-of-type {\n",
       "        vertical-align: middle;\n",
       "    }\n",
       "\n",
       "    .dataframe tbody tr th {\n",
       "        vertical-align: top;\n",
       "    }\n",
       "\n",
       "    .dataframe thead th {\n",
       "        text-align: right;\n",
       "    }\n",
       "</style>\n",
       "<table border=\"1\" class=\"dataframe\">\n",
       "  <thead>\n",
       "    <tr style=\"text-align: right;\">\n",
       "      <th></th>\n",
       "      <th>features</th>\n",
       "      <th>feature_importances</th>\n",
       "      <th>rank</th>\n",
       "    </tr>\n",
       "  </thead>\n",
       "  <tbody>\n",
       "    <tr>\n",
       "      <th>0</th>\n",
       "      <td>crsdeptime</td>\n",
       "      <td>0.125347</td>\n",
       "      <td>1.0</td>\n",
       "    </tr>\n",
       "    <tr>\n",
       "      <th>2</th>\n",
       "      <td>crsarrtime</td>\n",
       "      <td>0.123498</td>\n",
       "      <td>2.0</td>\n",
       "    </tr>\n",
       "    <tr>\n",
       "      <th>9</th>\n",
       "      <td>dayofweek</td>\n",
       "      <td>0.122095</td>\n",
       "      <td>3.0</td>\n",
       "    </tr>\n",
       "    <tr>\n",
       "      <th>5</th>\n",
       "      <td>distance</td>\n",
       "      <td>0.121017</td>\n",
       "      <td>4.0</td>\n",
       "    </tr>\n",
       "    <tr>\n",
       "      <th>6</th>\n",
       "      <td>month</td>\n",
       "      <td>0.114248</td>\n",
       "      <td>5.0</td>\n",
       "    </tr>\n",
       "    <tr>\n",
       "      <th>7</th>\n",
       "      <td>originairportid</td>\n",
       "      <td>0.100803</td>\n",
       "      <td>6.0</td>\n",
       "    </tr>\n",
       "    <tr>\n",
       "      <th>1</th>\n",
       "      <td>airtime</td>\n",
       "      <td>0.091672</td>\n",
       "      <td>7.0</td>\n",
       "    </tr>\n",
       "    <tr>\n",
       "      <th>8</th>\n",
       "      <td>destwac</td>\n",
       "      <td>0.077389</td>\n",
       "      <td>8.0</td>\n",
       "    </tr>\n",
       "    <tr>\n",
       "      <th>10</th>\n",
       "      <td>destairportid</td>\n",
       "      <td>0.060902</td>\n",
       "      <td>9.0</td>\n",
       "    </tr>\n",
       "    <tr>\n",
       "      <th>3</th>\n",
       "      <td>crselapsedtime</td>\n",
       "      <td>0.048470</td>\n",
       "      <td>10.0</td>\n",
       "    </tr>\n",
       "    <tr>\n",
       "      <th>4</th>\n",
       "      <td>distancegroup</td>\n",
       "      <td>0.014559</td>\n",
       "      <td>11.0</td>\n",
       "    </tr>\n",
       "  </tbody>\n",
       "</table>\n",
       "</div>"
      ],
      "text/plain": [
       "           features  feature_importances  rank\n",
       "0        crsdeptime             0.125347   1.0\n",
       "2        crsarrtime             0.123498   2.0\n",
       "9         dayofweek             0.122095   3.0\n",
       "5          distance             0.121017   4.0\n",
       "6             month             0.114248   5.0\n",
       "7   originairportid             0.100803   6.0\n",
       "1           airtime             0.091672   7.0\n",
       "8           destwac             0.077389   8.0\n",
       "10    destairportid             0.060902   9.0\n",
       "3    crselapsedtime             0.048470  10.0\n",
       "4     distancegroup             0.014559  11.0"
      ]
     },
     "execution_count": 32,
     "metadata": {},
     "output_type": "execute_result"
    }
   ],
   "source": [
    "feature_importance_rf['rank'] = feature_importance_rf['feature_importances'].rank(ascending = False)\n",
    "\n",
    "feature_importance_rf"
   ]
  },
  {
   "cell_type": "code",
   "execution_count": 33,
   "id": "afc0d888",
   "metadata": {},
   "outputs": [
    {
     "data": {
      "image/png": "[encoded data removed]",
      "text/plain": [
       "<Figure size 1080x1152 with 1 Axes>"
      ]
     },
     "metadata": {
      "needs_background": "light"
     },
     "output_type": "display_data"
    }
   ],
   "source": [
    "plt.figure(figsize = (15,16))  \n",
    "ax = sns.barplot(y= feature_importance_rf['features'], x = feature_importance_rf['feature_importances'],data = feature_importance_rf)\n",
    "plt.title('Random Forest Features (Top 10)', fontsize = 13)\n",
    "rects = ax.patches\n",
    "\n",
    "# For each bar: Place a label\n",
    "for rect in rects:\n",
    "    # Get X and Y placement of label from rect.\n",
    "    x_value = rect.get_width()\n",
    "    y_value = rect.get_y() + rect.get_height() / 2\n",
    "\n",
    "    # Number of points between bar and label. \n",
    "    space = 5\n",
    "\n",
    "    # Vertical alignment.\n",
    "    ha = 'left'\n",
    "\n",
    "    # Use X value as label and format number with one decimal place\n",
    "    label = \"{:.3f}\".format(x_value)\n",
    "\n",
    "    # Create annotation\n",
    "    plt.annotate(\n",
    "        label,                      # Use `label` as label\n",
    "        (x_value, y_value),         # Place label at end of the bar\n",
    "        xytext=(space, 0),          # Horizontally shift label by `space`\n",
    "        textcoords=\"offset points\", # Interpret `xytext` as offset in points\n",
    "        va='center',                # Vertically center label\n",
    "        ha=ha)                      # Horizontally align label differently for\n",
    "                                    # positive and negative values.\n",
    "\n",
    "plt.show()"
   ]
  },
  {
   "cell_type": "code",
   "execution_count": null,
   "id": "7c234a62",
   "metadata": {},
   "outputs": [],
   "source": []
  }
 ],
 "metadata": {
  "kernelspec": {
   "display_name": "Python 3",
   "language": "python",
   "name": "python3"
  },
  "language_info": {
   "codemirror_mode": {
    "name": "ipython",
    "version": 3
   },
   "file_extension": ".py",
   "mimetype": "text/x-python",
   "name": "python",
   "nbconvert_exporter": "python",
   "pygments_lexer": "ipython3",
   "version": "3.8.8"
  }
 },
 "nbformat": 4,
 "nbformat_minor": 5
}
