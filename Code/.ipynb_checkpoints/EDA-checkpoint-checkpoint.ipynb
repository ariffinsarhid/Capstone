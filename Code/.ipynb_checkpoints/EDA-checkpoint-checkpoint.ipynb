{
 "cells": [
  {
   "cell_type": "code",
   "execution_count": 1,
   "id": "d32ba529",
   "metadata": {
    "id": "d32ba529"
   },
   "outputs": [],
   "source": [
    "import pandas as pd\n",
    "import numpy as np\n",
    "import seaborn as sns\n",
    "import matplotlib as mpl\n",
    "import matplotlib.pyplot as plt\n",
    "import warnings\n",
    "warnings.simplefilter(action = 'ignore')\n",
    "import io\n",
    "import matplotlib.patches as mpatches\n",
    "from matplotlib.gridspec import GridSpec\n",
    "mpl.rc('patch', edgecolor = 'dimgray', linewidth=1)"
   ]
  },
  {
   "cell_type": "code",
   "execution_count": null,
   "id": "acfba6f9",
   "metadata": {
    "id": "acfba6f9"
   },
   "outputs": [],
   "source": [
    "df = pd.read_csv('https://raw.githubusercontent.com/ariffinsarhid/Predicting-Airline-On-Time-Performance-In-Progress-/main/Data/final_table.csv')"
   ]
  },
  {
   "cell_type": "code",
   "execution_count": null,
   "id": "f96a6136",
   "metadata": {
    "colab": {
     "base_uri": "https://localhost:8080/",
     "height": 1000
    },
    "id": "f96a6136",
    "outputId": "ee7d66f7-80b7-40df-a59f-27dd3c24c16d"
   },
   "outputs": [],
   "source": [
    "plt.figure(figsize = (50,50,))\n",
    "sns.set(font_scale = 2)\n",
    "sns.heatmap(df.corr(), square = True, annot = True, cmap ='coolwarm',annot_kws={\"size\": 16})"
   ]
  },
  {
   "cell_type": "code",
   "execution_count": null,
   "id": "_QZlJpcYrsKr",
   "metadata": {
    "id": "_QZlJpcYrsKr"
   },
   "outputs": [],
   "source": [
    "#plt.figure(figsize = (50,50,))\n",
    "#sns.set(font_scale = 2)\n",
    "#sns.pairplot(df)"
   ]
  },
  {
   "cell_type": "code",
   "execution_count": null,
   "id": "3011807c",
   "metadata": {
    "id": "3011807c"
   },
   "outputs": [],
   "source": [
    "df1 = df[(df['year'] == 2018)]\n",
    "df2 = df[(df['year'] == 2019)]\n",
    "df3 = df[(df['year'] == 2020)]"
   ]
  },
  {
   "cell_type": "code",
   "execution_count": null,
   "id": "60951896",
   "metadata": {
    "id": "60951896"
   },
   "outputs": [],
   "source": [
    "### We will look at the distribution of delays across airlines. First we will explore which airlines have the most delays\n",
    "df1['delayed'] = df1['arrdelay'].apply(lambda x:x >0)  #2018\n",
    "df2['delayed'] = df2['arrdelay'].apply(lambda x:x >0)  #2019\n",
    "df3['delayed'] = df3['arrdelay'].apply(lambda x:x >0)  #2020"
   ]
  },
  {
   "cell_type": "code",
   "execution_count": null,
   "id": "09b0b738",
   "metadata": {
    "colab": {
     "base_uri": "https://localhost:8080/"
    },
    "id": "09b0b738",
    "outputId": "5d79e2a9-2991-4797-c0a2-dac9af4b08e2"
   },
   "outputs": [],
   "source": [
    "delayed_flights_2018 = df1[(df1['delayed'] == True)]\n",
    "delayed_flights_2018['airline'].value_counts()"
   ]
  },
  {
   "cell_type": "code",
   "execution_count": null,
   "id": "ea831094",
   "metadata": {
    "colab": {
     "base_uri": "https://localhost:8080/"
    },
    "id": "ea831094",
    "outputId": "6d5e4d0f-701b-49b5-9422-cbe2292c29f8"
   },
   "outputs": [],
   "source": [
    "delayed_flights_2019 = df2[(df2['delayed'] == True)]\n",
    "delayed_flights_2019['airline'].value_counts()"
   ]
  },
  {
   "cell_type": "code",
   "execution_count": null,
   "id": "47d4b9de",
   "metadata": {
    "colab": {
     "base_uri": "https://localhost:8080/"
    },
    "id": "47d4b9de",
    "outputId": "4389a33a-3060-455d-b74c-9bd002240acf"
   },
   "outputs": [],
   "source": [
    "delayed_flights_2020 = df3[(df3['delayed']== True)]\n",
    "delayed_flights_2020['airline'].value_counts()"
   ]
  },
  {
   "cell_type": "code",
   "execution_count": null,
   "id": "49e40977",
   "metadata": {
    "colab": {
     "base_uri": "https://localhost:8080/",
     "height": 313
    },
    "id": "49e40977",
    "outputId": "62f9966b-24d6-416e-8651-9f87822aa815"
   },
   "outputs": [],
   "source": [
    "delayed_flights_2020.head()"
   ]
  },
  {
   "cell_type": "code",
   "execution_count": null,
   "id": "a34ec531",
   "metadata": {
    "id": "a34ec531"
   },
   "outputs": [],
   "source": [
    "delayed_by_carrier1 = df1.groupby(['airline', 'delayed']).size().unstack().reset_index()\n",
    "delayed_by_carrier2 = df2.groupby(['airline', 'delayed']).size().unstack().reset_index()\n",
    "delayed_by_carrier3 = df3.groupby(['airline', 'delayed']).size().unstack().reset_index()"
   ]
  },
  {
   "cell_type": "code",
   "execution_count": null,
   "id": "7d3211c1",
   "metadata": {
    "id": "7d3211c1"
   },
   "outputs": [],
   "source": [
    "delayed_by_carrier1['flight_count'] = (delayed_by_carrier1[False] + delayed_by_carrier1[True])\n",
    "delayed_by_carrier2['flight_count'] = (delayed_by_carrier2[False] + delayed_by_carrier2[True])\n",
    "delayed_by_carrier3['flight_count'] = (delayed_by_carrier3[False] + delayed_by_carrier3[True])"
   ]
  },
  {
   "cell_type": "markdown",
   "id": "-5cM41wfP4Hp",
   "metadata": {
    "id": "-5cM41wfP4Hp"
   },
   "source": [
    "Proportion delay in 2018"
   ]
  },
  {
   "cell_type": "code",
   "execution_count": null,
   "id": "d5966f91",
   "metadata": {
    "colab": {
     "base_uri": "https://localhost:8080/",
     "height": 614
    },
    "id": "d5966f91",
    "outputId": "ee5dc039-eb1e-4302-8ff5-60da6484c713"
   },
   "outputs": [],
   "source": [
    "### Calculate the proportion delay\n",
    "delayed_by_carrier1['proportion_delayed'] = delayed_by_carrier1[True] / delayed_by_carrier1['flight_count']\n",
    "delayed_by_carrier1.sort_values('proportion_delayed', ascending= False)"
   ]
  },
  {
   "cell_type": "code",
   "execution_count": null,
   "id": "Mdb-pqpJqi5r",
   "metadata": {
    "colab": {
     "base_uri": "https://localhost:8080/",
     "height": 983
    },
    "id": "Mdb-pqpJqi5r",
    "outputId": "13e5ce3d-38f5-4b12-f124-f3a32cb2b199"
   },
   "outputs": [],
   "source": [
    "plt.figure(figsize = (15,16))\n",
    "ax = sns.barplot(x = delayed_by_carrier1['proportion_delayed'], y = delayed_by_carrier1['airline'])\n",
    "plt.xlabel('Proportion of Delay')\n",
    "ax.set_title('Proportion of Delay Per Airline (2018)') \n",
    "ax.set_xlim(0,.5)\n",
    "\n",
    "rects = ax.patches\n",
    "\n",
    "# For each bar: Place a label\n",
    "for rect in rects:\n",
    "    # Get X and Y placement of label from rect.\n",
    "    x_value = rect.get_width()\n",
    "    y_value = rect.get_y() + rect.get_height() / 2\n",
    "\n",
    "    # Number of points between bar and label. \n",
    "    space = 5\n",
    "\n",
    "    # Vertical alignment.\n",
    "    ha = 'left'\n",
    "\n",
    "    # Use X value as label and format number with one decimal place\n",
    "    label = \"{:.3f}\".format(x_value)\n",
    "\n",
    "    # Create annotation\n",
    "    plt.annotate(\n",
    "        label,                      # Use `label` as label\n",
    "        (x_value, y_value),         # Place label at end of the bar\n",
    "        xytext=(space, 0),          # Horizontally shift label by `space`\n",
    "        textcoords=\"offset points\", # Interpret `xytext` as offset in points\n",
    "        va='center',                # Vertically center label\n",
    "        ha=ha)                      # Horizontally align label differently for\n",
    "                                    # positive and negative values."
   ]
  },
  {
   "cell_type": "markdown",
   "id": "kyk4dZTiP7nO",
   "metadata": {
    "id": "kyk4dZTiP7nO"
   },
   "source": [
    "Proportion delay in 2019"
   ]
  },
  {
   "cell_type": "code",
   "execution_count": null,
   "id": "NMtgWKDMO8d2",
   "metadata": {
    "colab": {
     "base_uri": "https://localhost:8080/",
     "height": 582
    },
    "id": "NMtgWKDMO8d2",
    "outputId": "978578db-8f68-4057-9ea7-694b4496e5cb"
   },
   "outputs": [],
   "source": [
    "delayed_by_carrier2['proportion_delayed'] = delayed_by_carrier2[True] / delayed_by_carrier2['flight_count']\n",
    "delayed_by_carrier2.sort_values('proportion_delayed', ascending= False)"
   ]
  },
  {
   "cell_type": "code",
   "execution_count": null,
   "id": "2Iby1hAUyZE3",
   "metadata": {
    "colab": {
     "base_uri": "https://localhost:8080/",
     "height": 983
    },
    "id": "2Iby1hAUyZE3",
    "outputId": "f182cc3b-641b-492f-b5fe-fe3631b9a9ff"
   },
   "outputs": [],
   "source": [
    "plt.figure(figsize = (15,16))\n",
    "ax = sns.barplot(x = delayed_by_carrier2['proportion_delayed'], y = delayed_by_carrier2['airline'])\n",
    "plt.xlabel('Proportion of Delay')\n",
    "ax.set_title('Proportion of Delay Per Airline (2019)') \n",
    "ax.set_xlim(0,.5)\n",
    "\n",
    "rects = ax.patches\n",
    "\n",
    "# For each bar: Place a label\n",
    "for rect in rects:\n",
    "    # Get X and Y placement of label from rect.\n",
    "    x_value = rect.get_width()\n",
    "    y_value = rect.get_y() + rect.get_height() / 2\n",
    "\n",
    "    # Number of points between bar and label. \n",
    "    space = 5\n",
    "\n",
    "    # Vertical alignment.\n",
    "    ha = 'left'\n",
    "\n",
    "    # Use X value as label and format number with one decimal place\n",
    "    label = \"{:.3f}\".format(x_value)\n",
    "\n",
    "    # Create annotation\n",
    "    plt.annotate(\n",
    "        label,                      # Use `label` as label\n",
    "        (x_value, y_value),         # Place label at end of the bar\n",
    "        xytext=(space, 0),          # Horizontally shift label by `space`\n",
    "        textcoords=\"offset points\", # Interpret `xytext` as offset in points\n",
    "        va='center',                # Vertically center label\n",
    "        ha=ha)                      # Horizontally align label differently for\n",
    "                                    # positive and negative values."
   ]
  },
  {
   "cell_type": "markdown",
   "id": "BmIk0GhpQxkL",
   "metadata": {
    "id": "BmIk0GhpQxkL"
   },
   "source": [
    "Proportion Delay in 2020"
   ]
  },
  {
   "cell_type": "code",
   "execution_count": null,
   "id": "It9a97MdQz9C",
   "metadata": {
    "colab": {
     "base_uri": "https://localhost:8080/",
     "height": 582
    },
    "id": "It9a97MdQz9C",
    "outputId": "2f531220-7815-460d-e1d7-b00a5f1a201b"
   },
   "outputs": [],
   "source": [
    "delayed_by_carrier3['proportion_delayed'] = delayed_by_carrier3[True] / delayed_by_carrier3['flight_count']\n",
    "delayed_by_carrier3.sort_values('proportion_delayed', ascending= False)"
   ]
  },
  {
   "cell_type": "code",
   "execution_count": null,
   "id": "A8danL8Xy5YZ",
   "metadata": {
    "colab": {
     "base_uri": "https://localhost:8080/",
     "height": 983
    },
    "id": "A8danL8Xy5YZ",
    "outputId": "6f63e83a-f750-41ad-be55-adf3bac11866"
   },
   "outputs": [],
   "source": [
    "plt.figure(figsize = (15,16))\n",
    "ax = sns.barplot(x = delayed_by_carrier3['proportion_delayed'], y = delayed_by_carrier3['airline'])\n",
    "plt.xlabel('Proportion of Delay')\n",
    "ax.set_title('Proportion of Delay Per Airline (2020)') \n",
    "ax.set_xlim(0,.5)\n",
    "\n",
    "rects = ax.patches\n",
    "\n",
    "# For each bar: Place a label\n",
    "for rect in rects:\n",
    "    # Get X and Y placement of label from rect.\n",
    "    x_value = rect.get_width()\n",
    "    y_value = rect.get_y() + rect.get_height() / 2\n",
    "\n",
    "    # Number of points between bar and label. \n",
    "    space = 5\n",
    "\n",
    "    # Vertical alignment.\n",
    "    ha = 'left'\n",
    "\n",
    "    # Use X value as label and format number with one decimal place\n",
    "    label = \"{:.3f}\".format(x_value)\n",
    "\n",
    "    # Create annotation\n",
    "    plt.annotate(\n",
    "        label,                      # Use `label` as label\n",
    "        (x_value, y_value),         # Place label at end of the bar\n",
    "        xytext=(space, 0),          # Horizontally shift label by `space`\n",
    "        textcoords=\"offset points\", # Interpret `xytext` as offset in points\n",
    "        va='center',                # Vertically center label\n",
    "        ha=ha)                      # Horizontally align label differently for\n",
    "                                    # positive and negative values."
   ]
  },
  {
   "cell_type": "code",
   "execution_count": null,
   "id": "-OAmCPSNUYBx",
   "metadata": {
    "colab": {
     "base_uri": "https://localhost:8080/",
     "height": 313
    },
    "id": "-OAmCPSNUYBx",
    "outputId": "da8886d6-4d7e-46d8-8a64-ef954651d1a8"
   },
   "outputs": [],
   "source": [
    "df1.head()"
   ]
  },
  {
   "cell_type": "code",
   "execution_count": null,
   "id": "MZiOzFkNf5h1",
   "metadata": {
    "id": "MZiOzFkNf5h1"
   },
   "outputs": [],
   "source": [
    "## do visual for each airline delay"
   ]
  },
  {
   "cell_type": "code",
   "execution_count": null,
   "id": "HG3eN7RYSUj1",
   "metadata": {
    "colab": {
     "base_uri": "https://localhost:8080/",
     "height": 645
    },
    "id": "HG3eN7RYSUj1",
    "outputId": "d9e4d353-355e-47da-8e75-39cfe39d2118"
   },
   "outputs": [],
   "source": [
    "def get_stats(group):\n",
    "    return {'min': group.min(), 'max': group.max(),\n",
    "            'count': group.count(), 'mean': group.mean()}\n",
    "#_______________________________________________________________\n",
    "# Creation of a dataframe with statistical infos on each airline:\n",
    "global_stats1 = df1['arrdelay'].groupby(df1['airline']).apply(get_stats).unstack()\n",
    "global_stats1 = global_stats1.sort_values('count')\n",
    "global_stats1"
   ]
  },
  {
   "cell_type": "code",
   "execution_count": null,
   "id": "TNX_YYnJTJAx",
   "metadata": {
    "colab": {
     "base_uri": "https://localhost:8080/",
     "height": 614
    },
    "id": "TNX_YYnJTJAx",
    "outputId": "e5de684b-6f19-4ef9-c792-ff4f31ca0b25"
   },
   "outputs": [],
   "source": [
    "global_stats2 = df2['arrdelay'].groupby(df2['airline']).apply(get_stats).unstack()\n",
    "global_stats2 = global_stats2.sort_values('count')\n",
    "global_stats2"
   ]
  },
  {
   "cell_type": "code",
   "execution_count": null,
   "id": "H-l0FaNET7N7",
   "metadata": {
    "colab": {
     "base_uri": "https://localhost:8080/",
     "height": 614
    },
    "id": "H-l0FaNET7N7",
    "outputId": "848eb0bc-3ace-43b3-a604-5134d555cb3b"
   },
   "outputs": [],
   "source": [
    "global_stats3 = df3['arrdelay'].groupby(df3['airline']).apply(get_stats).unstack()\n",
    "global_stats3 = global_stats3.sort_values('count')\n",
    "global_stats3\n"
   ]
  },
  {
   "cell_type": "code",
   "execution_count": null,
   "id": "v2RLY9cSnKu-",
   "metadata": {
    "id": "v2RLY9cSnKu-"
   },
   "outputs": [],
   "source": [
    "abbr_companies = df.set_index('iata_code_reporting_airline')['airline'].to_dict()"
   ]
  },
  {
   "cell_type": "code",
   "execution_count": null,
   "id": "MXAfSObpnfH7",
   "metadata": {
    "colab": {
     "base_uri": "https://localhost:8080/"
    },
    "id": "MXAfSObpnfH7",
    "outputId": "7d50b6f9-236e-4540-b2ec-60cf7a68aa1e"
   },
   "outputs": [],
   "source": [
    "abbr_companies"
   ]
  },
  {
   "cell_type": "code",
   "execution_count": null,
   "id": "NJJOnVUuQR-Q",
   "metadata": {
    "colab": {
     "base_uri": "https://localhost:8080/",
     "height": 313
    },
    "id": "NJJOnVUuQR-Q",
    "outputId": "8516a0a7-4557-4116-bb2d-3f1ec475ed81"
   },
   "outputs": [],
   "source": [
    "df.head()"
   ]
  },
  {
   "cell_type": "code",
   "execution_count": null,
   "id": "JA5rDZ1elz2m",
   "metadata": {
    "colab": {
     "base_uri": "https://localhost:8080/",
     "height": 1000
    },
    "id": "JA5rDZ1elz2m",
    "outputId": "7ba5aa4d-34c8-4fb6-d952-ca72dc9405a3"
   },
   "outputs": [],
   "source": [
    "font = {'family' : 'normal', 'weight' : 'bold', 'size'   : 12}\n",
    "mpl.rc('font', **font)\n",
    "import matplotlib.patches as mpatches\n",
    "#__________________________________________________________________\n",
    "# I extract a subset of columns and redefine the airlines labeling \n",
    "df1_delay = df1.loc[:, ['airline', 'depdelay']]\n",
    "df1_delay['airline'] = df1['airline'].replace(abbr_companies)\n",
    "#________________________________________________________________________\n",
    "colors = ['royalblue', 'grey', 'wheat', 'c', 'firebrick', 'seagreen', 'lightskyblue',\n",
    "          'lightcoral', 'yellowgreen', 'gold', 'tomato', 'violet', 'aquamarine', 'chartreuse']\n",
    "#___________________________________\n",
    "fig = plt.figure(1, figsize=(20,20))\n",
    "gs=GridSpec(2,2)             \n",
    "ax1=fig.add_subplot(gs[0,0]) \n",
    "ax2=fig.add_subplot(gs[0,1]) \n",
    "ax3=fig.add_subplot(gs[1,:]) \n",
    "\n",
    "#Pie chart nº1: nb of flights\n",
    "#------------------------------\n",
    "labels = [s for s in  global_stats1.index]\n",
    "sizes  = global_stats1['count'].values\n",
    "explode = [0.3 if sizes[i] < 20000 else 0.0 for i in range(len(abbr_companies))]\n",
    "patches, texts, autotexts = ax1.pie(sizes, explode = explode,\n",
    "                                labels=labels, colors = colors,  autopct='%1.0f%%',\n",
    "                                shadow=False, startangle=0)\n",
    "for i in range(len(abbr_companies)): \n",
    "    texts[i].set_fontsize(14)\n",
    "ax1.axis('equal')\n",
    "ax1.set_title('% of flights per company', bbox={'facecolor':'midnightblue', 'pad':5},\n",
    "              color = 'w',fontsize=18)\n",
    "#----------------------------------------\n",
    "#Pie chart nº2: mean delay at departure\n",
    "#----------------------------------------\n",
    "sizes  = global_stats1['mean'].values\n",
    "sizes  = [max(s,0) for s in sizes]\n",
    "explode = [0.0 if sizes[i] < 20000 else 0.01 for i in range(len(abbr_companies))]\n",
    "patches, texts, autotexts = ax2.pie(sizes, explode = explode, labels = labels,\n",
    "                              colors = colors, shadow=False, startangle=0,\n",
    "                              autopct = lambda p :  '{:.0f}'.format(p * sum(sizes) / 100))\n",
    "for i in range(len(abbr_companies)): \n",
    "    texts[i].set_fontsize(14)\n",
    "ax2.axis('equal')\n",
    "ax2.set_title('Mean delay at origin', bbox={'facecolor':'midnightblue', 'pad':5},\n",
    "              color='w', fontsize=18)\n",
    "#------------------------------------------------------\n",
    "# striplot with all the values reported for the delays\n",
    "#___________________________________________________________________\n",
    "# I redefine the colors for correspondance with the pie charts\n",
    "colors = ['firebrick', 'gold', 'lightcoral', 'aquamarine', 'c', 'yellowgreen', 'grey',\n",
    "          'seagreen', 'tomato', 'violet', 'wheat', 'chartreuse', 'lightskyblue', 'royalblue']\n",
    "#___________________________________________________________________\n",
    "ax3 = sns.stripplot(y=\"airline\", x=\"depdelay\", size = 4, palette = colors,\n",
    "                    data=df1, linewidth = 0.5,  jitter=True)\n",
    "plt.setp(ax3.get_xticklabels(), fontsize=14)\n",
    "plt.setp(ax3.get_yticklabels(), fontsize=14)\n",
    "ax3.set_xticklabels(['{:2.0f}h{:2.0f}m'.format(*[int(y) for y in divmod(x,60)])\n",
    "                         for x in ax3.get_xticks()])\n",
    "plt.xlabel('Departure Delay', fontsize=18, bbox={'facecolor':'midnightblue', 'pad':5},\n",
    "           color='w', labelpad=20)\n",
    "ax3.yaxis.label.set_visible(False)\n",
    "#________________________\n",
    "plt.tight_layout(w_pad=3) "
   ]
  },
  {
   "cell_type": "code",
   "execution_count": null,
   "id": "q3720gwls64Z",
   "metadata": {
    "colab": {
     "base_uri": "https://localhost:8080/",
     "height": 313
    },
    "id": "q3720gwls64Z",
    "outputId": "5209f443-41c5-4fea-cea1-4f4502c236e5"
   },
   "outputs": [],
   "source": [
    "df1.head()"
   ]
  },
  {
   "cell_type": "code",
   "execution_count": null,
   "id": "EUpjqveCn__8",
   "metadata": {
    "colab": {
     "base_uri": "https://localhost:8080/"
    },
    "id": "EUpjqveCn__8",
    "outputId": "737165c9-a504-4e3d-aa5b-74381bf7724d"
   },
   "outputs": [],
   "source": [
    "#originairportid\t\n",
    "print('Number of airport:{}'.format(len(df1['origincity'].unique())))"
   ]
  },
  {
   "cell_type": "code",
   "execution_count": null,
   "id": "ODpGbavCIqag",
   "metadata": {
    "id": "ODpGbavCIqag"
   },
   "outputs": [],
   "source": [
    "origin_airport = dict()\n",
    "for carrier in abbr_companies.keys():\n",
    "  list_origin_airport = df1[df1['airline'] == carrier]['origincity'].unique()\n",
    "  origin_airport[carrier] = len(list_origin_airport)"
   ]
  },
  {
   "cell_type": "code",
   "execution_count": null,
   "id": "-zxMBEqNvu2n",
   "metadata": {
    "colab": {
     "base_uri": "https://localhost:8080/"
    },
    "id": "-zxMBEqNvu2n",
    "outputId": "d5b020ea-5dad-41f6-b97c-6140563847bb"
   },
   "outputs": [],
   "source": [
    "origin_airport[carrier]"
   ]
  },
  {
   "cell_type": "code",
   "execution_count": null,
   "id": "qzDg_KJQLbCn",
   "metadata": {
    "colab": {
     "base_uri": "https://localhost:8080/",
     "height": 403
    },
    "id": "qzDg_KJQLbCn",
    "outputId": "b502f2cc-779b-4561-d8cd-ffc63a0ec6cc"
   },
   "outputs": [],
   "source": [
    "test_df = pd.DataFrame.from_dict(origin_airport, orient='index')\n",
    "test_df.rename(columns = {0:'count'}, inplace = True)\n",
    "ax = test_df.plot(kind='bar', figsize = (8,3))\n",
    "labels = [abbr_companies[item.get_text()] for item in ax.get_xticklabels()]\n",
    "ax.set_xticklabels(labels)\n",
    "plt.ylabel('Number of airports visited', fontsize=14, weight = 'bold', labelpad=12)\n",
    "plt.setp(ax.get_xticklabels(), fontsize=11, ha = 'right', rotation = 80)\n",
    "ax.legend().set_visible(False)\n",
    "plt.show()"
   ]
  },
  {
   "cell_type": "code",
   "execution_count": null,
   "id": "5UWxdEt7KA0U",
   "metadata": {
    "colab": {
     "base_uri": "https://localhost:8080/",
     "height": 313
    },
    "id": "5UWxdEt7KA0U",
    "outputId": "36e7bad2-1bb3-4fab-c244-ab15c85c42d5"
   },
   "outputs": [],
   "source": [
    "df1.head()"
   ]
  },
  {
   "cell_type": "code",
   "execution_count": null,
   "id": "FBwKIydO3oXE",
   "metadata": {
    "colab": {
     "base_uri": "https://localhost:8080/"
    },
    "id": "FBwKIydO3oXE",
    "outputId": "e5028876-e8c2-420b-ee87-573a96c42383"
   },
   "outputs": [],
   "source": [
    "dist = df1.groupby('flights').agg({'distance':[np.max, np.min]})\n",
    "np.sum(dist['distance']['amax'] - dist['distance']['amin']) == 0"
   ]
  },
  {
   "cell_type": "code",
   "execution_count": null,
   "id": "AnjGFWPDCVw4",
   "metadata": {
    "id": "AnjGFWPDCVw4"
   },
   "outputs": [],
   "source": [
    "weekdays = [u\"Mon\", u\"Tue\", u\"Wed\", u\"Thu\", u\"Fr\", u\"Sat\", u\"Sun\"]\n",
    "months = [u\"Jan\", u\"Feb\", u\"Mar\", u\"Apr\", u\"May\", u\"Jun\", u\"Jul\", u\"Aug\", u\"Sep\", u\"Oct\", u\"Nov\", u\"Dec\"]"
   ]
  },
  {
   "cell_type": "code",
   "execution_count": null,
   "id": "PTREdceb5P0T",
   "metadata": {
    "colab": {
     "base_uri": "https://localhost:8080/",
     "height": 724
    },
    "id": "PTREdceb5P0T",
    "outputId": "32c268f4-0ae1-4595-bada-b4bd3e1016df"
   },
   "outputs": [],
   "source": [
    "plt.figure(figsize=(20,20))\n",
    "ax0 = plt.subplot(212)\n",
    "ax1 = ax0.twinx()\n",
    "line, = ax0.plot(range(1,8), df1.groupby(\"dayofweek\").agg({\"depdelay\": np.mean}), 'k:', color='r')\n",
    "line.set_label(\"average delayed by weekday\")\n",
    "ax0.legend(bbox_to_anchor=(.195, -0.13), frameon = False)\n",
    "\n",
    "line2, = ax1.plot(range(1,8), list(df1[\"dayofweek\"].value_counts().sort_index()), color='m')\n",
    "line2.set_label(\"total flights by weekday\")\n",
    "ax1.legend(bbox_to_anchor=(.14, -0.22), frameon = False)\n",
    "\n",
    "ax0.text(4, 6.5, 'Day of Week', ha='center')\n",
    "ax0.text(0.3, 10, 'Avg Delay', va='center', rotation='vertical')\n",
    "ax0.text(8,10, 'Total Count of Flight', va='center', rotation='vertical')\n",
    "plt.title(u\"Delay by Weekdays (2018)\")\n",
    "plt.xticks(range(1,8), weekdays)\n",
    "plt.show()"
   ]
  },
  {
   "cell_type": "code",
   "execution_count": null,
   "id": "QkoC5eGLhfDU",
   "metadata": {
    "colab": {
     "base_uri": "https://localhost:8080/",
     "height": 707
    },
    "id": "QkoC5eGLhfDU",
    "outputId": "9f66d40a-d44f-4caf-a1cf-6f1d55a14a00"
   },
   "outputs": [],
   "source": [
    "plt.figure(figsize=(20,20))\n",
    "ax0 = plt.subplot(212)\n",
    "ax1 = ax0.twinx()\n",
    "line, = ax0.plot(range(1,8), df2.groupby(\"dayofweek\").agg({\"depdelay\": np.mean}), 'k:', color='r')\n",
    "line.set_label(\"average delayed by weekday\")\n",
    "ax0.legend(bbox_to_anchor=(.195, -0.13), frameon = False)\n",
    "\n",
    "line2, = ax1.plot(range(1,8), list(df2[\"dayofweek\"].value_counts().sort_index()), color='m')\n",
    "line2.set_label(\"total flights by weekday\")\n",
    "ax1.legend(bbox_to_anchor=(.14, -0.22), frameon = False)\n",
    "\n",
    "ax0.text(4, 9.3, 'Day of Week', ha='center')\n",
    "ax0.text(0.002, 11.7, 'Avg Delay', va='center', rotation='vertical')\n",
    "ax0.text(8,11.7, 'Total Count of Flight', va='center', rotation='vertical')\n",
    "plt.title(u\"Delay by Weekdays (2019)\")\n",
    "plt.xticks(range(1,8), weekdays)\n",
    "plt.show()"
   ]
  },
  {
   "cell_type": "code",
   "execution_count": null,
   "id": "SnXfby_RisGX",
   "metadata": {
    "colab": {
     "base_uri": "https://localhost:8080/",
     "height": 707
    },
    "id": "SnXfby_RisGX",
    "outputId": "af3d4025-dc33-467e-b92e-0599019c141a"
   },
   "outputs": [],
   "source": [
    "plt.figure(figsize=(20,20))\n",
    "ax0 = plt.subplot(212)\n",
    "ax1 = ax0.twinx()\n",
    "line, = ax0.plot(range(1,8), df3.groupby(\"dayofweek\").agg({\"depdelay\": np.mean}), 'k:', color='r')\n",
    "line.set_label(\"average delayed by weekday\")\n",
    "ax0.legend(bbox_to_anchor=(.195, -0.13), frameon = False)\n",
    "\n",
    "line2, = ax1.plot(range(1,8), list(df3[\"dayofweek\"].value_counts().sort_index()), color='m')\n",
    "line2.set_label(\"total flights by weekday\")\n",
    "ax1.legend(bbox_to_anchor=(.14, -0.22), frameon = False)\n",
    "\n",
    "ax0.text(4, 0.8, 'Day of Week', ha='center')\n",
    "ax0.text(0.2, 5.7, 'Avg Delay', va='center', rotation='vertical')\n",
    "ax0.text(8,5.7, 'Total Count of Flight', va='center', rotation='vertical')\n",
    "plt.title(u\"Delay by Weekdays (2020)\")\n",
    "plt.xticks(range(1,8), weekdays)\n",
    "plt.show()"
   ]
  },
  {
   "cell_type": "code",
   "execution_count": null,
   "id": "7mNPDuYTBv-I",
   "metadata": {
    "colab": {
     "base_uri": "https://localhost:8080/",
     "height": 707
    },
    "id": "7mNPDuYTBv-I",
    "outputId": "1d6b4a25-d826-40b5-9571-67092f05c60d"
   },
   "outputs": [],
   "source": [
    "plt.figure(figsize=(20,20))\n",
    "ax0 = plt.subplot(212)\n",
    "ax1 = ax0.twinx()\n",
    "line, = ax0.plot(range(1,32), df1.groupby(\"dayofmonth\").agg({\"depdelay\": np.mean}), 'k:', color='r')\n",
    "line.set_label(\"average delayed by day of month\")\n",
    "ax0.legend(bbox_to_anchor=(.3, -0.13), frameon = False)\n",
    "\n",
    "line2, = ax1.plot(range(1,32), list(df1[\"dayofmonth\"].value_counts().sort_index()), color='m')\n",
    "line2.set_label(\"total flights by month\")\n",
    "ax1.legend(bbox_to_anchor=(.17, -0.22), frameon = False)\n",
    "\n",
    "ax0.text(15, 5, 'Day of Month', ha='center')\n",
    "ax0.text(-3, 10, 'Avg Delay', va='center', rotation='vertical')\n",
    "ax0.text(35,10, 'Total Count of Flight', va='center', rotation='vertical')\n",
    "plt.title(u\"Delay by Day of Month (2018)\")\n",
    "plt.show()"
   ]
  },
  {
   "cell_type": "code",
   "execution_count": null,
   "id": "Ig7Z4WKFlxNc",
   "metadata": {
    "colab": {
     "base_uri": "https://localhost:8080/",
     "height": 707
    },
    "id": "Ig7Z4WKFlxNc",
    "outputId": "5f38eedb-45d5-4751-9958-be8f71f5f75c"
   },
   "outputs": [],
   "source": [
    "plt.figure(figsize=(20,20))\n",
    "ax0 = plt.subplot(212)\n",
    "ax1 = ax0.twinx()\n",
    "line, = ax0.plot(range(1,32), df2.groupby(\"dayofmonth\").agg({\"depdelay\": np.mean}), 'k:', color='r')\n",
    "line.set_label(\"average delayed by day of month\")\n",
    "ax0.legend(bbox_to_anchor=(.3, -0.13), frameon = False)\n",
    "\n",
    "line2, = ax1.plot(range(1,32), list(df2[\"dayofmonth\"].value_counts().sort_index()), color='m')\n",
    "line2.set_label(\"total flights by month\")\n",
    "ax1.legend(bbox_to_anchor=(.17, -0.22), frameon = False)\n",
    "\n",
    "ax0.text(15, 5, 'Day of Month', ha='center')\n",
    "ax0.text(-3, 10, 'Avg Delay', va='center', rotation='vertical')\n",
    "ax0.text(35,10, 'Total Count of Flight', va='center', rotation='vertical')\n",
    "plt.title(u\"Delay by Day of Month (2019)\")\n",
    "plt.show()"
   ]
  },
  {
   "cell_type": "code",
   "execution_count": null,
   "id": "XKUfBR3amYGR",
   "metadata": {
    "colab": {
     "base_uri": "https://localhost:8080/",
     "height": 707
    },
    "id": "XKUfBR3amYGR",
    "outputId": "e6747e76-a6ef-4d0a-df94-a8450653aa81"
   },
   "outputs": [],
   "source": [
    "plt.figure(figsize=(20,20))\n",
    "ax0 = plt.subplot(212)\n",
    "ax1 = ax0.twinx()\n",
    "line, = ax0.plot(range(1,32), df3.groupby(\"dayofmonth\").agg({\"depdelay\": np.mean}), 'k:', color='r')\n",
    "line.set_label(\"average delayed by day of month\")\n",
    "ax0.legend(bbox_to_anchor=(.3, -0.13), frameon = False)\n",
    "\n",
    "line2, = ax1.plot(range(1,32), list(df3[\"dayofmonth\"].value_counts().sort_index()), color='m')\n",
    "line2.set_label(\"total flights by month\")\n",
    "ax1.legend(bbox_to_anchor=(.17, -0.22), frameon = False)\n",
    "\n",
    "ax0.text(15, 5, 'Day of Month', ha='center')\n",
    "ax0.text(-3, 10, 'Avg Delay', va='center', rotation='vertical')\n",
    "ax0.text(35,10, 'Total Count of Flight', va='center', rotation='vertical')\n",
    "plt.title(u\"Delay by Day of Month (2020)\")\n",
    "plt.show()"
   ]
  },
  {
   "cell_type": "code",
   "execution_count": null,
   "id": "EcqBOF9KF6iw",
   "metadata": {
    "id": "EcqBOF9KF6iw"
   },
   "outputs": [],
   "source": [
    "## Now let's look if distance has any effect on delay. For this we will take the whole dateframe of all 3 years. "
   ]
  },
  {
   "cell_type": "code",
   "execution_count": null,
   "id": "x7gmgTabguos",
   "metadata": {
    "colab": {
     "base_uri": "https://localhost:8080/",
     "height": 657
    },
    "id": "x7gmgTabguos",
    "outputId": "0139078e-b0a2-4a86-985d-917ef15ce754"
   },
   "outputs": [],
   "source": [
    "plt.figure(figsize=(20,10))\n",
    "plt.hist(df1['distance'][df1['depdel15'] == 0], bins=100, label=\"Not delayed\")\n",
    "plt.hist(df1['distance'][df1['depdel15'] == 1], bins=100, label=\"Delayed\")\n",
    "plt.title(u\"Dependency Delay on Flight Distance (2018)\")\n",
    "plt.xlabel(u\"Flight Distance\")\n",
    "plt.ylabel(u\"Flight Count\")\n",
    "plt.legend()\n",
    "plt.show()"
   ]
  },
  {
   "cell_type": "code",
   "execution_count": null,
   "id": "2nxiz6SshDE5",
   "metadata": {
    "colab": {
     "base_uri": "https://localhost:8080/",
     "height": 657
    },
    "id": "2nxiz6SshDE5",
    "outputId": "25a0167e-9bfd-4a00-d028-1278531f3116"
   },
   "outputs": [],
   "source": [
    "plt.figure(figsize=(20,10))\n",
    "plt.hist(df2['distance'][df2['depdel15'] == 0], bins=100, label=\"Not delayed\")\n",
    "plt.hist(df2['distance'][df2['depdel15'] == 1], bins=100, label=\"Delayed\")\n",
    "plt.title(u\"Dependency Delay on Flight Distance (2019)\")\n",
    "plt.xlabel(u\"Flight Distance\")\n",
    "plt.ylabel(u\"Flight Count\")\n",
    "plt.legend()\n",
    "plt.show()"
   ]
  },
  {
   "cell_type": "code",
   "execution_count": null,
   "id": "UlrmbHpvm2LN",
   "metadata": {
    "colab": {
     "base_uri": "https://localhost:8080/",
     "height": 657
    },
    "id": "UlrmbHpvm2LN",
    "outputId": "eaa406a1-a40a-4aaf-ec3d-d540878469bb"
   },
   "outputs": [],
   "source": [
    "plt.figure(figsize=(20,10))\n",
    "plt.hist(df3['distance'][df3['depdel15'] == 0], bins=100, label=\"Not delayed\")\n",
    "plt.hist(df3['distance'][df3['depdel15'] == 1], bins=100, label=\"Delayed\")\n",
    "plt.title(u\"Dependency Delay on Flight Distance (2020)\")\n",
    "plt.xlabel(u\"Flight Distance\")\n",
    "plt.ylabel(u\"Flight Count\")\n",
    "plt.legend()\n",
    "plt.show()"
   ]
  },
  {
   "cell_type": "code",
   "execution_count": null,
   "id": "pCwfiCV1m8A-",
   "metadata": {
    "id": "pCwfiCV1m8A-"
   },
   "outputs": [],
   "source": [
    "## Feature Engineering"
   ]
  },
  {
   "cell_type": "code",
   "execution_count": null,
   "id": "RPKEjKT4uXha",
   "metadata": {
    "colab": {
     "base_uri": "https://localhost:8080/",
     "height": 313
    },
    "id": "RPKEjKT4uXha",
    "outputId": "ff2ce642-e07c-48bc-b421-a9ebf31f3c5a"
   },
   "outputs": [],
   "source": [
    "df.head()"
   ]
  },
  {
   "cell_type": "code",
   "execution_count": null,
   "id": "_iF6EuSluVAN",
   "metadata": {
    "id": "_iF6EuSluVAN"
   },
   "outputs": [],
   "source": [
    "df = df.drop(columns = ['dot_id_reporting_airline', 'originairportseqid', 'origincitymarketid', 'originstatefips', 'originwac', 'destairportseqid',\n",
    "              'destcitymarketid', 'depdelay', 'depdelayminutes', 'depdel15', 'departuredelaygroups','taxiout', 'wheelsoff', 'wheelson',\n",
    "              'taxiin', 'arrtime', 'arrdelay', 'arrdelayminutes', 'arrivaldelaygroups', 'actualelapsedtime', 'carrierdelay','weatherdelay',\n",
    "              'nasdelay', 'securitydelay', 'lateaircraftdelay'])"
   ]
  },
  {
   "cell_type": "code",
   "execution_count": null,
   "id": "Lx_uN-cmwTG2",
   "metadata": {
    "colab": {
     "base_uri": "https://localhost:8080/",
     "height": 313
    },
    "id": "Lx_uN-cmwTG2",
    "outputId": "4b85b8e5-4ba6-45ce-f3b1-d0525d7c5d8c"
   },
   "outputs": [],
   "source": [
    "df.head()"
   ]
  },
  {
   "cell_type": "code",
   "execution_count": null,
   "id": "EtuLR3Bswj5f",
   "metadata": {
    "colab": {
     "base_uri": "https://localhost:8080/"
    },
    "id": "EtuLR3Bswj5f",
    "outputId": "2fc8fabd-d26f-4139-d040-149a241c8468"
   },
   "outputs": [],
   "source": [
    "df.info()"
   ]
  },
  {
   "cell_type": "code",
   "execution_count": null,
   "id": "TfPfICRrwl2B",
   "metadata": {
    "colab": {
     "base_uri": "https://localhost:8080/",
     "height": 320
    },
    "id": "TfPfICRrwl2B",
    "outputId": "c5cc3552-e529-4972-e6f1-8069eb374fb0"
   },
   "outputs": [],
   "source": [
    "df.describe()"
   ]
  },
  {
   "cell_type": "code",
   "execution_count": null,
   "id": "ISnW69JIwz9g",
   "metadata": {
    "id": "ISnW69JIwz9g"
   },
   "outputs": [],
   "source": [
    "df.to_csv('../Data/final_table.csv')"
   ]
  },
  {
   "cell_type": "code",
   "execution_count": null,
   "id": "95639c27",
   "metadata": {},
   "outputs": [],
   "source": []
  }
 ],
 "metadata": {
  "colab": {
   "name": "EDA-checkpoint.ipynb",
   "provenance": []
  },
  "kernelspec": {
   "display_name": "Python 3",
   "language": "python",
   "name": "python3"
  },
  "language_info": {
   "codemirror_mode": {
    "name": "ipython",
    "version": 3
   },
   "file_extension": ".py",
   "mimetype": "text/x-python",
   "name": "python",
   "nbconvert_exporter": "python",
   "pygments_lexer": "ipython3",
   "version": "3.8.8"
  }
 },
 "nbformat": 4,
 "nbformat_minor": 5
}
